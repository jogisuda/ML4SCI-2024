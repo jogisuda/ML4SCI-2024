{
 "cells": [
  {
   "cell_type": "markdown",
   "id": "18a285c3-c6c2-43c5-bd58-37f175f3944c",
   "metadata": {},
   "source": [
    "**Task I - simple quantum circuit and operations**\n",
    "\n"
   ]
  },
  {
   "cell_type": "markdown",
   "id": "a2005eea-ce8e-47a0-9b6c-750f56eae93a",
   "metadata": {},
   "source": [
    " **Part 1**\n",
    "*   With 5 qubits \n",
    "*   Apply Hadamard operation on every qubit \n",
    "*   Apply CNOT operation on (0, 1), (1,2), (2,3), (3,4) \n",
    "*   SWAP (0, 4) \n",
    "*   Rotate X with pi/2 on any qubit \n",
    "*   Plot the circuit \n",
    "\n"
   ]
  },
  {
   "cell_type": "code",
   "execution_count": 1,
   "id": "1ab0e634-d633-452d-ab0e-f62e69ec9417",
   "metadata": {},
   "outputs": [],
   "source": [
    "import torch\n",
    "import numpy as np\n",
    "import pennylane as qml\n",
    "\n",
    "n_qubits = 5 # (4 normal qubits + 1 ancilla)\n",
    "\n",
    "# here we begin part a), where we create a quantum device for 5 qubits.\n",
    "dev = qml.device(\"default.qubit\", wires=n_qubits)"
   ]
  },
  {
   "cell_type": "code",
   "execution_count": 2,
   "id": "599173f1-3a68-41dd-a112-ccd95e288b14",
   "metadata": {},
   "outputs": [],
   "source": [
    "device = torch.device(\"cuda:0\" if torch.cuda.is_available() else \"cpu\")"
   ]
  },
  {
   "cell_type": "code",
   "execution_count": 3,
   "id": "27c5d5b3-e1b6-4555-a5db-774c90a9ed81",
   "metadata": {},
   "outputs": [],
   "source": [
    "def H_layer(nqubits):\n",
    "    \"\"\"Layer of single-qubit Hadamard gates.\n",
    "    \"\"\"\n",
    "    for idx in range(nqubits):\n",
    "        qml.Hadamard(wires=idx)"
   ]
  },
  {
   "cell_type": "code",
   "execution_count": 4,
   "id": "4c7bb217-381e-411c-9f39-b058ce37404d",
   "metadata": {},
   "outputs": [],
   "source": [
    "@qml.qnode(dev, interface=\"torch\")\n",
    "def pqc_exercise_1(rx_angle):#(q_input_features, q_weights_flat):\n",
    "    \"\"\"\n",
    "    b) Apply Hadamard operation on every qubit \n",
    "    c) Apply CNOT operation on (0, 1), (1,2), (2,3), (3,4) \n",
    "    d) SWAP (0, 4) \n",
    "    e) Rotate X with pi/2 on any qubit \n",
    "\n",
    "    \"\"\"\n",
    "\n",
    "    # Apply Hadamard operation on every qubit \n",
    "    H_layer(n_qubits)\n",
    "\n",
    "    # Apply CNOT operation on (0, 1), (1,2), (2,3), (3,4) \n",
    "    for i in range(0, n_qubits - 1):  \n",
    "        qml.CNOT(wires=[i, i + 1])\n",
    "\n",
    "    # SWAP between first and fifth qubit.\n",
    "    qml.SWAP([0,4])\n",
    "\n",
    "    # Rotate over X on 0\n",
    "    qml.RX(rx_angle, wires=0)\n",
    "\n",
    "    # Expectation values in the Z basis\n",
    "    exp_vals = [qml.expval(qml.PauliZ(position)) for position in range(n_qubits)]\n",
    "    return tuple(exp_vals)"
   ]
  },
  {
   "cell_type": "code",
   "execution_count": 5,
   "id": "a6d3d3af-304a-44db-b8a0-722833a8e41b",
   "metadata": {},
   "outputs": [
    {
     "name": "stdout",
     "output_type": "stream",
     "text": [
      "0: ──H─╭●──────────╭SWAP──RX(1.57)─┤  <Z>\n",
      "1: ──H─╰X─╭●───────│───────────────┤  <Z>\n",
      "2: ──H────╰X─╭●────│───────────────┤  <Z>\n",
      "3: ──H───────╰X─╭●─│───────────────┤  <Z>\n",
      "4: ──H──────────╰X─╰SWAP───────────┤  <Z>\n"
     ]
    }
   ],
   "source": [
    "print(qml.draw(pqc_exercise_1)(rx_angle = np.pi/2))"
   ]
  },
  {
   "cell_type": "markdown",
   "id": "2b7102c6-4c7e-4dd8-96e7-aeada2415083",
   "metadata": {},
   "source": [
    "**Part 2**"
   ]
  },
  {
   "cell_type": "code",
   "execution_count": 6,
   "id": "f32a2dc3-12ad-4d53-a5cc-86a21ef6c412",
   "metadata": {},
   "outputs": [],
   "source": [
    "dev = qml.device(\"default.qubit\", wires=6)\n",
    "\n",
    "@qml.qnode(dev, interface=\"torch\")\n",
    "def pqc_exercise_2(rx_angle):\n",
    "    \"\"\"\n",
    "    a) Apply a Hadmard gate to the first qubit\n",
    "    b) rotate the second qubit by pi/3 around X\n",
    "    c) Apply Hadamard gate to the third and fourth qubit\n",
    "    d) Perform a swap test between the states of the first and second qubit |q1 q2> and the third and fourth qubit |q3 q4>\n",
    "\n",
    "    \"\"\"\n",
    "\n",
    "    # Reshape weights\n",
    "    # q_weights = q_weights_flat.reshape(q_depth, n_qubits)\n",
    "\n",
    "    # Apply Hadamard operation on the first qubit \n",
    "    qml.Hadamard(wires=2)\n",
    "\n",
    "    # Embed features in the quantum node\n",
    "    qml.RX(rx_angle, wires=3)\n",
    "\n",
    "    # Apply Hadamard operation on the third and fourth qubit \n",
    "    qml.Hadamard(wires=4)\n",
    "    qml.Hadamard(wires=5)\n",
    "\n",
    "    # SWAP test: 1st and 2nd qubit in |+>\n",
    "    qml.Hadamard(wires=0)\n",
    "    qml.Hadamard(wires=1)\n",
    "\n",
    "    # SWAP test between |q1 q2> and |q3 q4>\n",
    "    qml.CSWAP(wires=[0, 2, 3])\n",
    "    qml.CSWAP(wires=[1, 4, 5])\n",
    "\n",
    "    qml.Hadamard(wires=0)\n",
    "    qml.Hadamard(wires=1)\n",
    "\n",
    "    exp = [qml.expval(qml.PauliZ(0)), qml.expval(qml.PauliZ(1))] # expected value of ancilla qubit (0-th qubit)\n",
    "    \n",
    "    return tuple(exp)"
   ]
  },
  {
   "cell_type": "code",
   "execution_count": 7,
   "id": "54cb51b2-a94a-4afe-bbcd-81bd7b7459b5",
   "metadata": {},
   "outputs": [
    {
     "data": {
      "text/plain": [
       "tensor([0.5000, 1.0000], dtype=torch.float64)"
      ]
     },
     "execution_count": 7,
     "metadata": {},
     "output_type": "execute_result"
    }
   ],
   "source": [
    "pqc_exercise_2(np.pi/3)"
   ]
  },
  {
   "cell_type": "code",
   "execution_count": 8,
   "id": "54876964-7594-4234-a9bb-f2e9e5fa8b5a",
   "metadata": {},
   "outputs": [
    {
     "name": "stdout",
     "output_type": "stream",
     "text": [
      "0: ──H────────╭●─────H───────┤  <Z>\n",
      "1: ──H────────│─────╭●─────H─┤  <Z>\n",
      "2: ──H────────├SWAP─│────────┤     \n",
      "3: ──RX(1.05)─╰SWAP─│────────┤     \n",
      "4: ──H──────────────├SWAP────┤     \n",
      "5: ──H──────────────╰SWAP────┤     \n"
     ]
    }
   ],
   "source": [
    "print(qml.draw(pqc_exercise_2)(rx_angle = np.pi/3))"
   ]
  }
 ],
 "metadata": {
  "kernelspec": {
   "display_name": "quantum",
   "language": "python",
   "name": "quantum"
  },
  "language_info": {
   "codemirror_mode": {
    "name": "ipython",
    "version": 3
   },
   "file_extension": ".py",
   "mimetype": "text/x-python",
   "name": "python",
   "nbconvert_exporter": "python",
   "pygments_lexer": "ipython3",
   "version": "3.10.13"
  }
 },
 "nbformat": 4,
 "nbformat_minor": 5
}

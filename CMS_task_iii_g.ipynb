{
 "cells": [
  {
   "cell_type": "markdown",
   "metadata": {
    "id": "xShigmfLHZvg"
   },
   "source": [
    "# Task II - Jet Tagging with ParticleNet and LorentzNet\n",
    "\n",
    "For this task, I chose to start with ParticleNet, which preserves permutation symmetry and is known to work well for jet tagging: https://arxiv.org/abs/1902.08570\n",
    "\n",
    "* First, we begin by loading the data from the energyflow package, which contains the same data from the zenodo link. Once this is done, we will see the architecture sketched out, and then implement it using PyTorch geometric. I will train the classical GNN on quarks vs gluons, and we'll see what is the corresponding performance, where we consider accuracy, AUC, and the confusion matrix.\n",
    "\n",
    "* Once this is done, I chose to test the LorentzNet for this task (https://arxiv.org/abs/2201.08187), which is known to be data-efficient and have better generalization than ParticleNet, since it is not only permutation-invariant, but also Lorentz-equivariant. Since the latter is the symmetry of space-time, the performance should be higher, as we'll see. I took the code from the official implementation, which will be used as the **starting point** for **task VI**, where I sketch out and implement a Quantum Lie-Equivariant GNN (Q-LieEGNN), which is a simple modification of LorentzNet. The proposed idea is that, given some experimental data, an appropriate method can be used to find the corresponding Lie algebra basis, like in the LieGAN approach (https://arxiv.org/abs/2302.00236), or in the oracle-preserving latent flows, from Roy T. Forestano et al (https://arxiv.org/abs/2302.00806). From the generators, then, it is possible to find the corresponding metric $J$. The details are left in notebook corresponding to the Task VIII"
   ]
  },
  {
   "cell_type": "code",
   "execution_count": 1,
   "metadata": {
    "id": "zF5bw3m9UrMy"
   },
   "outputs": [
    {
     "name": "stdout",
     "output_type": "stream",
     "text": [
      "2.2.1\n"
     ]
    }
   ],
   "source": [
    "# Install required packages.\n",
    "import os\n",
    "import torch\n",
    "os.environ['TORCH'] = torch.__version__\n",
    "print(torch.__version__)\n",
    "# !pip install -q torch-scatter -f https://data.pyg.org/whl/torch-${TORCH}.html\n",
    "# !pip install -q torch-sparse -f https://data.pyg.org/whl/torch-${TORCH}.html\n",
    "# !pip install -q torch_cluster -f https://data.pyg.org/whl/torch-${TORCH}.html\n",
    "# !pip install -q git+https://github.com/pyg-team/pytorch_geometric.git\n",
    "# !pip install energyflow"
   ]
  },
  {
   "cell_type": "code",
   "execution_count": 20,
   "metadata": {
    "id": "nlCu-Wh5CaDF"
   },
   "outputs": [],
   "source": [
    "# Helper function for visualization.\n",
    "import matplotlib.pyplot as plt\n",
    "%matplotlib inline\n",
    "# Numpy, h5py, etc\n",
    "import numpy as np\n",
    "import h5py\n",
    "\n",
    "torch.cuda.empty_cache()"
   ]
  },
  {
   "cell_type": "markdown",
   "metadata": {
    "id": "DI3fN87dKVii"
   },
   "source": [
    "Set up a GPU for the training and check how much memory is available."
   ]
  },
  {
   "cell_type": "code",
   "execution_count": 3,
   "metadata": {
    "id": "Fv43DFEXHvoX"
   },
   "outputs": [
    {
     "name": "stdout",
     "output_type": "stream",
     "text": [
      "device :  cuda:0\n",
      "Total memory in Gb: 11.77\n",
      "Reserved memory in Gb: 0.00\n",
      "Allocated memory in Gb: 0.00\n",
      "Free memory in Gb: 0.00\n"
     ]
    }
   ],
   "source": [
    "def print_device_usage(device):\n",
    "  tot_memory = torch.cuda.get_device_properties(device).total_memory/1024.0**3\n",
    "  reserved_memory = torch.cuda.memory_reserved(device)/1024.0**3\n",
    "  allocated_memory = torch.cuda.memory_allocated(device)/1024.0**3\n",
    "  free_memory = reserved_memory-allocated_memory  # free inside reserved\n",
    "  print('Total memory in Gb: %.2f'%tot_memory)\n",
    "  print('Reserved memory in Gb: %.2f'%reserved_memory)\n",
    "  print('Allocated memory in Gb: %.2f'%allocated_memory)\n",
    "  print('Free memory in Gb: %.2f'%free_memory)\n",
    "\n",
    "\n",
    "# check if a GPU is available. Otherwise run on CPU\n",
    "device = 'cpu'\n",
    "args_cuda = torch.cuda.is_available()\n",
    "if args_cuda: device = \"cuda:0\"\n",
    "print('device : ',device)\n",
    "if args_cuda: print_device_usage(device)"
   ]
  },
  {
   "cell_type": "markdown",
   "metadata": {
    "id": "Id1c30h3KaPz"
   },
   "source": [
    "# Dataset exploration"
   ]
  },
  {
   "cell_type": "markdown",
   "metadata": {
    "id": "uu7Zo4rcmwEW"
   },
   "source": [
    "First, let's download the jet-tagging dataset"
   ]
  },
  {
   "cell_type": "markdown",
   "metadata": {
    "id": "mqsd_aP__RIi"
   },
   "source": [
    "Our labels are:\n",
    "*  0 for gluons\n",
    "*  1 for quarks"
   ]
  },
  {
   "cell_type": "code",
   "execution_count": 4,
   "metadata": {
    "id": "CSqhHCx2_T2W"
   },
   "outputs": [],
   "source": [
    "num_classes = 2 #len(np.unique(target))\n",
    "label_names= [\"gluon\", \"quark\"]"
   ]
  },
  {
   "cell_type": "code",
   "execution_count": 46,
   "metadata": {},
   "outputs": [
    {
     "data": {
      "text/plain": [
       "{'px': 0,\n",
       " 'py': 1,\n",
       " 'pz': 2,\n",
       " 'e': 3,\n",
       " 'erel': 4,\n",
       " 'pt': 5,\n",
       " 'ptrel': 6,\n",
       " 'eta': 7,\n",
       " 'etarel': 8,\n",
       " 'etarot': 9,\n",
       " 'phi': 10,\n",
       " 'phirel': 11,\n",
       " 'phirot': 12,\n",
       " 'deltaR': 13,\n",
       " 'costheta': 14,\n",
       " 'costhetarel': 15}"
      ]
     },
     "execution_count": 46,
     "metadata": {},
     "output_type": "execute_result"
    }
   ],
   "source": [
    "features_names"
   ]
  },
  {
   "cell_type": "markdown",
   "metadata": {
    "id": "Ik-6OX0LMJW7"
   },
   "source": [
    "Now let's inspect our data. Each jet is a point cloud/graph with 100 particles/nodes, each of which has 16 features. We have a double-index dataset: (jet index, particle index). The list is cut at 100 constituents per jet. If less constituents are present in the jet/point cloud, the dataset is completed filling it with 0s (zero padding). Note : zero-padding is not using during the training, it is only used to store the ragged dataset.\n",
    "\n"
   ]
  },
  {
   "cell_type": "code",
   "execution_count": 21,
   "metadata": {
    "id": "uS7gG-LjMIrd"
   },
   "outputs": [
    {
     "name": "stdout",
     "output_type": "stream",
     "text": [
      "Jets shape :  (50000, 100, 16)\n",
      "Target/Labels shape :  (50000,)\n",
      "Particles/Nodes features :  ['px', 'py', 'pz', 'e', 'erel', 'pt', 'ptrel', 'eta', 'etarel', 'etarot', 'phi', 'phirel', 'phirot', 'deltaR', 'costheta', 'costhetarel']\n"
     ]
    }
   ],
   "source": [
    "print('Jets shape : ',jetList.shape)\n",
    "print('Target/Labels shape : ',target.shape)\n",
    "print('Particles/Nodes features : ',list(features_names.keys()))"
   ]
  },
  {
   "cell_type": "markdown",
   "metadata": {},
   "source": [
    "## About the features\n",
    "\n",
    "As common in collider physics, a Cartesian coordinate system is used with the $z$ axis oriented along the beam axis, the $x$ axis on the horizontal plane, and the $y$ axis oriented upward. This way, $xy$ define defines the transverse plane, and $z$ defines the longitudinal direction. This can be seen in the following illustration (https://arxiv.org/pdf/2106.11535.pdf):\n",
    "\n",
    "<img src=\"figures/particle_cloud_mpgan.png\" width=65% style=\"margin-left:auto; margin-right:auto\">\n",
    "\n",
    "The features available in the zenodo link are the transverse momentum $p_{T}$, the projection of the particle momentum in the $xy$ plane; the pseudorapidity $\\eta = -log(tan(\\theta / 2))$; and finally, the azimuthal angle $\\phi$, computed with respect to the $x$-axis; and the particle id, that identifies each particle. The energyflow dataset provides this same dataset for us, and for this very first experiment I chose to work with just the 3 first features, for simplicity. In the next architecture, we convert these features into 4-momenta to exploit the instrinsic Lorentz symmetry."
   ]
  },
  {
   "cell_type": "markdown",
   "metadata": {},
   "source": [
    "## Loading the challenge dataset"
   ]
  },
  {
   "cell_type": "code",
   "execution_count": 5,
   "metadata": {},
   "outputs": [],
   "source": [
    "import energyflow\n",
    "X, y = energyflow.qg_jets.load(num_data=100000, pad=True, ncol=4, generator='pythia',\n",
    "                        with_bc=False, cache_dir='datasets/QMLHEP/quark_gluons')"
   ]
  },
  {
   "cell_type": "code",
   "execution_count": 6,
   "metadata": {},
   "outputs": [],
   "source": [
    "features_names = {'pt': 0, \n",
    "                  'rapidity': 1, \n",
    "                  'azimuthal angle': 2,\n",
    "                  'pdgid': 3}"
   ]
  },
  {
   "cell_type": "code",
   "execution_count": 7,
   "metadata": {},
   "outputs": [],
   "source": [
    "features_to_consider = 'pt,rapidity,azimuthal angle'.split(',')\n",
    "features_idx = [features_names[name] for name in features_to_consider]\n",
    "jetList = X[:,:,features_idx]"
   ]
  },
  {
   "cell_type": "code",
   "execution_count": 51,
   "metadata": {},
   "outputs": [
    {
     "name": "stdout",
     "output_type": "stream",
     "text": [
      "X has shape: (100000, 139, 4)\n",
      "y has shape: (100000,)\n"
     ]
    }
   ],
   "source": [
    "print(\"X has shape: {}\\ny has shape: {}\".format(X.shape, y.shape))"
   ]
  },
  {
   "cell_type": "code",
   "execution_count": 9,
   "metadata": {
    "collapsed": true,
    "jupyter": {
     "outputs_hidden": true
    },
    "scrolled": true
   },
   "outputs": [
    {
     "data": {
      "text/plain": [
       "array([[[ 0.26876914,  0.35690317,  4.74138734],\n",
       "        [ 0.16007638, -0.25560953,  4.5502291 ],\n",
       "        [ 1.14868731, -0.06243802,  4.50385377],\n",
       "        ...,\n",
       "        [ 0.        ,  0.        ,  0.        ],\n",
       "        [ 0.        ,  0.        ,  0.        ],\n",
       "        [ 0.        ,  0.        ,  0.        ]],\n",
       "\n",
       "       [[ 1.21266321, -0.11285309,  3.04708757],\n",
       "        [ 0.24089398, -0.01671749,  2.82705667],\n",
       "        [ 0.10277845, -0.08587205,  3.04180579],\n",
       "        ...,\n",
       "        [ 0.        ,  0.        ,  0.        ],\n",
       "        [ 0.        ,  0.        ,  0.        ],\n",
       "        [ 0.        ,  0.        ,  0.        ]],\n",
       "\n",
       "       [[ 0.21682942, -0.99705702,  0.53256891],\n",
       "        [ 0.2313594 , -1.59192211,  0.20290659],\n",
       "        [ 0.3415725 , -1.34588077,  0.17991001],\n",
       "        ...,\n",
       "        [ 0.        ,  0.        ,  0.        ],\n",
       "        [ 0.        ,  0.        ,  0.        ],\n",
       "        [ 0.        ,  0.        ,  0.        ]],\n",
       "\n",
       "       ...,\n",
       "\n",
       "       [[ 0.56230598,  1.30600679,  4.45584187],\n",
       "        [ 0.53372085,  1.27847224,  4.63907136],\n",
       "        [ 0.82217339,  0.71264558,  4.7073644 ],\n",
       "        ...,\n",
       "        [ 0.        ,  0.        ,  0.        ],\n",
       "        [ 0.        ,  0.        ,  0.        ],\n",
       "        [ 0.        ,  0.        ,  0.        ]],\n",
       "\n",
       "       [[ 0.23112434, -0.06347617,  3.95621834],\n",
       "        [ 1.28517426, -0.07184956,  3.79668946],\n",
       "        [ 2.69184416,  0.02798251,  4.10518218],\n",
       "        ...,\n",
       "        [ 0.        ,  0.        ,  0.        ],\n",
       "        [ 0.        ,  0.        ,  0.        ],\n",
       "        [ 0.        ,  0.        ,  0.        ]],\n",
       "\n",
       "       [[ 0.30414014,  0.72162897,  1.25271426],\n",
       "        [ 0.90064906,  1.19311927,  1.03353543],\n",
       "        [ 0.15484698,  1.37730434,  1.24606922],\n",
       "        ...,\n",
       "        [ 0.        ,  0.        ,  0.        ],\n",
       "        [ 0.        ,  0.        ,  0.        ],\n",
       "        [ 0.        ,  0.        ,  0.        ]]])"
      ]
     },
     "execution_count": 9,
     "metadata": {},
     "output_type": "execute_result"
    }
   ],
   "source": [
    "jetList"
   ]
  },
  {
   "cell_type": "code",
   "execution_count": 53,
   "metadata": {},
   "outputs": [],
   "source": [
    "features_to_consider = 'pt,rapidity,azimuthal angle,pdgid'.split(',')\n",
    "features_idx = [features_names[name] for name in features_to_consider]\n",
    "jetList = X[:,:,features_idx]"
   ]
  },
  {
   "cell_type": "markdown",
   "metadata": {
    "id": "hOmMwAOBRfPI"
   },
   "source": [
    "### Particle distributions\n",
    "Now let's plot the distributions of the jets consituents (particle/node features)."
   ]
  },
  {
   "cell_type": "code",
   "execution_count": 63,
   "metadata": {
    "id": "B2Mre28ScNWz"
   },
   "outputs": [],
   "source": [
    "#Let's define a helper function to plot the distibutions\n",
    "def plot_features(feat_idx, X_features, y, features_to_consider):\n",
    "    plt.subplots(figsize=(5,5))\n",
    "    for jet_type_idx in range(len(label_names)):\n",
    "        data_feature = X_features[:,:,feat_idx]\n",
    "        data_feature = data_feature[y == jet_type_idx]\n",
    "        # then plot the right quantity for the reduced array (merge all constituents together)\n",
    "        plt.hist(data_feature[:,feat_idx].flatten(), bins=100, density=True, histtype='step', fill=False, linewidth=1.5)\n",
    "    #plt.yscale('log', nonposy='clip')    \n",
    "    plt.legend(label_names, fontsize=12, frameon=False)  \n",
    "    plt.xlabel(features_to_consider[feat_idx], fontsize=15)\n",
    "    plt.ylabel('Prob. Density (a.u.)', fontsize=15)\n",
    "    plt.show()\n"
   ]
  },
  {
   "cell_type": "code",
   "execution_count": 64,
   "metadata": {
    "id": "TQwS0EgedHW_"
   },
   "outputs": [
    {
     "data": {
      "image/png": "[encoded data removed]",
      "text/plain": [
       "<Figure size 500x500 with 1 Axes>"
      ]
     },
     "metadata": {},
     "output_type": "display_data"
    },
    {
     "data": {
      "image/png": "[encoded data removed]",
      "text/plain": [
       "<Figure size 500x500 with 1 Axes>"
      ]
     },
     "metadata": {},
     "output_type": "display_data"
    },
    {
     "data": {
      "image/png": "[encoded data removed]",
      "text/plain": [
       "<Figure size 500x500 with 1 Axes>"
      ]
     },
     "metadata": {},
     "output_type": "display_data"
    }
   ],
   "source": [
    "# we now plot all the features\n",
    "for i in range(len(features_to_consider)):\n",
    "    plot_features(i, jetList, y, features_to_consider)\n"
   ]
  },
  {
   "cell_type": "markdown",
   "metadata": {
    "id": "AjsawpbUmioJ"
   },
   "source": [
    "# Starting with ParticleNet"
   ]
  },
  {
   "cell_type": "markdown",
   "metadata": {
    "id": "soejowXJjYMJ"
   },
   "source": [
    "ParticleNet relies on [Dynamic Graph Convolutional Neural Networks](https://dl.acm.org/doi/10.1145/3326362) (DGCNN), which are a special case of the GCN where the graph is re-built in the new ${h_i^{(k)}}$ latent space created by the node feature update. The DGCNN uses the EdgeConv operation to create a new latent graph where the original points are projected into a higher dimensional space. For this, for each point, its k-nearest neighbors are found and chosen to be connected to the given point. This can be thought as an analogy to the traditional convolution on images, where $3\\times3$ kernels learn correlations for the $8$ nearest neighbors for each pixel on the image, and then they produce a new grid after the convolution operation. This is based on the principle of locality, that says that images are made of local patterns, and so CNNs exploit this property, and analogously, the EdgeConv has the same mechanism. This is the architecture of ParticleNet:\n",
    "\n",
    "<div>\n",
    "<img src=\"https://raw.githubusercontent.com/jngadiub/ML_course_Pavia_23/main/neural-networks/particle-net-arch.png\" width=\"800\"/>\n",
    "</div>\n",
    "\n",
    "The advantage of such architecture is the natural invariance to permutations. In contrast to other NN flavours, like LSTMs, the ordering here doesn't matter. If we consider the example of text data, before the Transformers and LLMs wave, Recurrent Neural Networks (RNN) were a gold standard for natural language; but the ordering of each token plays a significant context in determining the semantic meaning of sentences. In the case of jets, this is not a good inductive bias, so GNNs are a better option.\n",
    "Here, I use the built in [EdgeConv](https://pytorch-geometric.readthedocs.io/en/latest/generated/torch_geometric.nn.conv.EdgeConv.html) module with the [`knn_graph`](https://pytorch-geometric.readthedocs.io/en/latest/generated/torch_geometric.nn.pool.knn_graph.html#torch_geometric.nn.pool.knn_graph) method implemented in PyG, with $k=16$ neighbors."
   ]
  },
  {
   "cell_type": "code",
   "execution_count": 10,
   "metadata": {
    "id": "4i43nLs2zB_f"
   },
   "outputs": [],
   "source": [
    "from torch import nn\n",
    "from torch_geometric.nn import EdgeConv, global_mean_pool\n",
    "from torch_cluster import knn_graph\n",
    "import torch.nn.functional as F\n",
    "\n",
    "\n",
    "class ParticleNetEdgeNet(nn.Module):\n",
    "    def __init__(self, in_size, layer_size):\n",
    "        super(ParticleNetEdgeNet, self).__init__()\n",
    "\n",
    "        layers = []\n",
    "\n",
    "        layers.append(nn.Linear(in_size * 2, layer_size)) #undirected graph\n",
    "        layers.append(nn.BatchNorm1d(layer_size))\n",
    "        layers.append(nn.ReLU())\n",
    "\n",
    "        for i in range(2):\n",
    "            layers.append(nn.Linear(layer_size, layer_size))\n",
    "            layers.append(nn.BatchNorm1d(layer_size))\n",
    "            layers.append(nn.ReLU())\n",
    "\n",
    "        self.model = nn.Sequential(*layers)\n",
    "\n",
    "    def forward(self, x):\n",
    "        return self.model(x)\n",
    "\n",
    "    def __repr__(self):\n",
    "        return \"{}(nn={})\".format(self.__class__.__name__, self.model)\n",
    "\n",
    "\n",
    "class ParticleNet(nn.Module):\n",
    "    def __init__(self, node_feat_size, num_classes=5):\n",
    "        super(ParticleNet, self).__init__()\n",
    "        self.node_feat_size = node_feat_size\n",
    "        self.num_classes = num_classes\n",
    "\n",
    "        self.k = 16 #for kNN algo\n",
    "        self.num_edge_convs = 3 #number of stacked EdgeConv blocks\n",
    "        self.kernel_sizes = [64, 128, 256] #number of units in the three linear transformation layers in each EdgeConv block\n",
    "        self.fc_size = 256 #units of the first FC layer after EdgeConv blocks\n",
    "        self.dropout = 0.1\n",
    "\n",
    "        self.edge_nets = nn.ModuleList()\n",
    "        self.edge_convs = nn.ModuleList()\n",
    "\n",
    "        self.kernel_sizes.insert(0, self.node_feat_size)\n",
    "        self.output_sizes = np.cumsum(self.kernel_sizes) #inputs include also previous layer output\n",
    "\n",
    "        #the first EdgeConv block\n",
    "        self.edge_nets.append(ParticleNetEdgeNet(self.node_feat_size, self.kernel_sizes[1]))\n",
    "        self.edge_convs.append(EdgeConv(self.edge_nets[-1], aggr=\"mean\"))\n",
    "\n",
    "        #stack other two EdgeConv blocks\n",
    "        for i in range(1, self.num_edge_convs):\n",
    "            print(\"self.num_edge_convs\",i)\n",
    "            # adding kernel sizes because of skip connections\n",
    "            self.edge_nets.append(\n",
    "                ParticleNetEdgeNet(self.output_sizes[i], self.kernel_sizes[i + 1])\n",
    "            )\n",
    "            self.edge_convs.append(EdgeConv(self.edge_nets[-1], aggr=\"mean\"))\n",
    "\n",
    "        self.fc1 = nn.Sequential(nn.Linear(self.output_sizes[-1], self.fc_size))\n",
    "\n",
    "        self.dropout_layer = nn.Dropout(p=self.dropout)\n",
    "\n",
    "        self.fc2 = nn.Linear(self.fc_size, self.num_classes)\n",
    "\n",
    "    def forward(self, data):\n",
    "        # input data is an instance of PyG Data() \n",
    "        x = data.x\n",
    "        batch = data.batch\n",
    "\n",
    "        for i in range(self.num_edge_convs):\n",
    "            # using only angular coords eta and phi for knn in the first edgeconv block, computing edge_index.\n",
    "            edge_index = (\n",
    "                knn_graph(x[:, :2], self.k, batch) if i == 0 else knn_graph(x, self.k, batch)\n",
    "            )\n",
    "            x = torch.cat(\n",
    "                (self.edge_convs[i](x, edge_index), x), dim=1\n",
    "            )  # concatenating with original features i.e. skip connection\n",
    "\n",
    "        x = global_mean_pool(x, batch) # this runs scatter under the hood\n",
    "        x = self.fc1(x)\n",
    "\n",
    "        return self.fc2(x)"
   ]
  },
  {
   "cell_type": "code",
   "execution_count": 12,
   "metadata": {
    "id": "78vgy877zCBJ"
   },
   "outputs": [
    {
     "name": "stderr",
     "output_type": "stream",
     "text": [
      "/tmp/ipykernel_177098/1953283684.py:13: DeprecationWarning: an integer is required (got type numpy.float64).  Implicit conversion to integers using __int__ is deprecated, and may be removed in a future version of Python.\n",
      "  y=torch.tensor(y[i_jet], dtype=torch.long),\n"
     ]
    }
   ],
   "source": [
    "from torch_geometric.data import Data\n",
    "\n",
    "num_jets = len(jetList) #np.minimum(50000, len(jetList)) #number of training+validation samples. We can start with 10000.\n",
    "jet_dataset = []\n",
    "for i_jet in range(num_jets):\n",
    "    # remove the zero padded particles\n",
    "    mask_real = np.where(jetList[i_jet,:, 0]>=0) # keep only particles where energy is > 0. e.g. real particles\n",
    "    \n",
    "    # mask_real = np.where(jetList[i_jet,:,features_to_consider.index('e')]>0) # keep only particles where energy is > 0. e.g. real particles\n",
    "    \n",
    "    num_nodes = len(mask_real[0])\n",
    "    d = Data(x=torch.tensor(jetList[i_jet,mask_real,:].squeeze(), dtype=torch.float), \n",
    "             y=torch.tensor(y[i_jet], dtype=torch.long),\n",
    "             num_nodes = num_nodes)\n",
    "    # typically we do no need to set the num_nodes explicitely and it is inferred automatically from the edge_index. \n",
    "    # however, in this case we do not pass edge_index, since we will build the graph dynamically inside the network, so we need to pass num_nodes.\n",
    "    jet_dataset.append(d)\n"
   ]
  },
  {
   "cell_type": "code",
   "execution_count": 13,
   "metadata": {
    "id": "jBvZXDaN4sVR"
   },
   "outputs": [],
   "source": [
    "from torch_geometric.loader import DataLoader\n",
    "from sklearn.model_selection import train_test_split\n",
    "\n",
    "# split the resulting dataset in training and validation datasets\n",
    "dataset_size = len(jet_dataset)\n",
    "val_split = 0.1\n",
    "val_size = int(val_split * dataset_size)\n",
    "train_size = dataset_size - val_size\n",
    "jet_dataset_train, jet_dataset_val = train_test_split(jet_dataset,test_size = val_size,train_size = train_size, shuffle=True)\n",
    "\n",
    "# create dataloaders\n",
    "batch_size = 128\n",
    "jets_loader_train = DataLoader(jet_dataset_train, batch_size=batch_size,shuffle=True)\n",
    "jets_loader_val = DataLoader(jet_dataset_val, batch_size=batch_size,shuffle=True)"
   ]
  },
  {
   "cell_type": "markdown",
   "metadata": {
    "id": "tEC27H3A8aOA"
   },
   "source": [
    "Let's have a look at what is yielded by the DataLoader"
   ]
  },
  {
   "cell_type": "code",
   "execution_count": 28,
   "metadata": {
    "id": "XuoYdg2sKc1B"
   },
   "outputs": [
    {
     "name": "stdout",
     "output_type": "stream",
     "text": [
      "DataBatch(x=[6533, 7], y=[128], num_nodes=6533, batch=[6533], ptr=[129])\n",
      "tensor([  0,   0,   0,  ..., 127, 127, 127])\n"
     ]
    }
   ],
   "source": [
    "for data in jets_loader_val:\n",
    "  print(data)\n",
    "  print(data.batch)\n",
    "  break"
   ]
  },
  {
   "cell_type": "markdown",
   "metadata": {},
   "source": [
    "### Finally, let's instantiate our model and look at the parameters"
   ]
  },
  {
   "cell_type": "code",
   "execution_count": 26,
   "metadata": {
    "id": "dSr265wc8fuz"
   },
   "outputs": [
    {
     "name": "stdout",
     "output_type": "stream",
     "text": [
      "self.num_edge_convs 1\n",
      "self.num_edge_convs 2\n"
     ]
    }
   ],
   "source": [
    "#Instantiate the model and move it to the device, define the optimizer and the loss function\n",
    "import torch.optim as optim\n",
    "\n",
    "gnn = ParticleNet(node_feat_size=len(features_to_consider), num_classes=num_classes)\n",
    "#print(gnn)\n",
    "gnn.to(device)\n",
    "\n",
    "loss_fn = nn.CrossEntropyLoss()\n",
    "optimizer = optim.SGD(gnn.parameters(), lr = 0.002)"
   ]
  },
  {
   "cell_type": "markdown",
   "metadata": {
    "id": "EKjxkqLAmCi9"
   },
   "source": [
    "Let's add a helper function that will count how many trainable parameters are in our graph neural network "
   ]
  },
  {
   "cell_type": "code",
   "execution_count": 189,
   "metadata": {
    "id": "TJXoSlzy5mQ6"
   },
   "outputs": [],
   "source": [
    "def model_summary(model):\n",
    "    model_params_list = list(model.named_parameters())\n",
    "    print(\"----------------------------------------------------------------\")\n",
    "    line_new = \"{:>20}  {:>25} {:>15}\".format(\"Layer.Parameter\", \"Param Tensor Shape\", \"Param #\")\n",
    "    print(line_new)\n",
    "    print(\"----------------------------------------------------------------\")\n",
    "    for elem in model_params_list:\n",
    "        p_name = elem[0] \n",
    "        p_shape = list(elem[1].size())\n",
    "        p_count = torch.tensor(elem[1].size()).prod().item()\n",
    "        line_new = \"{:>20}  {:>25} {:>15}\".format(p_name, str(p_shape), str(p_count))\n",
    "        print(line_new)\n",
    "    print(\"----------------------------------------------------------------\")\n",
    "    total_params = sum([param.nelement() for param in model.parameters()])\n",
    "    print(\"Total params:\", total_params)\n",
    "    num_trainable_params = sum(p.numel() for p in model.parameters() if p.requires_grad)\n",
    "    print(\"Trainable params:\", num_trainable_params)\n",
    "    print(\"Non-trainable params:\", total_params - num_trainable_params)"
   ]
  },
  {
   "cell_type": "code",
   "execution_count": 190,
   "metadata": {},
   "outputs": [
    {
     "name": "stdout",
     "output_type": "stream",
     "text": [
      "----------------------------------------------------------------\n",
      "     Layer.Parameter         Param Tensor Shape         Param #\n",
      "----------------------------------------------------------------\n",
      "edge_nets.0.model.0.weight                    [64, 6]             384\n",
      "edge_nets.0.model.0.bias                       [64]              64\n",
      "edge_nets.0.model.1.weight                       [64]              64\n",
      "edge_nets.0.model.1.bias                       [64]              64\n",
      "edge_nets.0.model.3.weight                   [64, 64]            4096\n",
      "edge_nets.0.model.3.bias                       [64]              64\n",
      "edge_nets.0.model.4.weight                       [64]              64\n",
      "edge_nets.0.model.4.bias                       [64]              64\n",
      "edge_nets.0.model.6.weight                   [64, 64]            4096\n",
      "edge_nets.0.model.6.bias                       [64]              64\n",
      "edge_nets.0.model.7.weight                       [64]              64\n",
      "edge_nets.0.model.7.bias                       [64]              64\n",
      "edge_nets.1.model.0.weight                 [128, 134]           17152\n",
      "edge_nets.1.model.0.bias                      [128]             128\n",
      "edge_nets.1.model.1.weight                      [128]             128\n",
      "edge_nets.1.model.1.bias                      [128]             128\n",
      "edge_nets.1.model.3.weight                 [128, 128]           16384\n",
      "edge_nets.1.model.3.bias                      [128]             128\n",
      "edge_nets.1.model.4.weight                      [128]             128\n",
      "edge_nets.1.model.4.bias                      [128]             128\n",
      "edge_nets.1.model.6.weight                 [128, 128]           16384\n",
      "edge_nets.1.model.6.bias                      [128]             128\n",
      "edge_nets.1.model.7.weight                      [128]             128\n",
      "edge_nets.1.model.7.bias                      [128]             128\n",
      "edge_nets.2.model.0.weight                 [256, 390]           99840\n",
      "edge_nets.2.model.0.bias                      [256]             256\n",
      "edge_nets.2.model.1.weight                      [256]             256\n",
      "edge_nets.2.model.1.bias                      [256]             256\n",
      "edge_nets.2.model.3.weight                 [256, 256]           65536\n",
      "edge_nets.2.model.3.bias                      [256]             256\n",
      "edge_nets.2.model.4.weight                      [256]             256\n",
      "edge_nets.2.model.4.bias                      [256]             256\n",
      "edge_nets.2.model.6.weight                 [256, 256]           65536\n",
      "edge_nets.2.model.6.bias                      [256]             256\n",
      "edge_nets.2.model.7.weight                      [256]             256\n",
      "edge_nets.2.model.7.bias                      [256]             256\n",
      "        fc1.0.weight                 [256, 451]          115456\n",
      "          fc1.0.bias                      [256]             256\n",
      "          fc2.weight                   [2, 256]             512\n",
      "            fc2.bias                        [2]               2\n",
      "----------------------------------------------------------------\n",
      "Total params: 409666\n",
      "Trainable params: 409666\n",
      "Non-trainable params: 0\n"
     ]
    }
   ],
   "source": [
    "model_summary(gnn)"
   ]
  },
  {
   "cell_type": "markdown",
   "metadata": {
    "id": "ylhqxDyhAG9I"
   },
   "source": [
    "Not the biggest model... will serve as a starting point for us. Now let's define the training and testing functions "
   ]
  },
  {
   "cell_type": "code",
   "execution_count": 17,
   "metadata": {
    "id": "x_wO_hPPCgAz"
   },
   "outputs": [],
   "source": [
    "import tqdm"
   ]
  },
  {
   "cell_type": "code",
   "execution_count": 18,
   "metadata": {
    "id": "wvZbwgQO8fzj"
   },
   "outputs": [],
   "source": [
    "def train_test_one_epoch(model,jets_loader, mode='train'):\n",
    "    if mode=='train':\n",
    "        model.train(True)\n",
    "    else:\n",
    "        model.train(False)\n",
    "\n",
    "    running_loss, running_correct = 0.,0.\n",
    "    tot_iter = len(jets_loader)\n",
    "    t = tqdm.tqdm(enumerate(jets_loader),total=tot_iter)\n",
    "\n",
    "    if mode == 'train':\n",
    "        for i, data in t:\n",
    "            inputs = data # For the inputs we are passing the whole Data() object\n",
    "            labels = data.y\n",
    "            inputs = inputs.to(device)\n",
    "            labels = labels.to(device)\n",
    "          \n",
    "            optimizer.zero_grad() # Clear gradients\n",
    "            outputs = gnn(inputs) # Perform a single forward pass\n",
    "            loss = loss_fn(outputs, labels) # Compute the loss\n",
    "            if mode=='train':\n",
    "                loss.backward()  # Derive gradients\n",
    "                optimizer.step() # Update parameters based on gradients.\n",
    "    \n",
    "            running_loss += loss.item() #.item() returns average loss over the batch \n",
    "            del loss\n",
    "            _, predicted = torch.max(F.softmax(outputs,dim=1).data, dim=1) # Adding softmax since there is none in the model, and taking the index of the highest probability.\n",
    "            running_correct += float(torch.sum(predicted == labels.data))\n",
    "    else:\n",
    "        with torch.no_grad():\n",
    "            for i, data in t:\n",
    "                inputs = data # For the inputs we are passing the whole Data() object\n",
    "                labels = data.y\n",
    "                inputs = inputs.to(device)\n",
    "                labels = labels.to(device)\n",
    "              \n",
    "                optimizer.zero_grad() # Clear gradients\n",
    "                outputs = gnn(inputs) # Perform a single forward pass\n",
    "                loss = loss_fn(outputs, labels) # Compute the loss\n",
    "                if mode=='train':\n",
    "                    loss.backward()  # Derive gradients\n",
    "                    optimizer.step() # Update parameters based on gradients.\n",
    "        \n",
    "                running_loss += loss.item() #.item() returns average loss over the batch \n",
    "                del loss\n",
    "                _, predicted = torch.max(F.softmax(outputs,dim=1).data, dim=1) # Adding softmax since there is none in the model, and taking the index of the highest probability.\n",
    "                running_correct += float(torch.sum(predicted == labels.data))\n",
    "    epoch_loss = running_loss / tot_iter\n",
    "    epoch_acc = running_correct / (tot_iter*batch_size) \n",
    "\n",
    "    return epoch_loss,epoch_acc"
   ]
  },
  {
   "cell_type": "code",
   "execution_count": 32,
   "metadata": {
    "id": "LGxbzq2J8f26"
   },
   "outputs": [
    {
     "name": "stdout",
     "output_type": "stream",
     "text": [
      "EPOCH 1:\n"
     ]
    },
    {
     "name": "stderr",
     "output_type": "stream",
     "text": [
      "100%|██████████| 704/704 [04:06<00:00,  2.86it/s]\n",
      "100%|██████████| 79/79 [00:16<00:00,  4.81it/s]\n"
     ]
    },
    {
     "name": "stdout",
     "output_type": "stream",
     "text": [
      "LOSS train 0.564, valid 0.504\n",
      "ACCURACY train 0.753, valid 0.753\n",
      "EPOCH 2:\n"
     ]
    },
    {
     "name": "stderr",
     "output_type": "stream",
     "text": [
      "100%|██████████| 704/704 [04:05<00:00,  2.87it/s]\n",
      "100%|██████████| 79/79 [00:16<00:00,  4.83it/s]\n"
     ]
    },
    {
     "name": "stdout",
     "output_type": "stream",
     "text": [
      "LOSS train 0.494, valid 0.487\n",
      "ACCURACY train 0.768, valid 0.762\n",
      "EPOCH 3:\n"
     ]
    },
    {
     "name": "stderr",
     "output_type": "stream",
     "text": [
      "100%|██████████| 704/704 [04:05<00:00,  2.87it/s]\n",
      "100%|██████████| 79/79 [00:16<00:00,  4.69it/s]\n"
     ]
    },
    {
     "name": "stdout",
     "output_type": "stream",
     "text": [
      "LOSS train 0.487, valid 0.484\n",
      "ACCURACY train 0.771, valid 0.764\n",
      "EPOCH 4:\n"
     ]
    },
    {
     "name": "stderr",
     "output_type": "stream",
     "text": [
      "100%|██████████| 704/704 [04:05<00:00,  2.86it/s]\n",
      "100%|██████████| 79/79 [00:16<00:00,  4.77it/s]\n"
     ]
    },
    {
     "name": "stdout",
     "output_type": "stream",
     "text": [
      "LOSS train 0.484, valid 0.483\n",
      "ACCURACY train 0.774, valid 0.760\n",
      "EPOCH 5:\n"
     ]
    },
    {
     "name": "stderr",
     "output_type": "stream",
     "text": [
      "100%|██████████| 704/704 [04:07<00:00,  2.85it/s]\n",
      "100%|██████████| 79/79 [00:16<00:00,  4.67it/s]\n"
     ]
    },
    {
     "name": "stdout",
     "output_type": "stream",
     "text": [
      "LOSS train 0.483, valid 0.482\n",
      "ACCURACY train 0.774, valid 0.764\n",
      "EPOCH 6:\n"
     ]
    },
    {
     "name": "stderr",
     "output_type": "stream",
     "text": [
      "100%|██████████| 704/704 [04:08<00:00,  2.83it/s]\n",
      "100%|██████████| 79/79 [00:16<00:00,  4.80it/s]\n"
     ]
    },
    {
     "name": "stdout",
     "output_type": "stream",
     "text": [
      "LOSS train 0.483, valid 0.482\n",
      "ACCURACY train 0.774, valid 0.763\n",
      "EPOCH 7:\n"
     ]
    },
    {
     "name": "stderr",
     "output_type": "stream",
     "text": [
      "100%|██████████| 704/704 [04:07<00:00,  2.84it/s]\n",
      "100%|██████████| 79/79 [00:16<00:00,  4.80it/s]\n"
     ]
    },
    {
     "name": "stdout",
     "output_type": "stream",
     "text": [
      "LOSS train 0.482, valid 0.489\n",
      "ACCURACY train 0.775, valid 0.759\n",
      "EPOCH 8:\n"
     ]
    },
    {
     "name": "stderr",
     "output_type": "stream",
     "text": [
      "100%|██████████| 704/704 [04:06<00:00,  2.85it/s]\n",
      "100%|██████████| 79/79 [00:16<00:00,  4.85it/s]\n"
     ]
    },
    {
     "name": "stdout",
     "output_type": "stream",
     "text": [
      "LOSS train 0.482, valid 0.479\n",
      "ACCURACY train 0.774, valid 0.764\n",
      "EPOCH 9:\n"
     ]
    },
    {
     "name": "stderr",
     "output_type": "stream",
     "text": [
      "100%|██████████| 704/704 [04:04<00:00,  2.88it/s]\n",
      "100%|██████████| 79/79 [00:16<00:00,  4.73it/s]\n"
     ]
    },
    {
     "name": "stdout",
     "output_type": "stream",
     "text": [
      "LOSS train 0.482, valid 0.478\n",
      "ACCURACY train 0.775, valid 0.765\n",
      "EPOCH 10:\n"
     ]
    },
    {
     "name": "stderr",
     "output_type": "stream",
     "text": [
      "100%|██████████| 704/704 [04:06<00:00,  2.86it/s]\n",
      "100%|██████████| 79/79 [00:16<00:00,  4.78it/s]\n"
     ]
    },
    {
     "name": "stdout",
     "output_type": "stream",
     "text": [
      "LOSS train 0.482, valid 0.479\n",
      "ACCURACY train 0.774, valid 0.766\n",
      "EPOCH 11:\n"
     ]
    },
    {
     "name": "stderr",
     "output_type": "stream",
     "text": [
      "100%|██████████| 704/704 [04:05<00:00,  2.87it/s]\n",
      "100%|██████████| 79/79 [00:16<00:00,  4.83it/s]\n"
     ]
    },
    {
     "name": "stdout",
     "output_type": "stream",
     "text": [
      "LOSS train 0.481, valid 0.481\n",
      "ACCURACY train 0.775, valid 0.765\n",
      "EPOCH 12:\n"
     ]
    },
    {
     "name": "stderr",
     "output_type": "stream",
     "text": [
      "100%|██████████| 704/704 [04:09<00:00,  2.83it/s]\n",
      "100%|██████████| 79/79 [00:16<00:00,  4.73it/s]\n"
     ]
    },
    {
     "name": "stdout",
     "output_type": "stream",
     "text": [
      "LOSS train 0.481, valid 0.480\n",
      "ACCURACY train 0.775, valid 0.765\n",
      "EPOCH 13:\n"
     ]
    },
    {
     "name": "stderr",
     "output_type": "stream",
     "text": [
      "100%|██████████| 704/704 [04:08<00:00,  2.83it/s]\n",
      "100%|██████████| 79/79 [00:16<00:00,  4.70it/s]\n"
     ]
    },
    {
     "name": "stdout",
     "output_type": "stream",
     "text": [
      "LOSS train 0.481, valid 0.480\n",
      "ACCURACY train 0.775, valid 0.765\n",
      "EPOCH 14:\n"
     ]
    },
    {
     "name": "stderr",
     "output_type": "stream",
     "text": [
      "100%|██████████| 704/704 [04:07<00:00,  2.85it/s]\n",
      "100%|██████████| 79/79 [00:16<00:00,  4.72it/s]\n"
     ]
    },
    {
     "name": "stdout",
     "output_type": "stream",
     "text": [
      "LOSS train 0.481, valid 0.478\n",
      "ACCURACY train 0.776, valid 0.764\n",
      "EPOCH 15:\n"
     ]
    },
    {
     "name": "stderr",
     "output_type": "stream",
     "text": [
      "100%|██████████| 704/704 [04:05<00:00,  2.86it/s]\n",
      "100%|██████████| 79/79 [00:16<00:00,  4.78it/s]\n"
     ]
    },
    {
     "name": "stdout",
     "output_type": "stream",
     "text": [
      "LOSS train 0.481, valid 0.480\n",
      "ACCURACY train 0.775, valid 0.766\n",
      "EPOCH 16:\n"
     ]
    },
    {
     "name": "stderr",
     "output_type": "stream",
     "text": [
      "100%|██████████| 704/704 [04:06<00:00,  2.85it/s]\n",
      "100%|██████████| 79/79 [00:16<00:00,  4.82it/s]\n"
     ]
    },
    {
     "name": "stdout",
     "output_type": "stream",
     "text": [
      "LOSS train 0.481, valid 0.480\n",
      "ACCURACY train 0.776, valid 0.766\n",
      "EPOCH 17:\n"
     ]
    },
    {
     "name": "stderr",
     "output_type": "stream",
     "text": [
      "100%|██████████| 704/704 [04:06<00:00,  2.85it/s]\n",
      "100%|██████████| 79/79 [00:16<00:00,  4.80it/s]\n"
     ]
    },
    {
     "name": "stdout",
     "output_type": "stream",
     "text": [
      "LOSS train 0.480, valid 0.480\n",
      "ACCURACY train 0.776, valid 0.767\n",
      "EPOCH 18:\n"
     ]
    },
    {
     "name": "stderr",
     "output_type": "stream",
     "text": [
      "100%|██████████| 704/704 [04:07<00:00,  2.84it/s]\n",
      "100%|██████████| 79/79 [00:16<00:00,  4.73it/s]\n"
     ]
    },
    {
     "name": "stdout",
     "output_type": "stream",
     "text": [
      "LOSS train 0.480, valid 0.479\n",
      "ACCURACY train 0.775, valid 0.766\n",
      "EPOCH 19:\n"
     ]
    },
    {
     "name": "stderr",
     "output_type": "stream",
     "text": [
      "100%|██████████| 704/704 [04:06<00:00,  2.86it/s]\n",
      "100%|██████████| 79/79 [00:16<00:00,  4.76it/s]\n"
     ]
    },
    {
     "name": "stdout",
     "output_type": "stream",
     "text": [
      "LOSS train 0.480, valid 0.479\n",
      "ACCURACY train 0.777, valid 0.767\n",
      "EPOCH 20:\n"
     ]
    },
    {
     "name": "stderr",
     "output_type": "stream",
     "text": [
      "100%|██████████| 704/704 [04:07<00:00,  2.85it/s]\n",
      "100%|██████████| 79/79 [00:16<00:00,  4.76it/s]\n"
     ]
    },
    {
     "name": "stdout",
     "output_type": "stream",
     "text": [
      "LOSS train 0.480, valid 0.479\n",
      "ACCURACY train 0.776, valid 0.767\n",
      "EPOCH 21:\n"
     ]
    },
    {
     "name": "stderr",
     "output_type": "stream",
     "text": [
      "100%|██████████| 704/704 [04:08<00:00,  2.84it/s]\n",
      "100%|██████████| 79/79 [00:16<00:00,  4.78it/s]\n"
     ]
    },
    {
     "name": "stdout",
     "output_type": "stream",
     "text": [
      "LOSS train 0.480, valid 0.482\n",
      "ACCURACY train 0.776, valid 0.763\n",
      "EPOCH 22:\n"
     ]
    },
    {
     "name": "stderr",
     "output_type": "stream",
     "text": [
      "100%|██████████| 704/704 [04:07<00:00,  2.84it/s]\n",
      "100%|██████████| 79/79 [00:16<00:00,  4.73it/s]\n"
     ]
    },
    {
     "name": "stdout",
     "output_type": "stream",
     "text": [
      "LOSS train 0.480, valid 0.481\n",
      "ACCURACY train 0.776, valid 0.763\n",
      "EPOCH 23:\n"
     ]
    },
    {
     "name": "stderr",
     "output_type": "stream",
     "text": [
      "100%|██████████| 704/704 [04:05<00:00,  2.87it/s]\n",
      "100%|██████████| 79/79 [00:16<00:00,  4.71it/s]\n"
     ]
    },
    {
     "name": "stdout",
     "output_type": "stream",
     "text": [
      "LOSS train 0.480, valid 0.478\n",
      "ACCURACY train 0.776, valid 0.766\n",
      "EPOCH 24:\n"
     ]
    },
    {
     "name": "stderr",
     "output_type": "stream",
     "text": [
      "100%|██████████| 704/704 [04:05<00:00,  2.86it/s]\n",
      "100%|██████████| 79/79 [00:16<00:00,  4.77it/s]\n"
     ]
    },
    {
     "name": "stdout",
     "output_type": "stream",
     "text": [
      "LOSS train 0.480, valid 0.481\n",
      "ACCURACY train 0.776, valid 0.768\n",
      "EPOCH 25:\n"
     ]
    },
    {
     "name": "stderr",
     "output_type": "stream",
     "text": [
      "100%|██████████| 704/704 [04:06<00:00,  2.86it/s]\n",
      "100%|██████████| 79/79 [00:16<00:00,  4.76it/s]\n"
     ]
    },
    {
     "name": "stdout",
     "output_type": "stream",
     "text": [
      "LOSS train 0.480, valid 0.479\n",
      "ACCURACY train 0.775, valid 0.766\n",
      "EPOCH 26:\n"
     ]
    },
    {
     "name": "stderr",
     "output_type": "stream",
     "text": [
      "100%|██████████| 704/704 [04:07<00:00,  2.85it/s]\n",
      "100%|██████████| 79/79 [00:16<00:00,  4.77it/s]\n"
     ]
    },
    {
     "name": "stdout",
     "output_type": "stream",
     "text": [
      "LOSS train 0.479, valid 0.482\n",
      "ACCURACY train 0.776, valid 0.766\n",
      "EPOCH 27:\n"
     ]
    },
    {
     "name": "stderr",
     "output_type": "stream",
     "text": [
      "100%|██████████| 704/704 [04:07<00:00,  2.84it/s]\n",
      "100%|██████████| 79/79 [00:16<00:00,  4.67it/s]\n"
     ]
    },
    {
     "name": "stdout",
     "output_type": "stream",
     "text": [
      "LOSS train 0.480, valid 0.483\n",
      "ACCURACY train 0.777, valid 0.763\n",
      "EPOCH 28:\n"
     ]
    },
    {
     "name": "stderr",
     "output_type": "stream",
     "text": [
      "100%|██████████| 704/704 [04:05<00:00,  2.87it/s]\n",
      "100%|██████████| 79/79 [00:16<00:00,  4.68it/s]\n"
     ]
    },
    {
     "name": "stdout",
     "output_type": "stream",
     "text": [
      "LOSS train 0.479, valid 0.477\n",
      "ACCURACY train 0.776, valid 0.767\n",
      "EPOCH 29:\n"
     ]
    },
    {
     "name": "stderr",
     "output_type": "stream",
     "text": [
      "100%|██████████| 704/704 [04:07<00:00,  2.85it/s]\n",
      "100%|██████████| 79/79 [00:16<00:00,  4.81it/s]\n"
     ]
    },
    {
     "name": "stdout",
     "output_type": "stream",
     "text": [
      "LOSS train 0.480, valid 0.480\n",
      "ACCURACY train 0.776, valid 0.768\n",
      "EPOCH 30:\n"
     ]
    },
    {
     "name": "stderr",
     "output_type": "stream",
     "text": [
      "100%|██████████| 704/704 [04:05<00:00,  2.86it/s]\n",
      "100%|██████████| 79/79 [00:16<00:00,  4.77it/s]\n"
     ]
    },
    {
     "name": "stdout",
     "output_type": "stream",
     "text": [
      "LOSS train 0.479, valid 0.479\n",
      "ACCURACY train 0.776, valid 0.765\n",
      "EPOCH 31:\n"
     ]
    },
    {
     "name": "stderr",
     "output_type": "stream",
     "text": [
      "100%|██████████| 704/704 [04:05<00:00,  2.86it/s]\n",
      "100%|██████████| 79/79 [00:16<00:00,  4.73it/s]\n"
     ]
    },
    {
     "name": "stdout",
     "output_type": "stream",
     "text": [
      "LOSS train 0.480, valid 0.481\n",
      "ACCURACY train 0.776, valid 0.767\n",
      "EPOCH 32:\n"
     ]
    },
    {
     "name": "stderr",
     "output_type": "stream",
     "text": [
      "100%|██████████| 704/704 [04:05<00:00,  2.86it/s]\n",
      "100%|██████████| 79/79 [00:16<00:00,  4.80it/s]\n"
     ]
    },
    {
     "name": "stdout",
     "output_type": "stream",
     "text": [
      "LOSS train 0.479, valid 0.479\n",
      "ACCURACY train 0.776, valid 0.768\n",
      "EPOCH 33:\n"
     ]
    },
    {
     "name": "stderr",
     "output_type": "stream",
     "text": [
      "100%|██████████| 704/704 [04:06<00:00,  2.85it/s]\n",
      "100%|██████████| 79/79 [00:16<00:00,  4.72it/s]\n"
     ]
    },
    {
     "name": "stdout",
     "output_type": "stream",
     "text": [
      "LOSS train 0.479, valid 0.479\n",
      "ACCURACY train 0.776, valid 0.768\n",
      "EPOCH 34:\n"
     ]
    },
    {
     "name": "stderr",
     "output_type": "stream",
     "text": [
      "100%|██████████| 704/704 [04:09<00:00,  2.83it/s]\n",
      "100%|██████████| 79/79 [00:16<00:00,  4.66it/s]\n"
     ]
    },
    {
     "name": "stdout",
     "output_type": "stream",
     "text": [
      "LOSS train 0.479, valid 0.480\n",
      "ACCURACY train 0.776, valid 0.768\n",
      "EPOCH 35:\n"
     ]
    },
    {
     "name": "stderr",
     "output_type": "stream",
     "text": [
      "100%|██████████| 704/704 [04:07<00:00,  2.85it/s]\n",
      "100%|██████████| 79/79 [00:16<00:00,  4.82it/s]\n"
     ]
    },
    {
     "name": "stdout",
     "output_type": "stream",
     "text": [
      "LOSS train 0.479, valid 0.480\n",
      "ACCURACY train 0.776, valid 0.767\n",
      "EPOCH 36:\n"
     ]
    },
    {
     "name": "stderr",
     "output_type": "stream",
     "text": [
      "100%|██████████| 704/704 [04:07<00:00,  2.85it/s]\n",
      "100%|██████████| 79/79 [00:16<00:00,  4.69it/s]\n"
     ]
    },
    {
     "name": "stdout",
     "output_type": "stream",
     "text": [
      "LOSS train 0.479, valid 0.481\n",
      "ACCURACY train 0.776, valid 0.764\n",
      "EPOCH 37:\n"
     ]
    },
    {
     "name": "stderr",
     "output_type": "stream",
     "text": [
      "100%|██████████| 704/704 [04:05<00:00,  2.87it/s]\n",
      "100%|██████████| 79/79 [00:16<00:00,  4.76it/s]\n"
     ]
    },
    {
     "name": "stdout",
     "output_type": "stream",
     "text": [
      "LOSS train 0.479, valid 0.479\n",
      "ACCURACY train 0.776, valid 0.767\n",
      "EPOCH 38:\n"
     ]
    },
    {
     "name": "stderr",
     "output_type": "stream",
     "text": [
      "100%|██████████| 704/704 [04:05<00:00,  2.86it/s]\n",
      "100%|██████████| 79/79 [00:16<00:00,  4.71it/s]\n"
     ]
    },
    {
     "name": "stdout",
     "output_type": "stream",
     "text": [
      "LOSS train 0.479, valid 0.480\n",
      "ACCURACY train 0.777, valid 0.764\n",
      "EPOCH 39:\n"
     ]
    },
    {
     "name": "stderr",
     "output_type": "stream",
     "text": [
      "100%|██████████| 704/704 [04:06<00:00,  2.85it/s]\n",
      "100%|██████████| 79/79 [00:16<00:00,  4.76it/s]\n"
     ]
    },
    {
     "name": "stdout",
     "output_type": "stream",
     "text": [
      "LOSS train 0.479, valid 0.482\n",
      "ACCURACY train 0.777, valid 0.765\n",
      "EPOCH 40:\n"
     ]
    },
    {
     "name": "stderr",
     "output_type": "stream",
     "text": [
      "100%|██████████| 704/704 [04:06<00:00,  2.85it/s]\n",
      "100%|██████████| 79/79 [00:16<00:00,  4.71it/s]\n"
     ]
    },
    {
     "name": "stdout",
     "output_type": "stream",
     "text": [
      "LOSS train 0.479, valid 0.478\n",
      "ACCURACY train 0.777, valid 0.768\n",
      "EPOCH 41:\n"
     ]
    },
    {
     "name": "stderr",
     "output_type": "stream",
     "text": [
      "100%|██████████| 704/704 [04:07<00:00,  2.85it/s]\n",
      "100%|██████████| 79/79 [00:16<00:00,  4.70it/s]\n"
     ]
    },
    {
     "name": "stdout",
     "output_type": "stream",
     "text": [
      "LOSS train 0.479, valid 0.479\n",
      "ACCURACY train 0.777, valid 0.768\n",
      "EPOCH 42:\n"
     ]
    },
    {
     "name": "stderr",
     "output_type": "stream",
     "text": [
      "100%|██████████| 704/704 [04:08<00:00,  2.84it/s]\n",
      "100%|██████████| 79/79 [00:17<00:00,  4.60it/s]\n"
     ]
    },
    {
     "name": "stdout",
     "output_type": "stream",
     "text": [
      "LOSS train 0.479, valid 0.478\n",
      "ACCURACY train 0.776, valid 0.766\n",
      "EPOCH 43:\n"
     ]
    },
    {
     "name": "stderr",
     "output_type": "stream",
     "text": [
      "100%|██████████| 704/704 [04:06<00:00,  2.86it/s]\n",
      "100%|██████████| 79/79 [00:16<00:00,  4.74it/s]\n"
     ]
    },
    {
     "name": "stdout",
     "output_type": "stream",
     "text": [
      "LOSS train 0.478, valid 0.477\n",
      "ACCURACY train 0.777, valid 0.767\n",
      "EPOCH 44:\n"
     ]
    },
    {
     "name": "stderr",
     "output_type": "stream",
     "text": [
      "100%|██████████| 704/704 [04:07<00:00,  2.85it/s]\n",
      "100%|██████████| 79/79 [00:16<00:00,  4.68it/s]\n"
     ]
    },
    {
     "name": "stdout",
     "output_type": "stream",
     "text": [
      "LOSS train 0.479, valid 0.477\n",
      "ACCURACY train 0.776, valid 0.767\n",
      "EPOCH 45:\n"
     ]
    },
    {
     "name": "stderr",
     "output_type": "stream",
     "text": [
      "100%|██████████| 704/704 [04:06<00:00,  2.86it/s]\n",
      "100%|██████████| 79/79 [00:16<00:00,  4.88it/s]\n"
     ]
    },
    {
     "name": "stdout",
     "output_type": "stream",
     "text": [
      "LOSS train 0.478, valid 0.480\n",
      "ACCURACY train 0.777, valid 0.766\n",
      "EPOCH 46:\n"
     ]
    },
    {
     "name": "stderr",
     "output_type": "stream",
     "text": [
      "100%|██████████| 704/704 [04:03<00:00,  2.89it/s]\n",
      "100%|██████████| 79/79 [00:16<00:00,  4.77it/s]\n"
     ]
    },
    {
     "name": "stdout",
     "output_type": "stream",
     "text": [
      "LOSS train 0.478, valid 0.480\n",
      "ACCURACY train 0.777, valid 0.767\n",
      "EPOCH 47:\n"
     ]
    },
    {
     "name": "stderr",
     "output_type": "stream",
     "text": [
      "100%|██████████| 704/704 [04:06<00:00,  2.85it/s]\n",
      "100%|██████████| 79/79 [00:17<00:00,  4.61it/s]\n"
     ]
    },
    {
     "name": "stdout",
     "output_type": "stream",
     "text": [
      "LOSS train 0.478, valid 0.481\n",
      "ACCURACY train 0.777, valid 0.768\n",
      "EPOCH 48:\n"
     ]
    },
    {
     "name": "stderr",
     "output_type": "stream",
     "text": [
      "100%|██████████| 704/704 [04:06<00:00,  2.86it/s]\n",
      "100%|██████████| 79/79 [00:16<00:00,  4.80it/s]\n"
     ]
    },
    {
     "name": "stdout",
     "output_type": "stream",
     "text": [
      "LOSS train 0.478, valid 0.483\n",
      "ACCURACY train 0.777, valid 0.763\n",
      "EPOCH 49:\n"
     ]
    },
    {
     "name": "stderr",
     "output_type": "stream",
     "text": [
      "100%|██████████| 704/704 [04:06<00:00,  2.86it/s]\n",
      "100%|██████████| 79/79 [00:16<00:00,  4.76it/s]\n"
     ]
    },
    {
     "name": "stdout",
     "output_type": "stream",
     "text": [
      "LOSS train 0.478, valid 0.480\n",
      "ACCURACY train 0.777, valid 0.764\n",
      "EPOCH 50:\n"
     ]
    },
    {
     "name": "stderr",
     "output_type": "stream",
     "text": [
      "100%|██████████| 704/704 [04:08<00:00,  2.84it/s]\n",
      "100%|██████████| 79/79 [00:16<00:00,  4.69it/s]\n"
     ]
    },
    {
     "name": "stdout",
     "output_type": "stream",
     "text": [
      "LOSS train 0.478, valid 0.477\n",
      "ACCURACY train 0.778, valid 0.766\n",
      "EPOCH 51:\n"
     ]
    },
    {
     "name": "stderr",
     "output_type": "stream",
     "text": [
      "100%|██████████| 704/704 [04:03<00:00,  2.89it/s]\n",
      "100%|██████████| 79/79 [00:16<00:00,  4.78it/s]\n"
     ]
    },
    {
     "name": "stdout",
     "output_type": "stream",
     "text": [
      "LOSS train 0.478, valid 0.481\n",
      "ACCURACY train 0.777, valid 0.766\n",
      "EPOCH 52:\n"
     ]
    },
    {
     "name": "stderr",
     "output_type": "stream",
     "text": [
      "100%|██████████| 704/704 [04:05<00:00,  2.86it/s]\n",
      "100%|██████████| 79/79 [00:17<00:00,  4.62it/s]\n"
     ]
    },
    {
     "name": "stdout",
     "output_type": "stream",
     "text": [
      "LOSS train 0.478, valid 0.479\n",
      "ACCURACY train 0.777, valid 0.764\n",
      "EPOCH 53:\n"
     ]
    },
    {
     "name": "stderr",
     "output_type": "stream",
     "text": [
      "100%|██████████| 704/704 [04:06<00:00,  2.85it/s]\n",
      "100%|██████████| 79/79 [00:16<00:00,  4.85it/s]\n"
     ]
    },
    {
     "name": "stdout",
     "output_type": "stream",
     "text": [
      "LOSS train 0.478, valid 0.477\n",
      "ACCURACY train 0.777, valid 0.766\n",
      "EPOCH 54:\n"
     ]
    },
    {
     "name": "stderr",
     "output_type": "stream",
     "text": [
      "100%|██████████| 704/704 [04:06<00:00,  2.86it/s]\n",
      "100%|██████████| 79/79 [00:16<00:00,  4.82it/s]\n"
     ]
    },
    {
     "name": "stdout",
     "output_type": "stream",
     "text": [
      "LOSS train 0.478, valid 0.480\n",
      "ACCURACY train 0.777, valid 0.768\n",
      "EPOCH 55:\n"
     ]
    },
    {
     "name": "stderr",
     "output_type": "stream",
     "text": [
      "100%|██████████| 704/704 [04:04<00:00,  2.88it/s]\n",
      "100%|██████████| 79/79 [00:16<00:00,  4.69it/s]\n"
     ]
    },
    {
     "name": "stdout",
     "output_type": "stream",
     "text": [
      "LOSS train 0.478, valid 0.480\n",
      "ACCURACY train 0.777, valid 0.767\n",
      "EPOCH 56:\n"
     ]
    },
    {
     "name": "stderr",
     "output_type": "stream",
     "text": [
      "100%|██████████| 704/704 [04:04<00:00,  2.87it/s]\n",
      "100%|██████████| 79/79 [00:16<00:00,  4.74it/s]\n"
     ]
    },
    {
     "name": "stdout",
     "output_type": "stream",
     "text": [
      "LOSS train 0.478, valid 0.480\n",
      "ACCURACY train 0.778, valid 0.766\n",
      "EPOCH 57:\n"
     ]
    },
    {
     "name": "stderr",
     "output_type": "stream",
     "text": [
      "100%|██████████| 704/704 [04:06<00:00,  2.85it/s]\n",
      "100%|██████████| 79/79 [00:16<00:00,  4.73it/s]\n"
     ]
    },
    {
     "name": "stdout",
     "output_type": "stream",
     "text": [
      "LOSS train 0.478, valid 0.479\n",
      "ACCURACY train 0.777, valid 0.768\n",
      "EPOCH 58:\n"
     ]
    },
    {
     "name": "stderr",
     "output_type": "stream",
     "text": [
      "100%|██████████| 704/704 [04:04<00:00,  2.88it/s]\n",
      "100%|██████████| 79/79 [00:16<00:00,  4.85it/s]\n"
     ]
    },
    {
     "name": "stdout",
     "output_type": "stream",
     "text": [
      "LOSS train 0.478, valid 0.481\n",
      "ACCURACY train 0.777, valid 0.766\n",
      "EPOCH 59:\n"
     ]
    },
    {
     "name": "stderr",
     "output_type": "stream",
     "text": [
      "100%|██████████| 704/704 [04:04<00:00,  2.88it/s]\n",
      "100%|██████████| 79/79 [00:16<00:00,  4.78it/s]\n"
     ]
    },
    {
     "name": "stdout",
     "output_type": "stream",
     "text": [
      "LOSS train 0.477, valid 0.477\n",
      "ACCURACY train 0.777, valid 0.768\n",
      "EPOCH 60:\n"
     ]
    },
    {
     "name": "stderr",
     "output_type": "stream",
     "text": [
      "100%|██████████| 704/704 [04:05<00:00,  2.87it/s]\n",
      "100%|██████████| 79/79 [00:15<00:00,  4.98it/s]"
     ]
    },
    {
     "name": "stdout",
     "output_type": "stream",
     "text": [
      "LOSS train 0.478, valid 0.479\n",
      "ACCURACY train 0.777, valid 0.763\n"
     ]
    },
    {
     "name": "stderr",
     "output_type": "stream",
     "text": [
      "\n"
     ]
    }
   ],
   "source": [
    "EPOCHS = 60\n",
    "\n",
    "loss_train, loss_val = [],[]\n",
    "acc_train, acc_val = [],[]\n",
    "for epoch in range(EPOCHS):\n",
    "    print('EPOCH {}:'.format(epoch + 1))\n",
    "\n",
    "    loss_train_epoch,acc_train_epoch = train_test_one_epoch(gnn,jets_loader_train,mode = 'train')\n",
    "    loss_val_epoch,acc_val_epoch = train_test_one_epoch(gnn,jets_loader_val,mode = 'test')\n",
    "\n",
    "    print('LOSS train {:.3f}, valid {:.3f}'.format(loss_train_epoch, loss_val_epoch))\n",
    "    print('ACCURACY train {:.3f}, valid {:.3f}'.format(acc_train_epoch, acc_val_epoch))\n",
    "\n",
    "    loss_train.append(loss_train_epoch)\n",
    "    loss_val.append(loss_val_epoch)\n",
    "    acc_train.append(acc_train_epoch)\n",
    "    acc_val.append(acc_val_epoch)\n"
   ]
  },
  {
   "cell_type": "markdown",
   "metadata": {
    "id": "dXS4sgGJYGZu"
   },
   "source": [
    "Let's plot evaluation of training and validation loss and accuracy with epochs."
   ]
  },
  {
   "cell_type": "code",
   "execution_count": 33,
   "metadata": {
    "id": "zJama0QcYGA-"
   },
   "outputs": [],
   "source": [
    "#First we define a helper function\n",
    "def draw_metric_evolution():\n",
    "  epoch_number = list(range(EPOCHS))\n",
    "  fig, axes = plt.subplots(nrows=1, ncols=2,figsize=(16,6), tight_layout=True)\n",
    "  axes.flat[0].plot(epoch_number, loss_train,label='Training ')\n",
    "  axes.flat[0].plot(epoch_number, loss_val,label='Validation ')\n",
    "  axes.flat[0].set_ylabel(\"Loss\",fontsize=15)\n",
    "  axes.flat[0].legend(loc='upper right',fontsize=15,frameon=False)\n",
    "\n",
    "  axes.flat[1].plot(epoch_number, acc_train,label='Training ')\n",
    "  axes.flat[1].plot(epoch_number, acc_val,label='Validation ')\n",
    "  axes.flat[1].set_ylabel(\"Accuracy\",fontsize=15)\n",
    "  axes.flat[1].legend(loc='upper left',fontsize=15,frameon=False)\n",
    "\n",
    "  for i in [0,1]:\n",
    "    axes.flat[i].set_xlabel(\"Epoch\",fontsize=15)\n",
    "    axes.flat[i].grid(True)\n",
    "\n",
    "  plt.show()"
   ]
  },
  {
   "cell_type": "code",
   "execution_count": 34,
   "metadata": {
    "id": "sQ9DcwFNZr0f"
   },
   "outputs": [
    {
     "data": {
      "image/png": "[encoded data removed]",
      "text/plain": [
       "<Figure size 1600x600 with 2 Axes>"
      ]
     },
     "metadata": {},
     "output_type": "display_data"
    }
   ],
   "source": [
    "draw_metric_evolution()"
   ]
  },
  {
   "cell_type": "markdown",
   "metadata": {
    "id": "_nQ4oI7VSPZU"
   },
   "source": [
    "\n",
    "\n",
    "Now let's evaluate how our model performs on the validation dataset by calculating accuracy for each jet type and building the ROC curve.\n",
    "\n"
   ]
  },
  {
   "cell_type": "code",
   "execution_count": 35,
   "metadata": {
    "id": "s1r9A8JG8f6a"
   },
   "outputs": [],
   "source": [
    "pred_val = []\n",
    "pred_label = []\n",
    "true_label = []\n",
    "for i, data in enumerate(jets_loader_val):\n",
    "    inputs, labels = data, data.y\n",
    "    inputs = inputs.to(device)\n",
    "    # there is no softmax in the output layer. We have to put it. \n",
    "    pred_val.append(F.softmax(gnn(inputs.to(device)), dim=1).cpu().detach().numpy())\n",
    "    pred_label.append(np.argmax(pred_val[i],axis=1))\n",
    "    true_label.append(labels.numpy())\n",
    "pred_val = np.concatenate(pred_val, axis=0)\n",
    "pred_label = np.concatenate(pred_label, axis=0)\n",
    "true_label = np.concatenate(true_label,axis=0)"
   ]
  },
  {
   "cell_type": "code",
   "execution_count": 36,
   "metadata": {
    "id": "VEjiIFDrDo2F"
   },
   "outputs": [
    {
     "data": {
      "image/png": "[encoded data removed]",
      "text/plain": [
       "<Figure size 1200x800 with 1 Axes>"
      ]
     },
     "metadata": {},
     "output_type": "display_data"
    }
   ],
   "source": [
    "from sklearn.metrics import roc_curve, auc, accuracy_score\n",
    "\n",
    "#### get the ROC curves\n",
    "fpr = {}\n",
    "tpr = {}\n",
    "auc_value = {}\n",
    "plt.figure(figsize=(12,8))\n",
    "for i, label in enumerate(label_names):\n",
    "    fpr[label], tpr[label], threshold = roc_curve((true_label== i), pred_val[:,i])\n",
    "    auc_value[label] = auc(fpr[label], tpr[label])\n",
    "    plt.plot(tpr[label],fpr[label],label='%s tagger, AUC = %.1f%%'%(label,auc_value[label]*100.))\n",
    "#computing accuracy now\n",
    "acc_score = accuracy_score(true_label, pred_label)\n",
    "acc_manual = np.sum(pred_label == true_label)\n",
    "plt.title('Accuracy : {:.3f}'.format(acc_score), fontsize=15)\n",
    "plt.semilogy()\n",
    "plt.xlabel(\"sig. efficiency\",fontsize=15)\n",
    "plt.ylabel(\"bkg. mistag rate\",fontsize=15)\n",
    "plt.ylim(0.001,1)\n",
    "plt.grid(True)\n",
    "plt.legend(loc='lower right',fontsize=15, frameon=False)\n",
    "plt.show()"
   ]
  },
  {
   "cell_type": "markdown",
   "metadata": {
    "id": "SIHrki24VhTp"
   },
   "source": [
    "Now let's evaluate confusion matrix"
   ]
  },
  {
   "cell_type": "code",
   "execution_count": 186,
   "metadata": {
    "id": "2_Y-hMwTThVH"
   },
   "outputs": [],
   "source": [
    "# First we define a helper function\n",
    "import seaborn as sns\n",
    "sns.set_style(\"whitegrid\")\n",
    "\n",
    "def plot_matrix(cm, classes, title):\n",
    "  plt.figure(figsize = (12,12))  \n",
    "  ax = sns.heatmap(cm, cmap=\"Blues\", annot=True, xticklabels=classes, yticklabels=classes, cbar=False)\n",
    "  ax.set(title=title, xlabel=\"Predicted label\", ylabel=\"True label\")"
   ]
  },
  {
   "cell_type": "code",
   "execution_count": 38,
   "metadata": {
    "id": "rd8QaxnNT_4R"
   },
   "outputs": [
    {
     "data": {
      "image/png": "[encoded data removed]",
      "text/plain": [
       "<Figure size 1200x1200 with 1 Axes>"
      ]
     },
     "metadata": {},
     "output_type": "display_data"
    }
   ],
   "source": [
    "#Evaluate confusion matrix\n",
    "from sklearn.metrics import confusion_matrix\n",
    "\n",
    "cm = confusion_matrix(true_label, pred_label,normalize = 'true')\n",
    "plot_matrix(cm, label_names, title = 'Normalized Confusion Matrix')"
   ]
  },
  {
   "cell_type": "markdown",
   "metadata": {
    "id": "gF1ksFJ9XC2Q"
   },
   "source": [
    "We can see that overall performance is not bad!"
   ]
  },
  {
   "cell_type": "markdown",
   "metadata": {
    "id": "ZUiLf8zBQ0Pz"
   },
   "source": [
    "## LorentzNet\n",
    "\n",
    "Now, let's look at the performance of LorentzNet on our dataset. Before, I projected only the first three features to the point-cloud, as a simpler test, but given the pt, rapidity, azimuthal_angle and the particle id, we can retrieve a more complete information, like its four-momentum, and also associated scalars, like its mass and charge, or particle id.\n",
    "\n",
    "Here, each jet is denoted as a graph consisting of an unordered set of nodes (particles), where each node is considered a point-cloud living in $\\mathbb{R}^{4}$. Each jet can have different number of constituent particles, and the LorentzNet is built upon the universal approximation theorem for Lorentz-equivariant functions. This is the sketched out architecture:\n",
    "\n",
    "<img src=\"figures/LorentzNet.png\" width=65% style=\"margin-left:auto; margin-right:auto\">\n",
    "\n",
    "The **input layer** consists of four-momentum vectors of particles from a collision event, and the input is a set of vectors $f_i = v_i \\mathop{\\bigoplus} s_i$, where $f_i = \\{E_i, p_{x_i}, p_{y_i}, p_{z_i}\\}$ is the four-momentum vector for particle $i$, and $s_i$ is a set of scalars for particle $i$, like mass, charge, particle id. \n",
    "\n",
    "Now, the **Lorentz Group Equivariant Block** (LGEB) constitutes of $\\phi_{e}(x), \\phi_{h}(x), \\phi_{x}(x)$, which are continuous functions modeled by neural networks, where $\\phi_{e}(x)$ is responsible for computing the edge message between particles $i$ and $j$ for the $l$-th layer via:\n",
    "\n",
    "\\begin{equation}\n",
    "m_{ij}^{l} = \\phi_{e}(h_i, h_j, \\psi(||x_{i}^{l} - x_{j}^{l}||^2), \\psi(\\langle x_{i}, x_{j}\\rangle)),\n",
    "\\end{equation}\n",
    "\n",
    "and $\\psi(\\cdot) = sgn(\\cdot)log(|\\cdot| + 1)$ is just a function to normalize large numbers from different distributions, making optimization easier. Now, $\\phi_{x}(x)$ is the responsible for the Minkowski dot product attention, which is proposed in the paper as:\n",
    "\n",
    "\\begin{equation}\n",
    "x_{i}^{l+1} = x_{i}^{l} + c\\sum_{j\\in\\mathcal{N}(i)}\\phi_{x}(m_{ij}^{j})\\cdot x_{j}^{l},\n",
    "\\end{equation}\n",
    "\n",
    "so the feature for each particle in the next layer is the feature for the current layer and a weighted feature sum of neighboring particles \\mathcal{N}(i), where the weights depend on each edge message calculated before and $c$, which is just a scalar to control the scale again. Finally, $\\phi_{h}(x)$ updates the scalar features for particle $i$ as:\n",
    "\n",
    "\\begin{equation}\n",
    "h_{i}^{l+1} = h_{i}^{l} + \\phi_{h}(h_{i}^{l}, \\sum_{j\\in\\mathcal{N}(i)}w_{ij}m_{ij}),\n",
    "\\end{equation}\n",
    "\n",
    "where $w_{ij}$ learns the edge significance between particle $i$ and $j$ through again another neural network $\\phi_{m}(m_{ij}^{l}) \\in [0, 1]$ . It's important to note that the initial scalar features $h_{i}^{0}$ are embedded into deeper representations through the layers, and since the **edge message $m_{ij}$** contains information about **both** **$x_{i}$** and **$x_{j}$**, in the very end, if you look into the diagram, you'll see that only **$h^{l}$** is returned, a clever trick to avoid redundancy.\n",
    "\n",
    "\n",
    "Lastly, given the transversal momentum **$p_{T}$**, pseudo-rapidity **$\\eta$**, and azimuthal angle **$\\phi$** and the particle id, it is possible to retrieve the 4-momenta for each particle. The energyflow package facilitates this, so, in the code, this is the first thing done to retrieve our dataset.\n",
    "\n",
    "\n",
    "I am going to use the official implementation from the Author's GitHub here: https://github.com/sdogsq/LorentzNet-release/tree/maine/tree/main"
   ]
  },
  {
   "cell_type": "code",
   "execution_count": 84,
   "metadata": {
    "id": "kdil7P-NaMfZ"
   },
   "outputs": [
    {
     "name": "stdout",
     "output_type": "stream",
     "text": [
      "torch.Size([32]) torch.Size([32, 139, 4]) torch.Size([32, 139, 8]) torch.Size([32, 139]) torch.Size([32, 139, 139]) torch.Size([64608]) torch.Size([64608])\n"
     ]
    }
   ],
   "source": [
    "import torch\n",
    "import numpy as np\n",
    "import energyflow\n",
    "from scipy.sparse import coo_matrix\n",
    "from torch.utils.data import TensorDataset, DataLoader\n",
    "from sklearn.preprocessing import OneHotEncoder\n",
    "from torch.utils.data.distributed import DistributedSampler\n",
    "\n",
    "def get_adj_matrix(n_nodes, batch_size, edge_mask):\n",
    "    rows, cols = [], []\n",
    "    for batch_idx in range(batch_size):\n",
    "        nn = batch_idx*n_nodes\n",
    "        x = coo_matrix(edge_mask[batch_idx])\n",
    "        rows.append(nn + x.row)\n",
    "        cols.append(nn + x.col)\n",
    "    rows = np.concatenate(rows)\n",
    "    cols = np.concatenate(cols)\n",
    "\n",
    "    edges = [torch.LongTensor(rows), torch.LongTensor(cols)]\n",
    "    return edges\n",
    "\n",
    "def collate_fn(data):\n",
    "    data = list(zip(*data)) # label p4s nodes atom_mask\n",
    "    data = [torch.stack(item) for item in data]\n",
    "    batch_size, n_nodes, _ = data[1].size()\n",
    "    atom_mask = data[-1]\n",
    "    edge_mask = atom_mask.unsqueeze(1) * atom_mask.unsqueeze(2)\n",
    "    diag_mask = ~torch.eye(edge_mask.size(1), dtype=torch.bool).unsqueeze(0)\n",
    "    edge_mask *= diag_mask\n",
    "    edges = get_adj_matrix(n_nodes, batch_size, edge_mask)\n",
    "    return data + [edge_mask, edges]\n",
    "\n",
    "def retrieve_dataloaders(batch_size, num_data = -1, use_one_hot = True, cache_dir = './data', num_workers=4):\n",
    "    raw = energyflow.qg_jets.load(num_data=num_data, pad=True, ncol=4, generator='pythia',\n",
    "                            with_bc=False, cache_dir=cache_dir)\n",
    "    splits = ['train', 'val', 'test']\n",
    "    data = {type:{'raw':None,'label':None} for type in splits}\n",
    "    (data['train']['raw'],  data['val']['raw'],   data['test']['raw'],\n",
    "    data['train']['label'], data['val']['label'], data['test']['label']) = \\\n",
    "        energyflow.utils.data_split(*raw, train=0.8, val=0.1, test=0.1, shuffle = False)\n",
    "\n",
    "    enc = OneHotEncoder(handle_unknown='ignore').fit([[11],[13],[22],[130],[211],[321],[2112],[2212]])\n",
    "    \n",
    "    for split, value in data.items():\n",
    "        pid = torch.from_numpy(np.abs(np.asarray(value['raw'][...,3], dtype=int))).unsqueeze(-1)\n",
    "        p4s = torch.from_numpy(energyflow.p4s_from_ptyphipids(value['raw'],error_on_unknown=True))\n",
    "        one_hot = enc.transform(pid.reshape(-1,1)).toarray().reshape(pid.shape[:2]+(-1,))\n",
    "        one_hot = torch.from_numpy(one_hot)\n",
    "        mass = torch.from_numpy(energyflow.ms_from_p4s(p4s)).unsqueeze(-1)\n",
    "        charge = torch.from_numpy(energyflow.pids2chrgs(pid))\n",
    "        if use_one_hot:\n",
    "            nodes = one_hot\n",
    "        else:\n",
    "            nodes = torch.cat((mass,charge),dim=-1)\n",
    "            nodes = torch.sign(nodes) * torch.log(torch.abs(nodes) + 1)\n",
    "        atom_mask = (pid[...,0] != 0)\n",
    "        value['p4s'] = p4s\n",
    "        value['nodes'] = nodes\n",
    "        value['label'] = torch.from_numpy(value['label'])\n",
    "        value['atom_mask'] = atom_mask.to(torch.bool)\n",
    "\n",
    "    datasets = {split: TensorDataset(value['label'], value['p4s'],\n",
    "                                     value['nodes'], value['atom_mask'])\n",
    "                for split, value in data.items()}\n",
    "\n",
    "    # distributed training\n",
    "    # train_sampler = DistributedSampler(datasets['train'], shuffle=True)\n",
    "    # Construct PyTorch dataloaders from datasets\n",
    "    dataloaders = {split: DataLoader(dataset,\n",
    "                                     batch_size=batch_size,\n",
    "                                     # sampler=train_sampler if (split == 'train') else DistributedSampler(dataset, shuffle=False),\n",
    "                                     pin_memory=True,\n",
    "                                     # persistent_workers=True,\n",
    "                                     drop_last=True if (split == 'train') else False,\n",
    "                                     num_workers=num_workers,\n",
    "                                     collate_fn=collate_fn)\n",
    "                        for split, dataset in datasets.items()}\n",
    "\n",
    "    return dataloaders #train_sampler, dataloaders\n",
    "\n",
    "if __name__ == '__main__':\n",
    "    # train_sampler, dataloaders = retrieve_dataloaders(32, 100)\n",
    "    dataloaders = retrieve_dataloaders(32, 100)\n",
    "    for (label, p4s, nodes, atom_mask, edge_mask, edges) in dataloaders['train']:\n",
    "        print(label.shape, p4s.shape, nodes.shape, atom_mask.shape,\n",
    "              edge_mask.shape, edges[0].shape, edges[1].shape)\n",
    "        break"
   ]
  },
  {
   "cell_type": "markdown",
   "metadata": {},
   "source": [
    "## Let's now define our model"
   ]
  },
  {
   "cell_type": "code",
   "execution_count": 85,
   "metadata": {},
   "outputs": [],
   "source": [
    "import torch\n",
    "from torch import nn\n",
    "import numpy as np\n",
    "\n",
    "class LGEB(nn.Module):\n",
    "    def __init__(self, n_input, n_output, n_hidden, n_node_attr=0,\n",
    "                 dropout = 0., c_weight=1.0, last_layer=False, A=None, include_x=False):\n",
    "        super(LGEB, self).__init__()\n",
    "        self.c_weight = c_weight\n",
    "        n_edge_attr = 2 if not include_x else 10 # dims for Minkowski norm & inner product\n",
    "\n",
    "        self.include_x = include_x\n",
    "        self.phi_e = nn.Sequential(\n",
    "            nn.Linear(n_input * 2 + n_edge_attr, n_hidden, bias=False),\n",
    "            nn.BatchNorm1d(n_hidden),\n",
    "            nn.ReLU(),\n",
    "            nn.Linear(n_hidden, n_hidden),\n",
    "            nn.ReLU())\n",
    "\n",
    "        self.phi_h = nn.Sequential(\n",
    "            nn.Linear(n_hidden + n_input + n_node_attr, n_hidden),\n",
    "            nn.BatchNorm1d(n_hidden),\n",
    "            nn.ReLU(),\n",
    "            nn.Linear(n_hidden, n_output))\n",
    "\n",
    "        layer = nn.Linear(n_hidden, 1, bias=False)\n",
    "        torch.nn.init.xavier_uniform_(layer.weight, gain=0.001)\n",
    "\n",
    "        self.phi_x = nn.Sequential(\n",
    "            nn.Linear(n_hidden, n_hidden),\n",
    "            nn.ReLU(),\n",
    "            layer)\n",
    "\n",
    "        self.phi_m = nn.Sequential(\n",
    "            nn.Linear(n_hidden, 1),\n",
    "            nn.Sigmoid())\n",
    "        \n",
    "        self.last_layer = last_layer\n",
    "        if last_layer:\n",
    "            del self.phi_x\n",
    "\n",
    "        self.A = A\n",
    "        self.norm_fn = normA_fn(A) if A is not None else normsq4\n",
    "        self.dot_fn = dotA_fn(A) if A is not None else dotsq4\n",
    "\n",
    "    def m_model(self, hi, hj, norms, dots):\n",
    "        out = torch.cat([hi, hj, norms, dots], dim=1)\n",
    "        out = self.phi_e(out)\n",
    "        w = self.phi_m(out)\n",
    "        out = out * w\n",
    "        return out\n",
    "\n",
    "    def m_model_extended(self, hi, hj, norms, dots, xi, xj):\n",
    "        out = torch.cat([hi, hj, norms, dots, xi, xj], dim=1)\n",
    "        out = self.phi_e(out)\n",
    "        w = self.phi_m(out)\n",
    "        out = out * w\n",
    "        return out\n",
    "\n",
    "    def h_model(self, h, edges, m, node_attr):\n",
    "        i, j = edges\n",
    "        agg = unsorted_segment_sum(m, i, num_segments=h.size(0))\n",
    "        agg = torch.cat([h, agg, node_attr], dim=1)\n",
    "        out = h + self.phi_h(agg)\n",
    "        return out\n",
    "\n",
    "    def x_model(self, x, edges, x_diff, m):\n",
    "        i, j = edges\n",
    "        trans = x_diff * self.phi_x(m)\n",
    "        # From https://github.com/vgsatorras/egnn\n",
    "        # This is never activated but just in case it explosed it may save the train\n",
    "        trans = torch.clamp(trans, min=-100, max=100)\n",
    "        agg = unsorted_segment_mean(trans, i, num_segments=x.size(0))\n",
    "        x = x + agg * self.c_weight\n",
    "        return x\n",
    "\n",
    "    def minkowski_feats(self, edges, x):\n",
    "        i, j = edges\n",
    "        x_diff = x[i] - x[j]\n",
    "        norms = self.norm_fn(x_diff).unsqueeze(1)\n",
    "        dots = self.dot_fn(x[i], x[j]).unsqueeze(1)\n",
    "        norms, dots = psi(norms), psi(dots)\n",
    "        return norms, dots, x_diff\n",
    "\n",
    "    def forward(self, h, x, edges, node_attr=None):\n",
    "        i, j = edges\n",
    "        norms, dots, x_diff = self.minkowski_feats(edges, x)\n",
    "\n",
    "        if self.include_x:\n",
    "            m = self.m_model_extended(h[i], h[j], norms, dots, x[i], x[j])\n",
    "        else:\n",
    "            m = self.m_model(h[i], h[j], norms, dots) # [B*N, hidden]\n",
    "        if not self.last_layer:\n",
    "            x = self.x_model(x, edges, x_diff, m)\n",
    "        h = self.h_model(h, edges, m, node_attr)\n",
    "        return h, x, m\n",
    "\n",
    "class LorentzNet(nn.Module):\n",
    "    r''' Implementation of LorentzNet.\n",
    "\n",
    "    Args:\n",
    "        - `n_scalar` (int): number of input scalars.\n",
    "        - `n_hidden` (int): dimension of latent space.\n",
    "        - `n_class`  (int): number of output classes.\n",
    "        - `n_layers` (int): number of LGEB layers.\n",
    "        - `c_weight` (float): weight c in the x_model.\n",
    "        - `dropout`  (float): dropout rate.\n",
    "    '''\n",
    "    def __init__(self, n_scalar, n_hidden, n_class = 2, n_layers = 6, c_weight = 1e-3, dropout = 0., A=None, include_x=False):\n",
    "        super(LorentzNet, self).__init__()\n",
    "        self.n_hidden = n_hidden\n",
    "        self.n_layers = n_layers\n",
    "        self.embedding = nn.Linear(n_scalar, n_hidden)\n",
    "        self.LGEBs = nn.ModuleList([LGEB(self.n_hidden, self.n_hidden, self.n_hidden, \n",
    "                                    n_node_attr=n_scalar, dropout=dropout,\n",
    "                                    c_weight=c_weight, last_layer=(i==n_layers-1), A=A, include_x=include_x)\n",
    "                                    for i in range(n_layers)])\n",
    "        self.graph_dec = nn.Sequential(nn.Linear(self.n_hidden, self.n_hidden),\n",
    "                                       nn.ReLU(),\n",
    "                                       nn.Dropout(dropout),\n",
    "                                       nn.Linear(self.n_hidden, n_class)) # classification\n",
    "\n",
    "    def forward(self, scalars, x, edges, node_mask, edge_mask, n_nodes):\n",
    "        h = self.embedding(scalars)\n",
    "\n",
    "        for i in range(self.n_layers):\n",
    "            # print(i)\n",
    "            h, x, _ = self.LGEBs[i](h, x, edges, node_attr=scalars)\n",
    "\n",
    "        h = h * node_mask\n",
    "        h = h.view(-1, n_nodes, self.n_hidden)\n",
    "        h = torch.mean(h, dim=1)\n",
    "        pred = self.graph_dec(h)\n",
    "        return pred.squeeze(1)\n",
    "\n",
    "\n",
    "def unsorted_segment_sum(data, segment_ids, num_segments):\n",
    "    r'''Custom PyTorch op to replicate TensorFlow's `unsorted_segment_sum`.\n",
    "    Adapted from https://github.com/vgsatorras/egnn.\n",
    "    '''\n",
    "    result = data.new_zeros((num_segments, data.size(1)))\n",
    "    result.index_add_(0, segment_ids, data)\n",
    "    return result\n",
    "\n",
    "def unsorted_segment_mean(data, segment_ids, num_segments):\n",
    "    r'''Custom PyTorch op to replicate TensorFlow's `unsorted_segment_mean`.\n",
    "    Adapted from https://github.com/vgsatorras/egnn.\n",
    "    '''\n",
    "    result = data.new_zeros((num_segments, data.size(1)))\n",
    "    count = data.new_zeros((num_segments, data.size(1)))\n",
    "    result.index_add_(0, segment_ids, data)\n",
    "    count.index_add_(0, segment_ids, torch.ones_like(data))\n",
    "    return result / count.clamp(min=1)\n",
    "\n",
    "def normsq4(p):\n",
    "    r''' Minkowski square norm\n",
    "         `\\|p\\|^2 = p[0]^2-p[1]^2-p[2]^2-p[3]^2`\n",
    "    ''' \n",
    "    psq = torch.pow(p, 2)\n",
    "    return 2 * psq[..., 0] - psq.sum(dim=-1)\n",
    "    \n",
    "def dotsq4(p,q):\n",
    "    r''' Minkowski inner product\n",
    "         `<p,q> = p[0]q[0]-p[1]q[1]-p[2]q[2]-p[3]q[3]`\n",
    "    '''\n",
    "    psq = p*q\n",
    "    return 2 * psq[..., 0] - psq.sum(dim=-1)\n",
    "\n",
    "def normA_fn(A):\n",
    "    return lambda p: torch.einsum('...i, ij, ...j->...', p, A, p)\n",
    "\n",
    "def dotA_fn(A):\n",
    "    return lambda p, q: torch.einsum('...i, ij, ...j->...', p, A, q)\n",
    "    \n",
    "def psi(p):\n",
    "    ''' `\\psi(p) = Sgn(p) \\cdot \\log(|p| + 1)`\n",
    "    '''\n",
    "    return torch.sign(p) * torch.log(torch.abs(p) + 1)"
   ]
  },
  {
   "cell_type": "code",
   "execution_count": 191,
   "metadata": {},
   "outputs": [
    {
     "name": "stdout",
     "output_type": "stream",
     "text": [
      "----------------------------------------------------------------\n",
      "     Layer.Parameter         Param Tensor Shape         Param #\n",
      "----------------------------------------------------------------\n",
      "    embedding.weight                    [72, 8]             576\n",
      "      embedding.bias                       [72]              72\n",
      "LGEBs.0.phi_e.0.weight                  [72, 146]           10512\n",
      "LGEBs.0.phi_e.1.weight                       [72]              72\n",
      "LGEBs.0.phi_e.1.bias                       [72]              72\n",
      "LGEBs.0.phi_e.3.weight                   [72, 72]            5184\n",
      "LGEBs.0.phi_e.3.bias                       [72]              72\n",
      "LGEBs.0.phi_h.0.weight                  [72, 152]           10944\n",
      "LGEBs.0.phi_h.0.bias                       [72]              72\n",
      "LGEBs.0.phi_h.1.weight                       [72]              72\n",
      "LGEBs.0.phi_h.1.bias                       [72]              72\n",
      "LGEBs.0.phi_h.3.weight                   [72, 72]            5184\n",
      "LGEBs.0.phi_h.3.bias                       [72]              72\n",
      "LGEBs.0.phi_x.0.weight                   [72, 72]            5184\n",
      "LGEBs.0.phi_x.0.bias                       [72]              72\n",
      "LGEBs.0.phi_x.2.weight                    [1, 72]              72\n",
      "LGEBs.0.phi_m.0.weight                    [1, 72]              72\n",
      "LGEBs.0.phi_m.0.bias                        [1]               1\n",
      "LGEBs.1.phi_e.0.weight                  [72, 146]           10512\n",
      "LGEBs.1.phi_e.1.weight                       [72]              72\n",
      "LGEBs.1.phi_e.1.bias                       [72]              72\n",
      "LGEBs.1.phi_e.3.weight                   [72, 72]            5184\n",
      "LGEBs.1.phi_e.3.bias                       [72]              72\n",
      "LGEBs.1.phi_h.0.weight                  [72, 152]           10944\n",
      "LGEBs.1.phi_h.0.bias                       [72]              72\n",
      "LGEBs.1.phi_h.1.weight                       [72]              72\n",
      "LGEBs.1.phi_h.1.bias                       [72]              72\n",
      "LGEBs.1.phi_h.3.weight                   [72, 72]            5184\n",
      "LGEBs.1.phi_h.3.bias                       [72]              72\n",
      "LGEBs.1.phi_x.0.weight                   [72, 72]            5184\n",
      "LGEBs.1.phi_x.0.bias                       [72]              72\n",
      "LGEBs.1.phi_x.2.weight                    [1, 72]              72\n",
      "LGEBs.1.phi_m.0.weight                    [1, 72]              72\n",
      "LGEBs.1.phi_m.0.bias                        [1]               1\n",
      "LGEBs.2.phi_e.0.weight                  [72, 146]           10512\n",
      "LGEBs.2.phi_e.1.weight                       [72]              72\n",
      "LGEBs.2.phi_e.1.bias                       [72]              72\n",
      "LGEBs.2.phi_e.3.weight                   [72, 72]            5184\n",
      "LGEBs.2.phi_e.3.bias                       [72]              72\n",
      "LGEBs.2.phi_h.0.weight                  [72, 152]           10944\n",
      "LGEBs.2.phi_h.0.bias                       [72]              72\n",
      "LGEBs.2.phi_h.1.weight                       [72]              72\n",
      "LGEBs.2.phi_h.1.bias                       [72]              72\n",
      "LGEBs.2.phi_h.3.weight                   [72, 72]            5184\n",
      "LGEBs.2.phi_h.3.bias                       [72]              72\n",
      "LGEBs.2.phi_x.0.weight                   [72, 72]            5184\n",
      "LGEBs.2.phi_x.0.bias                       [72]              72\n",
      "LGEBs.2.phi_x.2.weight                    [1, 72]              72\n",
      "LGEBs.2.phi_m.0.weight                    [1, 72]              72\n",
      "LGEBs.2.phi_m.0.bias                        [1]               1\n",
      "LGEBs.3.phi_e.0.weight                  [72, 146]           10512\n",
      "LGEBs.3.phi_e.1.weight                       [72]              72\n",
      "LGEBs.3.phi_e.1.bias                       [72]              72\n",
      "LGEBs.3.phi_e.3.weight                   [72, 72]            5184\n",
      "LGEBs.3.phi_e.3.bias                       [72]              72\n",
      "LGEBs.3.phi_h.0.weight                  [72, 152]           10944\n",
      "LGEBs.3.phi_h.0.bias                       [72]              72\n",
      "LGEBs.3.phi_h.1.weight                       [72]              72\n",
      "LGEBs.3.phi_h.1.bias                       [72]              72\n",
      "LGEBs.3.phi_h.3.weight                   [72, 72]            5184\n",
      "LGEBs.3.phi_h.3.bias                       [72]              72\n",
      "LGEBs.3.phi_x.0.weight                   [72, 72]            5184\n",
      "LGEBs.3.phi_x.0.bias                       [72]              72\n",
      "LGEBs.3.phi_x.2.weight                    [1, 72]              72\n",
      "LGEBs.3.phi_m.0.weight                    [1, 72]              72\n",
      "LGEBs.3.phi_m.0.bias                        [1]               1\n",
      "LGEBs.4.phi_e.0.weight                  [72, 146]           10512\n",
      "LGEBs.4.phi_e.1.weight                       [72]              72\n",
      "LGEBs.4.phi_e.1.bias                       [72]              72\n",
      "LGEBs.4.phi_e.3.weight                   [72, 72]            5184\n",
      "LGEBs.4.phi_e.3.bias                       [72]              72\n",
      "LGEBs.4.phi_h.0.weight                  [72, 152]           10944\n",
      "LGEBs.4.phi_h.0.bias                       [72]              72\n",
      "LGEBs.4.phi_h.1.weight                       [72]              72\n",
      "LGEBs.4.phi_h.1.bias                       [72]              72\n",
      "LGEBs.4.phi_h.3.weight                   [72, 72]            5184\n",
      "LGEBs.4.phi_h.3.bias                       [72]              72\n",
      "LGEBs.4.phi_x.0.weight                   [72, 72]            5184\n",
      "LGEBs.4.phi_x.0.bias                       [72]              72\n",
      "LGEBs.4.phi_x.2.weight                    [1, 72]              72\n",
      "LGEBs.4.phi_m.0.weight                    [1, 72]              72\n",
      "LGEBs.4.phi_m.0.bias                        [1]               1\n",
      "LGEBs.5.phi_e.0.weight                  [72, 146]           10512\n",
      "LGEBs.5.phi_e.1.weight                       [72]              72\n",
      "LGEBs.5.phi_e.1.bias                       [72]              72\n",
      "LGEBs.5.phi_e.3.weight                   [72, 72]            5184\n",
      "LGEBs.5.phi_e.3.bias                       [72]              72\n",
      "LGEBs.5.phi_h.0.weight                  [72, 152]           10944\n",
      "LGEBs.5.phi_h.0.bias                       [72]              72\n",
      "LGEBs.5.phi_h.1.weight                       [72]              72\n",
      "LGEBs.5.phi_h.1.bias                       [72]              72\n",
      "LGEBs.5.phi_h.3.weight                   [72, 72]            5184\n",
      "LGEBs.5.phi_h.3.bias                       [72]              72\n",
      "LGEBs.5.phi_m.0.weight                    [1, 72]              72\n",
      "LGEBs.5.phi_m.0.bias                        [1]               1\n",
      "  graph_dec.0.weight                   [72, 72]            5184\n",
      "    graph_dec.0.bias                       [72]              72\n",
      "  graph_dec.3.weight                    [2, 72]             144\n",
      "    graph_dec.3.bias                        [2]               2\n",
      "----------------------------------------------------------------\n",
      "Total params: 227096\n",
      "Trainable params: 227096\n",
      "Non-trainable params: 0\n"
     ]
    }
   ],
   "source": [
    "model_summary(LorentzNet(n_scalar = 8, n_hidden = 72, n_class = 2,\\\n",
    "                       dropout = 0.2, n_layers = 6,\\\n",
    "                       c_weight = 1e-3))"
   ]
  },
  {
   "cell_type": "markdown",
   "metadata": {},
   "source": [
    "### ParticleNet had 409666 total params...\n",
    "\n",
    "...And now we have a model half the size of the first. Of course, the features used will be different now, since we have a specific inductive bias, but let's see what happens"
   ]
  },
  {
   "cell_type": "markdown",
   "metadata": {},
   "source": [
    "## and our training function"
   ]
  },
  {
   "cell_type": "code",
   "execution_count": 140,
   "metadata": {
    "scrolled": true
   },
   "outputs": [
    {
     "name": "stderr",
     "output_type": "stream",
     "text": [
      "/home/jogi/anaconda3/envs/ml4sci/lib/python3.8/site-packages/torch/optim/lr_scheduler.py:28: UserWarning: The verbose parameter is deprecated. Please use get_last_lr() to access the learning rate.\n",
      "  warnings.warn(\"The verbose parameter is deprecated. Please use get_last_lr() \"\n"
     ]
    },
    {
     "name": "stdout",
     "output_type": "stream",
     "text": [
      "Model Size: 227096\n",
      " train samples: 80000\n",
      " val samples: 10000\n",
      " test samples: 10000\n",
      "Training...\n"
     ]
    },
    {
     "name": "stderr",
     "output_type": "stream",
     "text": [
      "625it [02:09,  4.84it/s]\n"
     ]
    },
    {
     "name": "stdout",
     "output_type": "stream",
     "text": [
      ">> train \t Epoch 1/60 \t Batch 624/625 \t Loss 0.4700 \t Running Acc 0.785 \t Total Acc 0.785 \t Avg Batch Time 0.2066\n",
      "Time: train: 129.12 \t Train loss 0.4700 \t Train acc: 0.7852\n"
     ]
    },
    {
     "name": "stderr",
     "output_type": "stream",
     "text": [
      "79it [00:08,  9.51it/s]\n"
     ]
    },
    {
     "name": "stdout",
     "output_type": "stream",
     "text": [
      ">> val \t Loss 0.4668 \t Running Acc 6.202 \t Total Acc 0.784 \t Avg Batch Time 0.0133\n",
      "New best validation model, saving...\n",
      "Epoch 0/60 finished.\n",
      "Train time: 129.12 \t Val time 8.31\n",
      "Train loss 0.4700 \t Train acc: 0.7852\n",
      "Val loss: 0.4672 \t Val acc: 0.7839\n",
      "Best val acc: 0.7839 at epoch 0.\n"
     ]
    },
    {
     "name": "stderr",
     "output_type": "stream",
     "text": [
      "625it [02:09,  4.82it/s]\n"
     ]
    },
    {
     "name": "stdout",
     "output_type": "stream",
     "text": [
      ">> train \t Epoch 2/60 \t Batch 624/625 \t Loss 0.4564 \t Running Acc 0.792 \t Total Acc 0.792 \t Avg Batch Time 0.2074\n",
      "Time: train: 129.62 \t Train loss 0.4564 \t Train acc: 0.7916\n"
     ]
    },
    {
     "name": "stderr",
     "output_type": "stream",
     "text": [
      "79it [00:08,  9.53it/s]\n"
     ]
    },
    {
     "name": "stdout",
     "output_type": "stream",
     "text": [
      ">> val \t Loss 0.4550 \t Running Acc 6.265 \t Total Acc 0.792 \t Avg Batch Time 0.0133\n",
      "New best validation model, saving...\n",
      "Epoch 1/60 finished.\n",
      "Train time: 129.62 \t Val time 8.29\n",
      "Train loss 0.4564 \t Train acc: 0.7916\n",
      "Val loss: 0.4558 \t Val acc: 0.7919\n",
      "Best val acc: 0.7919 at epoch 1.\n"
     ]
    },
    {
     "name": "stderr",
     "output_type": "stream",
     "text": [
      "625it [02:18,  4.52it/s]\n"
     ]
    },
    {
     "name": "stdout",
     "output_type": "stream",
     "text": [
      ">> train \t Epoch 3/60 \t Batch 624/625 \t Loss 0.4512 \t Running Acc 0.795 \t Total Acc 0.795 \t Avg Batch Time 0.2209\n",
      "Time: train: 138.09 \t Train loss 0.4512 \t Train acc: 0.7948\n"
     ]
    },
    {
     "name": "stderr",
     "output_type": "stream",
     "text": [
      "79it [00:09,  8.60it/s]\n"
     ]
    },
    {
     "name": "stdout",
     "output_type": "stream",
     "text": [
      ">> val \t Loss 0.4516 \t Running Acc 6.283 \t Total Acc 0.794 \t Avg Batch Time 0.0147\n",
      "New best validation model, saving...\n",
      "Epoch 2/60 finished.\n",
      "Train time: 138.09 \t Val time 9.18\n",
      "Train loss 0.4512 \t Train acc: 0.7948\n",
      "Val loss: 0.4523 \t Val acc: 0.7942\n",
      "Best val acc: 0.7942 at epoch 2.\n"
     ]
    },
    {
     "name": "stderr",
     "output_type": "stream",
     "text": [
      "625it [02:22,  4.39it/s]\n"
     ]
    },
    {
     "name": "stdout",
     "output_type": "stream",
     "text": [
      ">> train \t Epoch 4/60 \t Batch 624/625 \t Loss 0.4484 \t Running Acc 0.796 \t Total Acc 0.796 \t Avg Batch Time 0.2275\n",
      "Time: train: 142.17 \t Train loss 0.4484 \t Train acc: 0.7961\n"
     ]
    },
    {
     "name": "stderr",
     "output_type": "stream",
     "text": [
      "79it [00:09,  8.74it/s]\n"
     ]
    },
    {
     "name": "stdout",
     "output_type": "stream",
     "text": [
      ">> val \t Loss 0.4556 \t Running Acc 6.277 \t Total Acc 0.793 \t Avg Batch Time 0.0145\n",
      "Epoch 3/60 finished.\n",
      "Train time: 142.17 \t Val time 9.04\n",
      "Train loss 0.4484 \t Train acc: 0.7961\n",
      "Val loss: 0.4565 \t Val acc: 0.7934\n",
      "Best val acc: 0.7942 at epoch 2.\n"
     ]
    },
    {
     "name": "stderr",
     "output_type": "stream",
     "text": [
      "625it [02:22,  4.40it/s]\n"
     ]
    },
    {
     "name": "stdout",
     "output_type": "stream",
     "text": [
      ">> train \t Epoch 5/60 \t Batch 624/625 \t Loss 0.4478 \t Running Acc 0.797 \t Total Acc 0.797 \t Avg Batch Time 0.2273\n",
      "Time: train: 142.09 \t Train loss 0.4478 \t Train acc: 0.7967\n"
     ]
    },
    {
     "name": "stderr",
     "output_type": "stream",
     "text": [
      "79it [00:09,  8.66it/s]\n"
     ]
    },
    {
     "name": "stdout",
     "output_type": "stream",
     "text": [
      ">> val \t Loss 0.4558 \t Running Acc 6.250 \t Total Acc 0.790 \t Avg Batch Time 0.0146\n",
      "Epoch 4/60 finished.\n",
      "Train time: 142.09 \t Val time 9.12\n",
      "Train loss 0.4478 \t Train acc: 0.7967\n",
      "Val loss: 0.4565 \t Val acc: 0.7900\n",
      "Best val acc: 0.7942 at epoch 2.\n"
     ]
    },
    {
     "name": "stderr",
     "output_type": "stream",
     "text": [
      "625it [02:22,  4.39it/s]\n"
     ]
    },
    {
     "name": "stdout",
     "output_type": "stream",
     "text": [
      ">> train \t Epoch 6/60 \t Batch 624/625 \t Loss 0.4439 \t Running Acc 0.798 \t Total Acc 0.798 \t Avg Batch Time 0.2275\n",
      "Time: train: 142.20 \t Train loss 0.4439 \t Train acc: 0.7984\n"
     ]
    },
    {
     "name": "stderr",
     "output_type": "stream",
     "text": [
      "79it [00:09,  8.72it/s]\n"
     ]
    },
    {
     "name": "stdout",
     "output_type": "stream",
     "text": [
      ">> val \t Loss 0.4474 \t Running Acc 6.286 \t Total Acc 0.795 \t Avg Batch Time 0.0145\n",
      "New best validation model, saving...\n",
      "Epoch 5/60 finished.\n",
      "Train time: 142.20 \t Val time 9.06\n",
      "Train loss 0.4439 \t Train acc: 0.7984\n",
      "Val loss: 0.4482 \t Val acc: 0.7946\n",
      "Best val acc: 0.7946 at epoch 5.\n"
     ]
    },
    {
     "name": "stderr",
     "output_type": "stream",
     "text": [
      "625it [02:22,  4.38it/s]\n"
     ]
    },
    {
     "name": "stdout",
     "output_type": "stream",
     "text": [
      ">> train \t Epoch 7/60 \t Batch 624/625 \t Loss 0.4393 \t Running Acc 0.801 \t Total Acc 0.801 \t Avg Batch Time 0.2281\n",
      "Time: train: 142.57 \t Train loss 0.4393 \t Train acc: 0.8009\n"
     ]
    },
    {
     "name": "stderr",
     "output_type": "stream",
     "text": [
      "79it [00:09,  8.46it/s]\n"
     ]
    },
    {
     "name": "stdout",
     "output_type": "stream",
     "text": [
      ">> val \t Loss 0.4481 \t Running Acc 6.290 \t Total Acc 0.795 \t Avg Batch Time 0.0149\n",
      "New best validation model, saving...\n",
      "Epoch 6/60 finished.\n",
      "Train time: 142.57 \t Val time 9.34\n",
      "Train loss 0.4393 \t Train acc: 0.8009\n",
      "Val loss: 0.4489 \t Val acc: 0.7950\n",
      "Best val acc: 0.7950 at epoch 6.\n"
     ]
    },
    {
     "name": "stderr",
     "output_type": "stream",
     "text": [
      "625it [02:22,  4.38it/s]\n"
     ]
    },
    {
     "name": "stdout",
     "output_type": "stream",
     "text": [
      ">> train \t Epoch 8/60 \t Batch 624/625 \t Loss 0.4350 \t Running Acc 0.803 \t Total Acc 0.803 \t Avg Batch Time 0.2280\n",
      "Time: train: 142.50 \t Train loss 0.4350 \t Train acc: 0.8028\n"
     ]
    },
    {
     "name": "stderr",
     "output_type": "stream",
     "text": [
      "79it [00:09,  8.66it/s]\n"
     ]
    },
    {
     "name": "stdout",
     "output_type": "stream",
     "text": [
      ">> val \t Loss 0.4424 \t Running Acc 6.318 \t Total Acc 0.799 \t Avg Batch Time 0.0146\n",
      "New best validation model, saving...\n",
      "Epoch 7/60 finished.\n",
      "Train time: 142.50 \t Val time 9.12\n",
      "Train loss 0.4350 \t Train acc: 0.8028\n",
      "Val loss: 0.4434 \t Val acc: 0.7986\n",
      "Best val acc: 0.7986 at epoch 7.\n"
     ]
    },
    {
     "name": "stderr",
     "output_type": "stream",
     "text": [
      "625it [02:22,  4.39it/s]\n"
     ]
    },
    {
     "name": "stdout",
     "output_type": "stream",
     "text": [
      ">> train \t Epoch 9/60 \t Batch 624/625 \t Loss 0.4436 \t Running Acc 0.799 \t Total Acc 0.799 \t Avg Batch Time 0.2277\n",
      "Time: train: 142.31 \t Train loss 0.4436 \t Train acc: 0.7993\n"
     ]
    },
    {
     "name": "stderr",
     "output_type": "stream",
     "text": [
      "79it [00:09,  8.56it/s]\n"
     ]
    },
    {
     "name": "stdout",
     "output_type": "stream",
     "text": [
      ">> val \t Loss 0.4493 \t Running Acc 6.289 \t Total Acc 0.795 \t Avg Batch Time 0.0148\n",
      "Epoch 8/60 finished.\n",
      "Train time: 142.31 \t Val time 9.23\n",
      "Train loss 0.4436 \t Train acc: 0.7993\n",
      "Val loss: 0.4502 \t Val acc: 0.7949\n",
      "Best val acc: 0.7986 at epoch 7.\n"
     ]
    },
    {
     "name": "stderr",
     "output_type": "stream",
     "text": [
      "625it [02:22,  4.39it/s]\n"
     ]
    },
    {
     "name": "stdout",
     "output_type": "stream",
     "text": [
      ">> train \t Epoch 10/60 \t Batch 624/625 \t Loss 0.4409 \t Running Acc 0.801 \t Total Acc 0.801 \t Avg Batch Time 0.2279\n",
      "Time: train: 142.44 \t Train loss 0.4409 \t Train acc: 0.8011\n"
     ]
    },
    {
     "name": "stderr",
     "output_type": "stream",
     "text": [
      "79it [00:09,  8.70it/s]\n"
     ]
    },
    {
     "name": "stdout",
     "output_type": "stream",
     "text": [
      ">> val \t Loss 0.4479 \t Running Acc 6.289 \t Total Acc 0.795 \t Avg Batch Time 0.0145\n",
      "Epoch 9/60 finished.\n",
      "Train time: 142.44 \t Val time 9.08\n",
      "Train loss 0.4409 \t Train acc: 0.8011\n",
      "Val loss: 0.4487 \t Val acc: 0.7949\n",
      "Best val acc: 0.7986 at epoch 7.\n"
     ]
    },
    {
     "name": "stderr",
     "output_type": "stream",
     "text": [
      "625it [02:22,  4.39it/s]\n"
     ]
    },
    {
     "name": "stdout",
     "output_type": "stream",
     "text": [
      ">> train \t Epoch 11/60 \t Batch 624/625 \t Loss 0.4373 \t Running Acc 0.802 \t Total Acc 0.802 \t Avg Batch Time 0.2275\n",
      "Time: train: 142.20 \t Train loss 0.4373 \t Train acc: 0.8023\n"
     ]
    },
    {
     "name": "stderr",
     "output_type": "stream",
     "text": [
      "79it [00:09,  8.67it/s]\n"
     ]
    },
    {
     "name": "stdout",
     "output_type": "stream",
     "text": [
      ">> val \t Loss 0.4456 \t Running Acc 6.298 \t Total Acc 0.796 \t Avg Batch Time 0.0146\n",
      "Epoch 10/60 finished.\n",
      "Train time: 142.20 \t Val time 9.12\n",
      "Train loss 0.4373 \t Train acc: 0.8023\n",
      "Val loss: 0.4463 \t Val acc: 0.7961\n",
      "Best val acc: 0.7986 at epoch 7.\n"
     ]
    },
    {
     "name": "stderr",
     "output_type": "stream",
     "text": [
      "625it [02:22,  4.38it/s]\n"
     ]
    },
    {
     "name": "stdout",
     "output_type": "stream",
     "text": [
      ">> train \t Epoch 12/60 \t Batch 624/625 \t Loss 0.4343 \t Running Acc 0.805 \t Total Acc 0.805 \t Avg Batch Time 0.2281\n",
      "Time: train: 142.54 \t Train loss 0.4343 \t Train acc: 0.8046\n"
     ]
    },
    {
     "name": "stderr",
     "output_type": "stream",
     "text": [
      "79it [00:09,  8.61it/s]\n"
     ]
    },
    {
     "name": "stdout",
     "output_type": "stream",
     "text": [
      ">> val \t Loss 0.4451 \t Running Acc 6.290 \t Total Acc 0.795 \t Avg Batch Time 0.0147\n",
      "Epoch 11/60 finished.\n",
      "Train time: 142.54 \t Val time 9.18\n",
      "Train loss 0.4343 \t Train acc: 0.8046\n",
      "Val loss: 0.4457 \t Val acc: 0.7950\n",
      "Best val acc: 0.7986 at epoch 7.\n"
     ]
    },
    {
     "name": "stderr",
     "output_type": "stream",
     "text": [
      "625it [02:22,  4.40it/s]\n"
     ]
    },
    {
     "name": "stdout",
     "output_type": "stream",
     "text": [
      ">> train \t Epoch 13/60 \t Batch 624/625 \t Loss 0.4305 \t Running Acc 0.806 \t Total Acc 0.806 \t Avg Batch Time 0.2272\n",
      "Time: train: 142.00 \t Train loss 0.4305 \t Train acc: 0.8059\n"
     ]
    },
    {
     "name": "stderr",
     "output_type": "stream",
     "text": [
      "79it [00:09,  8.71it/s]\n"
     ]
    },
    {
     "name": "stdout",
     "output_type": "stream",
     "text": [
      ">> val \t Loss 0.4406 \t Running Acc 6.326 \t Total Acc 0.800 \t Avg Batch Time 0.0145\n",
      "New best validation model, saving...\n",
      "Epoch 12/60 finished.\n",
      "Train time: 142.00 \t Val time 9.07\n",
      "Train loss 0.4305 \t Train acc: 0.8059\n",
      "Val loss: 0.4411 \t Val acc: 0.7996\n",
      "Best val acc: 0.7996 at epoch 12.\n"
     ]
    },
    {
     "name": "stderr",
     "output_type": "stream",
     "text": [
      "625it [02:21,  4.41it/s]\n"
     ]
    },
    {
     "name": "stdout",
     "output_type": "stream",
     "text": [
      ">> train \t Epoch 14/60 \t Batch 624/625 \t Loss 0.4265 \t Running Acc 0.809 \t Total Acc 0.809 \t Avg Batch Time 0.2268\n",
      "Time: train: 141.76 \t Train loss 0.4265 \t Train acc: 0.8092\n"
     ]
    },
    {
     "name": "stderr",
     "output_type": "stream",
     "text": [
      "79it [00:09,  8.68it/s]\n"
     ]
    },
    {
     "name": "stdout",
     "output_type": "stream",
     "text": [
      ">> val \t Loss 0.4355 \t Running Acc 6.363 \t Total Acc 0.804 \t Avg Batch Time 0.0146\n",
      "New best validation model, saving...\n",
      "Epoch 13/60 finished.\n",
      "Train time: 141.76 \t Val time 9.10\n",
      "Train loss 0.4265 \t Train acc: 0.8092\n",
      "Val loss: 0.4364 \t Val acc: 0.8043\n",
      "Best val acc: 0.8043 at epoch 13.\n"
     ]
    },
    {
     "name": "stderr",
     "output_type": "stream",
     "text": [
      "625it [02:22,  4.39it/s]\n"
     ]
    },
    {
     "name": "stdout",
     "output_type": "stream",
     "text": [
      ">> train \t Epoch 15/60 \t Batch 624/625 \t Loss 0.4222 \t Running Acc 0.811 \t Total Acc 0.811 \t Avg Batch Time 0.2275\n",
      "Time: train: 142.21 \t Train loss 0.4222 \t Train acc: 0.8106\n"
     ]
    },
    {
     "name": "stderr",
     "output_type": "stream",
     "text": [
      "79it [00:09,  8.69it/s]\n"
     ]
    },
    {
     "name": "stdout",
     "output_type": "stream",
     "text": [
      ">> val \t Loss 0.4335 \t Running Acc 6.370 \t Total Acc 0.805 \t Avg Batch Time 0.0145\n",
      "New best validation model, saving...\n",
      "Epoch 14/60 finished.\n",
      "Train time: 142.21 \t Val time 9.09\n",
      "Train loss 0.4222 \t Train acc: 0.8106\n",
      "Val loss: 0.4346 \t Val acc: 0.8052\n",
      "Best val acc: 0.8052 at epoch 14.\n"
     ]
    },
    {
     "name": "stderr",
     "output_type": "stream",
     "text": [
      "625it [02:22,  4.38it/s]\n"
     ]
    },
    {
     "name": "stdout",
     "output_type": "stream",
     "text": [
      ">> train \t Epoch 16/60 \t Batch 624/625 \t Loss 0.4188 \t Running Acc 0.813 \t Total Acc 0.813 \t Avg Batch Time 0.2284\n",
      "Time: train: 142.76 \t Train loss 0.4188 \t Train acc: 0.8132\n"
     ]
    },
    {
     "name": "stderr",
     "output_type": "stream",
     "text": [
      "79it [00:09,  8.69it/s]\n"
     ]
    },
    {
     "name": "stdout",
     "output_type": "stream",
     "text": [
      ">> val \t Loss 0.4288 \t Running Acc 6.371 \t Total Acc 0.805 \t Avg Batch Time 0.0145\n",
      "New best validation model, saving...\n",
      "Epoch 15/60 finished.\n",
      "Train time: 142.76 \t Val time 9.09\n",
      "Train loss 0.4188 \t Train acc: 0.8132\n",
      "Val loss: 0.4302 \t Val acc: 0.8053\n",
      "Best val acc: 0.8053 at epoch 15.\n"
     ]
    },
    {
     "name": "stderr",
     "output_type": "stream",
     "text": [
      "625it [02:21,  4.40it/s]\n"
     ]
    },
    {
     "name": "stdout",
     "output_type": "stream",
     "text": [
      ">> train \t Epoch 17/60 \t Batch 624/625 \t Loss 0.4310 \t Running Acc 0.807 \t Total Acc 0.807 \t Avg Batch Time 0.2269\n",
      "Time: train: 141.84 \t Train loss 0.4310 \t Train acc: 0.8070\n"
     ]
    },
    {
     "name": "stderr",
     "output_type": "stream",
     "text": [
      "79it [00:09,  8.66it/s]\n"
     ]
    },
    {
     "name": "stdout",
     "output_type": "stream",
     "text": [
      ">> val \t Loss 0.4390 \t Running Acc 6.332 \t Total Acc 0.800 \t Avg Batch Time 0.0146\n",
      "Epoch 16/60 finished.\n",
      "Train time: 141.84 \t Val time 9.13\n",
      "Train loss 0.4310 \t Train acc: 0.8070\n",
      "Val loss: 0.4399 \t Val acc: 0.8004\n",
      "Best val acc: 0.8053 at epoch 15.\n"
     ]
    },
    {
     "name": "stderr",
     "output_type": "stream",
     "text": [
      "625it [02:22,  4.40it/s]\n"
     ]
    },
    {
     "name": "stdout",
     "output_type": "stream",
     "text": [
      ">> train \t Epoch 18/60 \t Batch 624/625 \t Loss 0.4299 \t Running Acc 0.808 \t Total Acc 0.808 \t Avg Batch Time 0.2272\n",
      "Time: train: 142.01 \t Train loss 0.4299 \t Train acc: 0.8075\n"
     ]
    },
    {
     "name": "stderr",
     "output_type": "stream",
     "text": [
      "79it [00:09,  8.74it/s]\n"
     ]
    },
    {
     "name": "stdout",
     "output_type": "stream",
     "text": [
      ">> val \t Loss 0.4364 \t Running Acc 6.327 \t Total Acc 0.800 \t Avg Batch Time 0.0145\n",
      "Epoch 17/60 finished.\n",
      "Train time: 142.01 \t Val time 9.04\n",
      "Train loss 0.4299 \t Train acc: 0.8075\n",
      "Val loss: 0.4374 \t Val acc: 0.7997\n",
      "Best val acc: 0.8053 at epoch 15.\n"
     ]
    },
    {
     "name": "stderr",
     "output_type": "stream",
     "text": [
      "625it [02:22,  4.39it/s]\n"
     ]
    },
    {
     "name": "stdout",
     "output_type": "stream",
     "text": [
      ">> train \t Epoch 19/60 \t Batch 624/625 \t Loss 0.4286 \t Running Acc 0.809 \t Total Acc 0.809 \t Avg Batch Time 0.2274\n",
      "Time: train: 142.14 \t Train loss 0.4286 \t Train acc: 0.8085\n"
     ]
    },
    {
     "name": "stderr",
     "output_type": "stream",
     "text": [
      "79it [00:09,  8.76it/s]\n"
     ]
    },
    {
     "name": "stdout",
     "output_type": "stream",
     "text": [
      ">> val \t Loss 0.4362 \t Running Acc 6.362 \t Total Acc 0.804 \t Avg Batch Time 0.0144\n",
      "Epoch 18/60 finished.\n",
      "Train time: 142.14 \t Val time 9.02\n",
      "Train loss 0.4286 \t Train acc: 0.8085\n",
      "Val loss: 0.4372 \t Val acc: 0.8041\n",
      "Best val acc: 0.8053 at epoch 15.\n"
     ]
    },
    {
     "name": "stderr",
     "output_type": "stream",
     "text": [
      "625it [02:22,  4.40it/s]\n"
     ]
    },
    {
     "name": "stdout",
     "output_type": "stream",
     "text": [
      ">> train \t Epoch 20/60 \t Batch 624/625 \t Loss 0.4264 \t Running Acc 0.810 \t Total Acc 0.810 \t Avg Batch Time 0.2271\n",
      "Time: train: 141.95 \t Train loss 0.4264 \t Train acc: 0.8099\n"
     ]
    },
    {
     "name": "stderr",
     "output_type": "stream",
     "text": [
      "79it [00:09,  8.75it/s]\n"
     ]
    },
    {
     "name": "stdout",
     "output_type": "stream",
     "text": [
      ">> val \t Loss 0.4348 \t Running Acc 6.366 \t Total Acc 0.805 \t Avg Batch Time 0.0145\n",
      "Epoch 19/60 finished.\n",
      "Train time: 141.95 \t Val time 9.03\n",
      "Train loss 0.4264 \t Train acc: 0.8099\n",
      "Val loss: 0.4359 \t Val acc: 0.8046\n",
      "Best val acc: 0.8053 at epoch 15.\n"
     ]
    },
    {
     "name": "stderr",
     "output_type": "stream",
     "text": [
      "625it [02:22,  4.40it/s]\n"
     ]
    },
    {
     "name": "stdout",
     "output_type": "stream",
     "text": [
      ">> train \t Epoch 21/60 \t Batch 624/625 \t Loss 0.4245 \t Running Acc 0.811 \t Total Acc 0.811 \t Avg Batch Time 0.2271\n",
      "Time: train: 141.93 \t Train loss 0.4245 \t Train acc: 0.8107\n"
     ]
    },
    {
     "name": "stderr",
     "output_type": "stream",
     "text": [
      "79it [00:09,  8.68it/s]\n"
     ]
    },
    {
     "name": "stdout",
     "output_type": "stream",
     "text": [
      ">> val \t Loss 0.4368 \t Running Acc 6.335 \t Total Acc 0.801 \t Avg Batch Time 0.0146\n",
      "Epoch 20/60 finished.\n",
      "Train time: 141.93 \t Val time 9.10\n",
      "Train loss 0.4245 \t Train acc: 0.8107\n",
      "Val loss: 0.4379 \t Val acc: 0.8008\n",
      "Best val acc: 0.8053 at epoch 15.\n"
     ]
    },
    {
     "name": "stderr",
     "output_type": "stream",
     "text": [
      "625it [02:22,  4.40it/s]\n"
     ]
    },
    {
     "name": "stdout",
     "output_type": "stream",
     "text": [
      ">> train \t Epoch 22/60 \t Batch 624/625 \t Loss 0.4227 \t Running Acc 0.812 \t Total Acc 0.812 \t Avg Batch Time 0.2273\n",
      "Time: train: 142.09 \t Train loss 0.4227 \t Train acc: 0.8122\n"
     ]
    },
    {
     "name": "stderr",
     "output_type": "stream",
     "text": [
      "79it [00:09,  8.68it/s]\n"
     ]
    },
    {
     "name": "stdout",
     "output_type": "stream",
     "text": [
      ">> val \t Loss 0.4360 \t Running Acc 6.391 \t Total Acc 0.808 \t Avg Batch Time 0.0146\n",
      "New best validation model, saving...\n",
      "Epoch 21/60 finished.\n",
      "Train time: 142.09 \t Val time 9.10\n",
      "Train loss 0.4227 \t Train acc: 0.8122\n",
      "Val loss: 0.4370 \t Val acc: 0.8078\n",
      "Best val acc: 0.8078 at epoch 21.\n"
     ]
    },
    {
     "name": "stderr",
     "output_type": "stream",
     "text": [
      "625it [02:22,  4.40it/s]\n"
     ]
    },
    {
     "name": "stdout",
     "output_type": "stream",
     "text": [
      ">> train \t Epoch 23/60 \t Batch 624/625 \t Loss 0.4197 \t Running Acc 0.813 \t Total Acc 0.813 \t Avg Batch Time 0.2273\n",
      "Time: train: 142.05 \t Train loss 0.4197 \t Train acc: 0.8133\n"
     ]
    },
    {
     "name": "stderr",
     "output_type": "stream",
     "text": [
      "79it [00:09,  8.67it/s]\n"
     ]
    },
    {
     "name": "stdout",
     "output_type": "stream",
     "text": [
      ">> val \t Loss 0.4350 \t Running Acc 6.392 \t Total Acc 0.808 \t Avg Batch Time 0.0146\n",
      "New best validation model, saving...\n",
      "Epoch 22/60 finished.\n",
      "Train time: 142.05 \t Val time 9.12\n",
      "Train loss 0.4197 \t Train acc: 0.8133\n",
      "Val loss: 0.4360 \t Val acc: 0.8079\n",
      "Best val acc: 0.8079 at epoch 22.\n"
     ]
    },
    {
     "name": "stderr",
     "output_type": "stream",
     "text": [
      "625it [02:22,  4.38it/s]\n"
     ]
    },
    {
     "name": "stdout",
     "output_type": "stream",
     "text": [
      ">> train \t Epoch 24/60 \t Batch 624/625 \t Loss 0.4165 \t Running Acc 0.815 \t Total Acc 0.815 \t Avg Batch Time 0.2282\n",
      "Time: train: 142.64 \t Train loss 0.4165 \t Train acc: 0.8146\n"
     ]
    },
    {
     "name": "stderr",
     "output_type": "stream",
     "text": [
      "79it [00:09,  8.73it/s]\n"
     ]
    },
    {
     "name": "stdout",
     "output_type": "stream",
     "text": [
      ">> val \t Loss 0.4330 \t Running Acc 6.393 \t Total Acc 0.808 \t Avg Batch Time 0.0145\n",
      "New best validation model, saving...\n",
      "Epoch 23/60 finished.\n",
      "Train time: 142.64 \t Val time 9.05\n",
      "Train loss 0.4165 \t Train acc: 0.8146\n",
      "Val loss: 0.4341 \t Val acc: 0.8081\n",
      "Best val acc: 0.8081 at epoch 23.\n"
     ]
    },
    {
     "name": "stderr",
     "output_type": "stream",
     "text": [
      "625it [02:22,  4.40it/s]\n"
     ]
    },
    {
     "name": "stdout",
     "output_type": "stream",
     "text": [
      ">> train \t Epoch 26/60 \t Batch 624/625 \t Loss 0.4105 \t Running Acc 0.818 \t Total Acc 0.818 \t Avg Batch Time 0.2272\n",
      "Time: train: 142.02 \t Train loss 0.4105 \t Train acc: 0.8178\n"
     ]
    },
    {
     "name": "stderr",
     "output_type": "stream",
     "text": [
      "79it [00:09,  8.78it/s]\n"
     ]
    },
    {
     "name": "stdout",
     "output_type": "stream",
     "text": [
      ">> val \t Loss 0.4304 \t Running Acc 6.410 \t Total Acc 0.810 \t Avg Batch Time 0.0144\n",
      "New best validation model, saving...\n",
      "Epoch 25/60 finished.\n",
      "Train time: 142.02 \t Val time 9.00\n",
      "Train loss 0.4105 \t Train acc: 0.8178\n",
      "Val loss: 0.4318 \t Val acc: 0.8102\n",
      "Best val acc: 0.8102 at epoch 25.\n"
     ]
    },
    {
     "name": "stderr",
     "output_type": "stream",
     "text": [
      "625it [02:22,  4.39it/s]\n"
     ]
    },
    {
     "name": "stdout",
     "output_type": "stream",
     "text": [
      ">> train \t Epoch 27/60 \t Batch 624/625 \t Loss 0.4078 \t Running Acc 0.820 \t Total Acc 0.820 \t Avg Batch Time 0.2278\n",
      "Time: train: 142.39 \t Train loss 0.4078 \t Train acc: 0.8197\n"
     ]
    },
    {
     "name": "stderr",
     "output_type": "stream",
     "text": [
      "79it [00:09,  8.70it/s]\n"
     ]
    },
    {
     "name": "stdout",
     "output_type": "stream",
     "text": [
      ">> val \t Loss 0.4302 \t Running Acc 6.393 \t Total Acc 0.808 \t Avg Batch Time 0.0145\n",
      "Epoch 26/60 finished.\n",
      "Train time: 142.39 \t Val time 9.08\n",
      "Train loss 0.4078 \t Train acc: 0.8197\n",
      "Val loss: 0.4317 \t Val acc: 0.8081\n",
      "Best val acc: 0.8102 at epoch 25.\n"
     ]
    },
    {
     "name": "stderr",
     "output_type": "stream",
     "text": [
      "625it [02:22,  4.40it/s]\n"
     ]
    },
    {
     "name": "stdout",
     "output_type": "stream",
     "text": [
      ">> train \t Epoch 28/60 \t Batch 624/625 \t Loss 0.4041 \t Running Acc 0.822 \t Total Acc 0.822 \t Avg Batch Time 0.2272\n",
      "Time: train: 142.00 \t Train loss 0.4041 \t Train acc: 0.8224\n"
     ]
    },
    {
     "name": "stderr",
     "output_type": "stream",
     "text": [
      "79it [00:09,  8.74it/s]\n"
     ]
    },
    {
     "name": "stdout",
     "output_type": "stream",
     "text": [
      ">> val \t Loss 0.4306 \t Running Acc 6.386 \t Total Acc 0.807 \t Avg Batch Time 0.0145\n",
      "Epoch 27/60 finished.\n",
      "Train time: 142.00 \t Val time 9.04\n",
      "Train loss 0.4041 \t Train acc: 0.8224\n",
      "Val loss: 0.4322 \t Val acc: 0.8072\n",
      "Best val acc: 0.8102 at epoch 25.\n"
     ]
    },
    {
     "name": "stderr",
     "output_type": "stream",
     "text": [
      "625it [02:22,  4.40it/s]\n"
     ]
    },
    {
     "name": "stdout",
     "output_type": "stream",
     "text": [
      ">> train \t Epoch 29/60 \t Batch 624/625 \t Loss 0.4008 \t Running Acc 0.824 \t Total Acc 0.824 \t Avg Batch Time 0.2273\n",
      "Time: train: 142.06 \t Train loss 0.4008 \t Train acc: 0.8240\n"
     ]
    },
    {
     "name": "stderr",
     "output_type": "stream",
     "text": [
      "79it [00:09,  8.72it/s]\n"
     ]
    },
    {
     "name": "stdout",
     "output_type": "stream",
     "text": [
      ">> val \t Loss 0.4285 \t Running Acc 6.405 \t Total Acc 0.810 \t Avg Batch Time 0.0145\n",
      "Epoch 28/60 finished.\n",
      "Train time: 142.06 \t Val time 9.06\n",
      "Train loss 0.4008 \t Train acc: 0.8240\n",
      "Val loss: 0.4301 \t Val acc: 0.8096\n",
      "Best val acc: 0.8102 at epoch 25.\n"
     ]
    },
    {
     "name": "stderr",
     "output_type": "stream",
     "text": [
      "264it [01:00,  4.35it/s]IOPub message rate exceeded.\n",
      "The Jupyter server will temporarily stop sending output\n",
      "to the client in order to avoid crashing it.\n",
      "To change this limit, set the config variable\n",
      "`--ServerApp.iopub_msg_rate_limit`.\n",
      "\n",
      "Current values:\n",
      "ServerApp.iopub_msg_rate_limit=1000.0 (msgs/sec)\n",
      "ServerApp.rate_limit_window=3.0 (secs)\n",
      "\n",
      "625it [02:22,  4.39it/s]\n"
     ]
    },
    {
     "name": "stdout",
     "output_type": "stream",
     "text": [
      ">> train \t Epoch 39/60 \t Batch 624/625 \t Loss 0.3937 \t Running Acc 0.829 \t Total Acc 0.829 \t Avg Batch Time 0.2276\n",
      "Time: train: 142.25 \t Train loss 0.3937 \t Train acc: 0.8288\n"
     ]
    },
    {
     "name": "stderr",
     "output_type": "stream",
     "text": [
      "79it [00:09,  8.68it/s]\n"
     ]
    },
    {
     "name": "stdout",
     "output_type": "stream",
     "text": [
      ">> val \t Loss 0.4239 \t Running Acc 6.421 \t Total Acc 0.812 \t Avg Batch Time 0.0146\n",
      "Epoch 38/60 finished.\n",
      "Train time: 142.25 \t Val time 9.10\n",
      "Train loss 0.3937 \t Train acc: 0.8288\n",
      "Val loss: 0.4254 \t Val acc: 0.8116\n",
      "Best val acc: 0.8117 at epoch 30.\n"
     ]
    },
    {
     "name": "stderr",
     "output_type": "stream",
     "text": [
      "625it [02:22,  4.39it/s]\n"
     ]
    },
    {
     "name": "stdout",
     "output_type": "stream",
     "text": [
      ">> train \t Epoch 40/60 \t Batch 624/625 \t Loss 0.3934 \t Running Acc 0.828 \t Total Acc 0.828 \t Avg Batch Time 0.2279\n",
      "Time: train: 142.42 \t Train loss 0.3934 \t Train acc: 0.8283\n"
     ]
    },
    {
     "name": "stderr",
     "output_type": "stream",
     "text": [
      "79it [00:09,  8.67it/s]\n"
     ]
    },
    {
     "name": "stdout",
     "output_type": "stream",
     "text": [
      ">> val \t Loss 0.4239 \t Running Acc 6.421 \t Total Acc 0.812 \t Avg Batch Time 0.0146\n",
      "Epoch 39/60 finished.\n",
      "Train time: 142.42 \t Val time 9.11\n",
      "Train loss 0.3934 \t Train acc: 0.8283\n",
      "Val loss: 0.4254 \t Val acc: 0.8116\n",
      "Best val acc: 0.8117 at epoch 30.\n"
     ]
    },
    {
     "name": "stderr",
     "output_type": "stream",
     "text": [
      "625it [02:23,  4.36it/s]\n"
     ]
    },
    {
     "name": "stdout",
     "output_type": "stream",
     "text": [
      ">> train \t Epoch 41/60 \t Batch 624/625 \t Loss 0.3932 \t Running Acc 0.829 \t Total Acc 0.829 \t Avg Batch Time 0.2290\n",
      "Time: train: 143.12 \t Train loss 0.3932 \t Train acc: 0.8288\n"
     ]
    },
    {
     "name": "stderr",
     "output_type": "stream",
     "text": [
      "79it [00:09,  8.60it/s]\n"
     ]
    },
    {
     "name": "stdout",
     "output_type": "stream",
     "text": [
      ">> val \t Loss 0.4239 \t Running Acc 6.421 \t Total Acc 0.812 \t Avg Batch Time 0.0147\n",
      "Epoch 40/60 finished.\n",
      "Train time: 143.12 \t Val time 9.18\n",
      "Train loss 0.3932 \t Train acc: 0.8288\n",
      "Val loss: 0.4255 \t Val acc: 0.8116\n",
      "Best val acc: 0.8117 at epoch 30.\n"
     ]
    },
    {
     "name": "stderr",
     "output_type": "stream",
     "text": [
      "625it [02:22,  4.39it/s]\n"
     ]
    },
    {
     "name": "stdout",
     "output_type": "stream",
     "text": [
      ">> train \t Epoch 42/60 \t Batch 624/625 \t Loss 0.3935 \t Running Acc 0.829 \t Total Acc 0.829 \t Avg Batch Time 0.2278\n",
      "Time: train: 142.39 \t Train loss 0.3935 \t Train acc: 0.8289\n"
     ]
    },
    {
     "name": "stderr",
     "output_type": "stream",
     "text": [
      "79it [00:09,  8.73it/s]\n"
     ]
    },
    {
     "name": "stdout",
     "output_type": "stream",
     "text": [
      ">> val \t Loss 0.4239 \t Running Acc 6.421 \t Total Acc 0.812 \t Avg Batch Time 0.0145\n",
      "Epoch 41/60 finished.\n",
      "Train time: 142.39 \t Val time 9.05\n",
      "Train loss 0.3935 \t Train acc: 0.8289\n",
      "Val loss: 0.4255 \t Val acc: 0.8116\n",
      "Best val acc: 0.8117 at epoch 30.\n"
     ]
    },
    {
     "name": "stderr",
     "output_type": "stream",
     "text": [
      "625it [02:22,  4.39it/s]\n"
     ]
    },
    {
     "name": "stdout",
     "output_type": "stream",
     "text": [
      ">> train \t Epoch 43/60 \t Batch 624/625 \t Loss 0.3936 \t Running Acc 0.829 \t Total Acc 0.829 \t Avg Batch Time 0.2276\n",
      "Time: train: 142.25 \t Train loss 0.3936 \t Train acc: 0.8290\n"
     ]
    },
    {
     "name": "stderr",
     "output_type": "stream",
     "text": [
      "79it [00:09,  8.68it/s]\n"
     ]
    },
    {
     "name": "stdout",
     "output_type": "stream",
     "text": [
      ">> val \t Loss 0.4239 \t Running Acc 6.421 \t Total Acc 0.812 \t Avg Batch Time 0.0146\n",
      "Epoch 42/60 finished.\n",
      "Train time: 142.25 \t Val time 9.11\n",
      "Train loss 0.3936 \t Train acc: 0.8290\n",
      "Val loss: 0.4254 \t Val acc: 0.8116\n",
      "Best val acc: 0.8117 at epoch 30.\n"
     ]
    },
    {
     "name": "stderr",
     "output_type": "stream",
     "text": [
      "625it [02:22,  4.39it/s]\n"
     ]
    },
    {
     "name": "stdout",
     "output_type": "stream",
     "text": [
      ">> train \t Epoch 44/60 \t Batch 624/625 \t Loss 0.3935 \t Running Acc 0.829 \t Total Acc 0.829 \t Avg Batch Time 0.2277\n",
      "Time: train: 142.30 \t Train loss 0.3935 \t Train acc: 0.8286\n"
     ]
    },
    {
     "name": "stderr",
     "output_type": "stream",
     "text": [
      "79it [00:09,  8.71it/s]\n"
     ]
    },
    {
     "name": "stdout",
     "output_type": "stream",
     "text": [
      ">> val \t Loss 0.4239 \t Running Acc 6.421 \t Total Acc 0.812 \t Avg Batch Time 0.0145\n",
      "Epoch 43/60 finished.\n",
      "Train time: 142.30 \t Val time 9.08\n",
      "Train loss 0.3935 \t Train acc: 0.8286\n",
      "Val loss: 0.4255 \t Val acc: 0.8116\n",
      "Best val acc: 0.8117 at epoch 30.\n"
     ]
    },
    {
     "name": "stderr",
     "output_type": "stream",
     "text": [
      "625it [02:22,  4.40it/s]\n"
     ]
    },
    {
     "name": "stdout",
     "output_type": "stream",
     "text": [
      ">> train \t Epoch 45/60 \t Batch 624/625 \t Loss 0.3936 \t Running Acc 0.829 \t Total Acc 0.829 \t Avg Batch Time 0.2272\n",
      "Time: train: 141.99 \t Train loss 0.3936 \t Train acc: 0.8286\n"
     ]
    },
    {
     "name": "stderr",
     "output_type": "stream",
     "text": [
      "79it [00:09,  8.72it/s]\n"
     ]
    },
    {
     "name": "stdout",
     "output_type": "stream",
     "text": [
      ">> val \t Loss 0.4239 \t Running Acc 6.421 \t Total Acc 0.812 \t Avg Batch Time 0.0145\n",
      "Epoch 44/60 finished.\n",
      "Train time: 141.99 \t Val time 9.06\n",
      "Train loss 0.3936 \t Train acc: 0.8286\n",
      "Val loss: 0.4255 \t Val acc: 0.8116\n",
      "Best val acc: 0.8117 at epoch 30.\n"
     ]
    },
    {
     "name": "stderr",
     "output_type": "stream",
     "text": [
      "625it [02:22,  4.39it/s]\n"
     ]
    },
    {
     "name": "stdout",
     "output_type": "stream",
     "text": [
      ">> train \t Epoch 46/60 \t Batch 624/625 \t Loss 0.3933 \t Running Acc 0.829 \t Total Acc 0.829 \t Avg Batch Time 0.2275\n",
      "Time: train: 142.19 \t Train loss 0.3933 \t Train acc: 0.8290\n"
     ]
    },
    {
     "name": "stderr",
     "output_type": "stream",
     "text": [
      "79it [00:09,  8.76it/s]\n"
     ]
    },
    {
     "name": "stdout",
     "output_type": "stream",
     "text": [
      ">> val \t Loss 0.4239 \t Running Acc 6.421 \t Total Acc 0.812 \t Avg Batch Time 0.0144\n",
      "Epoch 45/60 finished.\n",
      "Train time: 142.19 \t Val time 9.02\n",
      "Train loss 0.3933 \t Train acc: 0.8290\n",
      "Val loss: 0.4255 \t Val acc: 0.8116\n",
      "Best val acc: 0.8117 at epoch 30.\n"
     ]
    },
    {
     "name": "stderr",
     "output_type": "stream",
     "text": [
      "625it [02:22,  4.40it/s]\n"
     ]
    },
    {
     "name": "stdout",
     "output_type": "stream",
     "text": [
      ">> train \t Epoch 47/60 \t Batch 624/625 \t Loss 0.3932 \t Running Acc 0.829 \t Total Acc 0.829 \t Avg Batch Time 0.2272\n",
      "Time: train: 141.97 \t Train loss 0.3932 \t Train acc: 0.8286\n"
     ]
    },
    {
     "name": "stderr",
     "output_type": "stream",
     "text": [
      "79it [00:09,  8.72it/s]\n"
     ]
    },
    {
     "name": "stdout",
     "output_type": "stream",
     "text": [
      ">> val \t Loss 0.4239 \t Running Acc 6.421 \t Total Acc 0.812 \t Avg Batch Time 0.0145\n",
      "Epoch 46/60 finished.\n",
      "Train time: 141.97 \t Val time 9.07\n",
      "Train loss 0.3932 \t Train acc: 0.8286\n",
      "Val loss: 0.4255 \t Val acc: 0.8116\n",
      "Best val acc: 0.8117 at epoch 30.\n"
     ]
    },
    {
     "name": "stderr",
     "output_type": "stream",
     "text": [
      "625it [02:22,  4.39it/s]\n"
     ]
    },
    {
     "name": "stdout",
     "output_type": "stream",
     "text": [
      ">> train \t Epoch 48/60 \t Batch 624/625 \t Loss 0.3936 \t Running Acc 0.828 \t Total Acc 0.828 \t Avg Batch Time 0.2278\n",
      "Time: train: 142.36 \t Train loss 0.3936 \t Train acc: 0.8283\n"
     ]
    },
    {
     "name": "stderr",
     "output_type": "stream",
     "text": [
      "79it [00:09,  8.70it/s]\n"
     ]
    },
    {
     "name": "stdout",
     "output_type": "stream",
     "text": [
      ">> val \t Loss 0.4239 \t Running Acc 6.421 \t Total Acc 0.812 \t Avg Batch Time 0.0145\n",
      "Epoch 47/60 finished.\n",
      "Train time: 142.36 \t Val time 9.08\n",
      "Train loss 0.3936 \t Train acc: 0.8283\n",
      "Val loss: 0.4255 \t Val acc: 0.8116\n",
      "Best val acc: 0.8117 at epoch 30.\n"
     ]
    },
    {
     "name": "stderr",
     "output_type": "stream",
     "text": [
      "625it [02:22,  4.40it/s]\n"
     ]
    },
    {
     "name": "stdout",
     "output_type": "stream",
     "text": [
      ">> train \t Epoch 49/60 \t Batch 624/625 \t Loss 0.3932 \t Running Acc 0.829 \t Total Acc 0.829 \t Avg Batch Time 0.2272\n",
      "Time: train: 142.02 \t Train loss 0.3932 \t Train acc: 0.8287\n"
     ]
    },
    {
     "name": "stderr",
     "output_type": "stream",
     "text": [
      "79it [00:09,  8.72it/s]\n"
     ]
    },
    {
     "name": "stdout",
     "output_type": "stream",
     "text": [
      ">> val \t Loss 0.4239 \t Running Acc 6.421 \t Total Acc 0.812 \t Avg Batch Time 0.0145\n",
      "Epoch 48/60 finished.\n",
      "Train time: 142.02 \t Val time 9.06\n",
      "Train loss 0.3932 \t Train acc: 0.8287\n",
      "Val loss: 0.4255 \t Val acc: 0.8116\n",
      "Best val acc: 0.8117 at epoch 30.\n"
     ]
    },
    {
     "name": "stderr",
     "output_type": "stream",
     "text": [
      "625it [02:23,  4.36it/s]\n"
     ]
    },
    {
     "name": "stdout",
     "output_type": "stream",
     "text": [
      ">> train \t Epoch 50/60 \t Batch 624/625 \t Loss 0.3935 \t Running Acc 0.829 \t Total Acc 0.829 \t Avg Batch Time 0.2291\n",
      "Time: train: 143.17 \t Train loss 0.3935 \t Train acc: 0.8289\n"
     ]
    },
    {
     "name": "stderr",
     "output_type": "stream",
     "text": [
      "79it [00:09,  8.70it/s]\n"
     ]
    },
    {
     "name": "stdout",
     "output_type": "stream",
     "text": [
      ">> val \t Loss 0.4239 \t Running Acc 6.421 \t Total Acc 0.812 \t Avg Batch Time 0.0145\n",
      "Epoch 49/60 finished.\n",
      "Train time: 143.17 \t Val time 9.08\n",
      "Train loss 0.3935 \t Train acc: 0.8289\n",
      "Val loss: 0.4255 \t Val acc: 0.8116\n",
      "Best val acc: 0.8117 at epoch 30.\n"
     ]
    },
    {
     "name": "stderr",
     "output_type": "stream",
     "text": [
      "625it [02:22,  4.39it/s]\n"
     ]
    },
    {
     "name": "stdout",
     "output_type": "stream",
     "text": [
      ">> train \t Epoch 51/60 \t Batch 624/625 \t Loss 0.3936 \t Running Acc 0.828 \t Total Acc 0.828 \t Avg Batch Time 0.2277\n",
      "Time: train: 142.28 \t Train loss 0.3936 \t Train acc: 0.8284\n"
     ]
    },
    {
     "name": "stderr",
     "output_type": "stream",
     "text": [
      "79it [00:09,  8.73it/s]\n"
     ]
    },
    {
     "name": "stdout",
     "output_type": "stream",
     "text": [
      ">> val \t Loss 0.4239 \t Running Acc 6.421 \t Total Acc 0.812 \t Avg Batch Time 0.0145\n",
      "Epoch 50/60 finished.\n",
      "Train time: 142.28 \t Val time 9.05\n",
      "Train loss 0.3936 \t Train acc: 0.8284\n",
      "Val loss: 0.4255 \t Val acc: 0.8116\n",
      "Best val acc: 0.8117 at epoch 30.\n"
     ]
    },
    {
     "name": "stderr",
     "output_type": "stream",
     "text": [
      "625it [02:22,  4.39it/s]\n"
     ]
    },
    {
     "name": "stdout",
     "output_type": "stream",
     "text": [
      ">> train \t Epoch 52/60 \t Batch 624/625 \t Loss 0.3935 \t Running Acc 0.829 \t Total Acc 0.829 \t Avg Batch Time 0.2275\n",
      "Time: train: 142.18 \t Train loss 0.3935 \t Train acc: 0.8287\n"
     ]
    },
    {
     "name": "stderr",
     "output_type": "stream",
     "text": [
      "79it [00:09,  8.61it/s]\n"
     ]
    },
    {
     "name": "stdout",
     "output_type": "stream",
     "text": [
      ">> val \t Loss 0.4239 \t Running Acc 6.421 \t Total Acc 0.812 \t Avg Batch Time 0.0147\n",
      "Epoch 51/60 finished.\n",
      "Train time: 142.18 \t Val time 9.18\n",
      "Train loss 0.3935 \t Train acc: 0.8287\n",
      "Val loss: 0.4255 \t Val acc: 0.8116\n",
      "Best val acc: 0.8117 at epoch 30.\n"
     ]
    },
    {
     "name": "stderr",
     "output_type": "stream",
     "text": [
      "625it [02:22,  4.38it/s]\n"
     ]
    },
    {
     "name": "stdout",
     "output_type": "stream",
     "text": [
      ">> train \t Epoch 53/60 \t Batch 624/625 \t Loss 0.3935 \t Running Acc 0.829 \t Total Acc 0.829 \t Avg Batch Time 0.2282\n",
      "Time: train: 142.64 \t Train loss 0.3935 \t Train acc: 0.8289\n"
     ]
    },
    {
     "name": "stderr",
     "output_type": "stream",
     "text": [
      "79it [00:09,  8.63it/s]\n"
     ]
    },
    {
     "name": "stdout",
     "output_type": "stream",
     "text": [
      ">> val \t Loss 0.4239 \t Running Acc 6.421 \t Total Acc 0.812 \t Avg Batch Time 0.0146\n",
      "Epoch 52/60 finished.\n",
      "Train time: 142.64 \t Val time 9.15\n",
      "Train loss 0.3935 \t Train acc: 0.8289\n",
      "Val loss: 0.4255 \t Val acc: 0.8116\n",
      "Best val acc: 0.8117 at epoch 30.\n"
     ]
    },
    {
     "name": "stderr",
     "output_type": "stream",
     "text": [
      "625it [02:22,  4.38it/s]\n"
     ]
    },
    {
     "name": "stdout",
     "output_type": "stream",
     "text": [
      ">> train \t Epoch 54/60 \t Batch 624/625 \t Loss 0.3936 \t Running Acc 0.829 \t Total Acc 0.829 \t Avg Batch Time 0.2282\n",
      "Time: train: 142.60 \t Train loss 0.3936 \t Train acc: 0.8287\n"
     ]
    },
    {
     "name": "stderr",
     "output_type": "stream",
     "text": [
      "79it [00:09,  8.63it/s]\n"
     ]
    },
    {
     "name": "stdout",
     "output_type": "stream",
     "text": [
      ">> val \t Loss 0.4239 \t Running Acc 6.421 \t Total Acc 0.812 \t Avg Batch Time 0.0146\n",
      "Epoch 53/60 finished.\n",
      "Train time: 142.60 \t Val time 9.15\n",
      "Train loss 0.3936 \t Train acc: 0.8287\n",
      "Val loss: 0.4255 \t Val acc: 0.8116\n",
      "Best val acc: 0.8117 at epoch 30.\n"
     ]
    },
    {
     "name": "stderr",
     "output_type": "stream",
     "text": [
      "625it [02:22,  4.37it/s]\n"
     ]
    },
    {
     "name": "stdout",
     "output_type": "stream",
     "text": [
      ">> train \t Epoch 55/60 \t Batch 624/625 \t Loss 0.3933 \t Running Acc 0.829 \t Total Acc 0.829 \t Avg Batch Time 0.2286\n",
      "Time: train: 142.85 \t Train loss 0.3933 \t Train acc: 0.8291\n"
     ]
    },
    {
     "name": "stderr",
     "output_type": "stream",
     "text": [
      "79it [00:09,  8.68it/s]\n"
     ]
    },
    {
     "name": "stdout",
     "output_type": "stream",
     "text": [
      ">> val \t Loss 0.4239 \t Running Acc 6.421 \t Total Acc 0.812 \t Avg Batch Time 0.0146\n",
      "Epoch 54/60 finished.\n",
      "Train time: 142.85 \t Val time 9.10\n",
      "Train loss 0.3933 \t Train acc: 0.8291\n",
      "Val loss: 0.4255 \t Val acc: 0.8116\n",
      "Best val acc: 0.8117 at epoch 30.\n"
     ]
    },
    {
     "name": "stderr",
     "output_type": "stream",
     "text": [
      "625it [02:22,  4.40it/s]\n"
     ]
    },
    {
     "name": "stdout",
     "output_type": "stream",
     "text": [
      ">> train \t Epoch 56/60 \t Batch 624/625 \t Loss 0.3935 \t Running Acc 0.829 \t Total Acc 0.829 \t Avg Batch Time 0.2272\n",
      "Time: train: 142.03 \t Train loss 0.3935 \t Train acc: 0.8286\n"
     ]
    },
    {
     "name": "stderr",
     "output_type": "stream",
     "text": [
      "79it [00:09,  8.70it/s]\n"
     ]
    },
    {
     "name": "stdout",
     "output_type": "stream",
     "text": [
      ">> val \t Loss 0.4239 \t Running Acc 6.421 \t Total Acc 0.812 \t Avg Batch Time 0.0145\n",
      "Epoch 55/60 finished.\n",
      "Train time: 142.03 \t Val time 9.08\n",
      "Train loss 0.3935 \t Train acc: 0.8286\n",
      "Val loss: 0.4255 \t Val acc: 0.8116\n",
      "Best val acc: 0.8117 at epoch 30.\n"
     ]
    },
    {
     "name": "stderr",
     "output_type": "stream",
     "text": [
      "625it [02:22,  4.39it/s]\n"
     ]
    },
    {
     "name": "stdout",
     "output_type": "stream",
     "text": [
      ">> train \t Epoch 57/60 \t Batch 624/625 \t Loss 0.3935 \t Running Acc 0.829 \t Total Acc 0.829 \t Avg Batch Time 0.2278\n",
      "Time: train: 142.36 \t Train loss 0.3935 \t Train acc: 0.8290\n"
     ]
    },
    {
     "name": "stderr",
     "output_type": "stream",
     "text": [
      "79it [00:09,  8.66it/s]\n"
     ]
    },
    {
     "name": "stdout",
     "output_type": "stream",
     "text": [
      ">> val \t Loss 0.4239 \t Running Acc 6.421 \t Total Acc 0.812 \t Avg Batch Time 0.0146\n",
      "Epoch 56/60 finished.\n",
      "Train time: 142.36 \t Val time 9.12\n",
      "Train loss 0.3935 \t Train acc: 0.8290\n",
      "Val loss: 0.4255 \t Val acc: 0.8116\n",
      "Best val acc: 0.8117 at epoch 30.\n"
     ]
    },
    {
     "name": "stderr",
     "output_type": "stream",
     "text": [
      "625it [02:22,  4.37it/s]\n"
     ]
    },
    {
     "name": "stdout",
     "output_type": "stream",
     "text": [
      ">> train \t Epoch 58/60 \t Batch 624/625 \t Loss 0.3936 \t Running Acc 0.829 \t Total Acc 0.829 \t Avg Batch Time 0.2287\n",
      "Time: train: 142.91 \t Train loss 0.3936 \t Train acc: 0.8289\n"
     ]
    },
    {
     "name": "stderr",
     "output_type": "stream",
     "text": [
      "79it [00:09,  8.62it/s]\n"
     ]
    },
    {
     "name": "stdout",
     "output_type": "stream",
     "text": [
      ">> val \t Loss 0.4239 \t Running Acc 6.421 \t Total Acc 0.812 \t Avg Batch Time 0.0147\n",
      "Epoch 57/60 finished.\n",
      "Train time: 142.91 \t Val time 9.16\n",
      "Train loss 0.3936 \t Train acc: 0.8289\n",
      "Val loss: 0.4255 \t Val acc: 0.8116\n",
      "Best val acc: 0.8117 at epoch 30.\n"
     ]
    },
    {
     "name": "stderr",
     "output_type": "stream",
     "text": [
      "625it [02:22,  4.38it/s]\n"
     ]
    },
    {
     "name": "stdout",
     "output_type": "stream",
     "text": [
      ">> train \t Epoch 59/60 \t Batch 624/625 \t Loss 0.3934 \t Running Acc 0.829 \t Total Acc 0.829 \t Avg Batch Time 0.2280\n",
      "Time: train: 142.49 \t Train loss 0.3934 \t Train acc: 0.8288\n"
     ]
    },
    {
     "name": "stderr",
     "output_type": "stream",
     "text": [
      "79it [00:09,  8.69it/s]\n"
     ]
    },
    {
     "name": "stdout",
     "output_type": "stream",
     "text": [
      ">> val \t Loss 0.4239 \t Running Acc 6.421 \t Total Acc 0.812 \t Avg Batch Time 0.0146\n",
      "Epoch 58/60 finished.\n",
      "Train time: 142.49 \t Val time 9.09\n",
      "Train loss 0.3934 \t Train acc: 0.8288\n",
      "Val loss: 0.4255 \t Val acc: 0.8116\n",
      "Best val acc: 0.8117 at epoch 30.\n"
     ]
    },
    {
     "name": "stderr",
     "output_type": "stream",
     "text": [
      "625it [02:22,  4.39it/s]\n"
     ]
    },
    {
     "name": "stdout",
     "output_type": "stream",
     "text": [
      ">> train \t Epoch 60/60 \t Batch 624/625 \t Loss 0.3936 \t Running Acc 0.829 \t Total Acc 0.829 \t Avg Batch Time 0.2278\n",
      "Time: train: 142.35 \t Train loss 0.3936 \t Train acc: 0.8290\n"
     ]
    },
    {
     "name": "stderr",
     "output_type": "stream",
     "text": [
      "79it [00:09,  8.68it/s]\n"
     ]
    },
    {
     "name": "stdout",
     "output_type": "stream",
     "text": [
      ">> val \t Loss 0.4239 \t Running Acc 6.421 \t Total Acc 0.812 \t Avg Batch Time 0.0146\n",
      "Epoch 59/60 finished.\n",
      "Train time: 142.35 \t Val time 9.10\n",
      "Train loss 0.3936 \t Train acc: 0.8290\n",
      "Val loss: 0.4255 \t Val acc: 0.8116\n",
      "Best val acc: 0.8117 at epoch 30.\n"
     ]
    },
    {
     "name": "stderr",
     "output_type": "stream",
     "text": [
      "79it [00:09,  8.57it/s]"
     ]
    },
    {
     "name": "stdout",
     "output_type": "stream",
     "text": [
      ">> test \t Loss 0.4286 \t Running Acc 6.430 \t Total Acc 0.813 \t Avg Batch Time 0.0148\n",
      "Final  tensor([[0.0000, 0.6743, 0.3257],\n",
      "        [1.0000, 0.1711, 0.8289],\n",
      "        [1.0000, 0.9159, 0.0841],\n",
      "        ...,\n",
      "        [0.0000, 0.9256, 0.0744],\n",
      "        [1.0000, 0.1765, 0.8235],\n",
      "        [0.0000, 0.0441, 0.9559]], device='cuda:0')\n",
      "Test: Loss 0.4238 \t Acc 0.8128 \t AUC: 0.8880 \t 1/eB 0.3: 79.0781 \t 1/eB 0.5: 27.2097\n"
     ]
    },
    {
     "name": "stderr",
     "output_type": "stream",
     "text": [
      "\n"
     ]
    }
   ],
   "source": [
    "import torch\n",
    "from torch import nn, optim\n",
    "import json, time\n",
    "import utils_lorentz\n",
    "import numpy as np\n",
    "import torch.distributed as dist\n",
    "from torch.nn.parallel import DistributedDataParallel\n",
    "from torch.optim.lr_scheduler import CosineAnnealingWarmRestarts\n",
    "\n",
    "from tqdm import tqdm\n",
    "\n",
    "def run(epoch, loader, partition, N_EPOCHS=None):\n",
    "    if partition == 'train':\n",
    "        model.train()\n",
    "    else:\n",
    "        model.eval()\n",
    "\n",
    "    res = {'time':0, 'correct':0, 'loss': 0, 'counter': 0, 'acc': 0,\n",
    "           'loss_arr':[], 'correct_arr':[],'label':[],'score':[]}\n",
    "\n",
    "    tik = time.time()\n",
    "    loader_length = len(loader)\n",
    "\n",
    "    for i, (label, p4s, nodes, atom_mask, edge_mask, edges) in tqdm(enumerate(loader)):\n",
    "        if partition == 'train':\n",
    "            optimizer.zero_grad()\n",
    "\n",
    "        batch_size, n_nodes, _ = p4s.size()\n",
    "        atom_positions = p4s.view(batch_size * n_nodes, -1).to(device, dtype)\n",
    "        atom_mask = atom_mask.view(batch_size * n_nodes, -1).to(device)\n",
    "        edge_mask = edge_mask.reshape(batch_size * n_nodes * n_nodes, -1).to(device)\n",
    "        nodes = nodes.view(batch_size * n_nodes, -1).to(device,dtype)\n",
    "        edges = [a.to(device) for a in edges]\n",
    "        label = label.to(device, dtype).long()\n",
    "\n",
    "        pred = model(scalars=nodes, x=atom_positions, edges=edges, node_mask=atom_mask,\n",
    "                         edge_mask=edge_mask, n_nodes=n_nodes)\n",
    "        \n",
    "        predict = pred.max(1).indices\n",
    "        correct = torch.sum(predict == label).item()\n",
    "        loss = loss_fn(pred, label)\n",
    "        \n",
    "        if partition == 'train':\n",
    "            loss.backward()\n",
    "            optimizer.step()\n",
    "        elif partition == 'test':\n",
    "            # save labels and probilities for ROC / AUC\n",
    "            # print(\"Preds \", pred)\n",
    "            score = torch.nn.functional.softmax(pred, dim = -1)\n",
    "            # print(\"Score test \", score)\n",
    "            # raise\n",
    "            res['label'].append(label)\n",
    "            res['score'].append(score)\n",
    "\n",
    "        res['time'] = time.time() - tik\n",
    "        res['correct'] += correct\n",
    "        res['loss'] += loss.item() * batch_size\n",
    "        res['counter'] += batch_size\n",
    "        res['loss_arr'].append(loss.item())\n",
    "        res['correct_arr'].append(correct)\n",
    "\n",
    "        # if i != 0 and i % args.log_interval == 0:\n",
    "        \n",
    "    running_loss = sum(res['loss_arr'])/len(res['loss_arr'])\n",
    "    running_acc = sum(res['correct_arr'])/(len(res['correct_arr'])*batch_size)\n",
    "    avg_time = res['time']/res['counter'] * batch_size\n",
    "    tmp_counter = res['counter']\n",
    "    tmp_loss = res['loss'] / tmp_counter\n",
    "    tmp_acc = res['correct'] / tmp_counter\n",
    "\n",
    "    if N_EPOCHS:\n",
    "        print(\">> %s \\t Epoch %d/%d \\t Batch %d/%d \\t Loss %.4f \\t Running Acc %.3f \\t Total Acc %.3f \\t Avg Batch Time %.4f\" %\n",
    "             (partition, epoch + 1, N_EPOCHS, i, loader_length, running_loss, running_acc, tmp_acc, avg_time))\n",
    "    else:\n",
    "        print(\">> %s \\t Loss %.4f \\t Running Acc %.3f \\t Total Acc %.3f \\t Avg Batch Time %.4f\" %\n",
    "             (partition, running_loss, running_acc, tmp_acc, avg_time))\n",
    "        \n",
    "    torch.cuda.empty_cache()\n",
    "    # ---------- reduce -----------\n",
    "    if partition == 'test':\n",
    "        res['label'] = torch.cat(res['label']).unsqueeze(-1)\n",
    "        res['score'] = torch.cat(res['score'])\n",
    "        res['score'] = torch.cat((res['label'],res['score']),dim=-1)\n",
    "    res['counter'] = res['counter']\n",
    "    res['loss'] = res['loss'] / res['counter']\n",
    "    res['acc'] = res['correct'] / res['counter']\n",
    "    return res\n",
    "\n",
    "def train(res, N_EPOCHS):\n",
    "    ### training and validation\n",
    "    for epoch in range(N_EPOCHS):\n",
    "        train_res = run(epoch, dataloaders['train'], partition='train', N_EPOCHS = N_EPOCHS)\n",
    "        print(\"Time: train: %.2f \\t Train loss %.4f \\t Train acc: %.4f\" % (train_res['time'],train_res['loss'],train_res['acc']))\n",
    "        # if epoch % args.val_interval == 0:\n",
    "            \n",
    "        # if (args.local_rank == 0):\n",
    "        torch.save(model.state_dict(), \"models/CMS_task_iii_g/checkpoint-epoch-{}.pt\".format(epoch))\n",
    "        with torch.no_grad():\n",
    "            val_res = run(epoch, dataloaders['val'], partition='val')\n",
    "            \n",
    "        # if (args.local_rank == 0): # only master process save\n",
    "        res['lr'].append(optimizer.param_groups[0]['lr'])\n",
    "        res['train_time'].append(train_res['time'])\n",
    "        res['val_time'].append(val_res['time'])\n",
    "        res['train_loss'].append(train_res['loss'])\n",
    "        res['train_acc'].append(train_res['acc'])\n",
    "        res['val_loss'].append(val_res['loss'])\n",
    "        res['val_acc'].append(val_res['acc'])\n",
    "        res['epochs'].append(epoch)\n",
    "\n",
    "        ## save best model\n",
    "        if val_res['acc'] > res['best_val']:\n",
    "            print(\"New best validation model, saving...\")\n",
    "            torch.save(model.state_dict(), \"models/CMS_task_iii_g/best-val-model.pt\")\n",
    "            res['best_val'] = val_res['acc']\n",
    "            res['best_epoch'] = epoch\n",
    "\n",
    "        print(\"Epoch %d/%d finished.\" % (epoch, N_EPOCHS))\n",
    "        print(\"Train time: %.2f \\t Val time %.2f\" % (train_res['time'], val_res['time']))\n",
    "        print(\"Train loss %.4f \\t Train acc: %.4f\" % (train_res['loss'], train_res['acc']))\n",
    "        print(\"Val loss: %.4f \\t Val acc: %.4f\" % (val_res['loss'], val_res['acc']))\n",
    "        print(\"Best val acc: %.4f at epoch %d.\" % (res['best_val'],  res['best_epoch']))\n",
    "\n",
    "        json_object = json.dumps(res, indent=4)\n",
    "        with open(\"logs/CMS_task_iii_g/train-result-epoch{}.json\".format(epoch), \"w\") as outfile:\n",
    "            outfile.write(json_object)\n",
    "\n",
    "        ## adjust learning rate\n",
    "        if (epoch < 31):\n",
    "            lr_scheduler.step(metrics=val_res['acc'])\n",
    "        else:\n",
    "            for g in optimizer.param_groups:\n",
    "                g['lr'] = g['lr']*0.5\n",
    "\n",
    "\n",
    "def test(res):\n",
    "    ### test on best model\n",
    "    best_model = torch.load(\"models/CMS_task_iii_g/best-val-model.pt\", map_location=device)\n",
    "    model.load_state_dict(best_model)\n",
    "    with torch.no_grad():\n",
    "        test_res = run(0, dataloaders['test'], partition='test')\n",
    "\n",
    "    print(\"Final \", test_res['score'])\n",
    "    pred = test_res['score'].cpu()\n",
    "\n",
    "    np.save(\"logs/CMS_task_iii_g/score.npy\",pred)\n",
    "    fpr, tpr, thres, eB, eS  = utils_lorentz.buildROC(pred[...,0], pred[...,2])\n",
    "    auc = utils_lorentz.roc_auc_score(pred[...,0], pred[...,2])\n",
    "\n",
    "    metric = {'test_loss': test_res['loss'], 'test_acc': test_res['acc'],\n",
    "              'test_auc': auc, 'test_1/eB_0.3':1./eB[0],'test_1/eB_0.5':1./eB[1]}\n",
    "    res.update(metric)\n",
    "    print(\"Test: Loss %.4f \\t Acc %.4f \\t AUC: %.4f \\t 1/eB 0.3: %.4f \\t 1/eB 0.5: %.4f\"\\\n",
    "           % (test_res['loss'], test_res['acc'], auc, 1./eB[0], 1./eB[1]))\n",
    "    json_object = json.dumps(res, indent=4)\n",
    "    with open(\"logs/CMS_task_iii_g/test-result.json\", \"w\") as outfile:\n",
    "        outfile.write(json_object)\n",
    "\n",
    "if __name__ == \"__main__\":\n",
    "    \n",
    "    N_EPOCHS = 60\n",
    "\n",
    "    # utils_lorentz.args_init(args)\n",
    "\n",
    "    ### set random seed\n",
    "    torch.manual_seed(42)\n",
    "    np.random.seed(42)\n",
    "\n",
    "    ### initialize cuda\n",
    "    # dist.init_process_group(backend='nccl')\n",
    "    device = torch.device(\"cuda\")\n",
    "    dtype = torch.float32\n",
    "\n",
    "    ### load data\n",
    "    dataloaders = retrieve_dataloaders( batch_size,\n",
    "                                        num_data=100000, # use all data\n",
    "                                        cache_dir=\"datasets/QMLHEP/quark_gluons/\",\n",
    "                                        num_workers=0,\n",
    "                                        use_one_hot=True)\n",
    "\n",
    "    ### create parallel model\n",
    "    model = LorentzNet(n_scalar = 8, n_hidden = 72, n_class = 2,\\\n",
    "                       dropout = 0.2, n_layers = 6,\\\n",
    "                       c_weight = 1e-3)\n",
    "    \n",
    "    model = model.to(device)\n",
    "\n",
    "    ### print model and dataset information\n",
    "    # if (args.local_rank == 0):\n",
    "    pytorch_total_params = sum(p.numel() for p in model.parameters())\n",
    "    print(\"Model Size:\", pytorch_total_params)\n",
    "    for (split, dataloader) in dataloaders.items():\n",
    "        print(f\" {split} samples: {len(dataloader.dataset)}\")\n",
    "\n",
    "    ### optimizer\n",
    "    optimizer = optim.AdamW(model.parameters(), lr=1e-3, weight_decay=1e-2)\n",
    "\n",
    "    ### lr scheduler\n",
    "    base_scheduler = CosineAnnealingWarmRestarts(optimizer, 4, 2, verbose = False)\n",
    "    lr_scheduler = utils_lorentz.GradualWarmupScheduler(optimizer, multiplier=1,\\\n",
    "                                                warmup_epoch=5,\\\n",
    "                                                after_scheduler=base_scheduler) ## warmup\n",
    "\n",
    "    ### loss function\n",
    "    loss_fn = nn.CrossEntropyLoss()\n",
    "\n",
    "    ### initialize logs\n",
    "    res = {'epochs': [], 'lr' : [],\\\n",
    "           'train_time': [], 'val_time': [],  'train_loss': [], 'val_loss': [],\\\n",
    "           'train_acc': [], 'val_acc': [], 'best_val': 0, 'best_epoch': 0}\n",
    "\n",
    "    ### training and testing\n",
    "    print(\"Training...\")\n",
    "    train(res, N_EPOCHS)\n",
    "    test(res)"
   ]
  },
  {
   "cell_type": "code",
   "execution_count": 139,
   "metadata": {},
   "outputs": [],
   "source": [
    "torch.cuda.empty_cache()"
   ]
  },
  {
   "cell_type": "markdown",
   "metadata": {},
   "source": [
    "### Let's understand the results"
   ]
  },
  {
   "cell_type": "code",
   "execution_count": 141,
   "metadata": {},
   "outputs": [],
   "source": [
    "loss_train = res['train_loss']\n",
    "loss_val = res['val_loss']\n",
    "\n",
    "acc_train = res['train_acc']\n",
    "acc_val = res['val_acc']"
   ]
  },
  {
   "cell_type": "code",
   "execution_count": 142,
   "metadata": {},
   "outputs": [
    {
     "data": {
      "image/png": "[encoded data removed]",
      "text/plain": [
       "<Figure size 1600x600 with 2 Axes>"
      ]
     },
     "metadata": {},
     "output_type": "display_data"
    }
   ],
   "source": [
    "draw_metric_evolution()"
   ]
  },
  {
   "cell_type": "code",
   "execution_count": 138,
   "metadata": {},
   "outputs": [
    {
     "data": {
      "text/plain": [
       "dict_keys(['epochs', 'lr', 'train_time', 'val_time', 'train_loss', 'val_loss', 'train_acc', 'val_acc', 'best_val', 'best_epoch', 'test_loss', 'test_acc', 'test_auc', 'test_1/eB_0.3', 'test_1/eB_0.5'])"
      ]
     },
     "execution_count": 138,
     "metadata": {},
     "output_type": "execute_result"
    }
   ],
   "source": [
    "res.keys()#['test_auc']"
   ]
  },
  {
   "cell_type": "code",
   "execution_count": 153,
   "metadata": {
    "collapsed": true,
    "jupyter": {
     "outputs_hidden": true
    }
   },
   "outputs": [
    {
     "data": {
      "text/plain": [
       "LorentzNet(\n",
       "  (embedding): Linear(in_features=8, out_features=72, bias=True)\n",
       "  (LGEBs): ModuleList(\n",
       "    (0-4): 5 x LGEB(\n",
       "      (phi_e): Sequential(\n",
       "        (0): Linear(in_features=146, out_features=72, bias=False)\n",
       "        (1): BatchNorm1d(72, eps=1e-05, momentum=0.1, affine=True, track_running_stats=True)\n",
       "        (2): ReLU()\n",
       "        (3): Linear(in_features=72, out_features=72, bias=True)\n",
       "        (4): ReLU()\n",
       "      )\n",
       "      (phi_h): Sequential(\n",
       "        (0): Linear(in_features=152, out_features=72, bias=True)\n",
       "        (1): BatchNorm1d(72, eps=1e-05, momentum=0.1, affine=True, track_running_stats=True)\n",
       "        (2): ReLU()\n",
       "        (3): Linear(in_features=72, out_features=72, bias=True)\n",
       "      )\n",
       "      (phi_x): Sequential(\n",
       "        (0): Linear(in_features=72, out_features=72, bias=True)\n",
       "        (1): ReLU()\n",
       "        (2): Linear(in_features=72, out_features=1, bias=False)\n",
       "      )\n",
       "      (phi_m): Sequential(\n",
       "        (0): Linear(in_features=72, out_features=1, bias=True)\n",
       "        (1): Sigmoid()\n",
       "      )\n",
       "    )\n",
       "    (5): LGEB(\n",
       "      (phi_e): Sequential(\n",
       "        (0): Linear(in_features=146, out_features=72, bias=False)\n",
       "        (1): BatchNorm1d(72, eps=1e-05, momentum=0.1, affine=True, track_running_stats=True)\n",
       "        (2): ReLU()\n",
       "        (3): Linear(in_features=72, out_features=72, bias=True)\n",
       "        (4): ReLU()\n",
       "      )\n",
       "      (phi_h): Sequential(\n",
       "        (0): Linear(in_features=152, out_features=72, bias=True)\n",
       "        (1): BatchNorm1d(72, eps=1e-05, momentum=0.1, affine=True, track_running_stats=True)\n",
       "        (2): ReLU()\n",
       "        (3): Linear(in_features=72, out_features=72, bias=True)\n",
       "      )\n",
       "      (phi_m): Sequential(\n",
       "        (0): Linear(in_features=72, out_features=1, bias=True)\n",
       "        (1): Sigmoid()\n",
       "      )\n",
       "    )\n",
       "  )\n",
       "  (graph_dec): Sequential(\n",
       "    (0): Linear(in_features=72, out_features=72, bias=True)\n",
       "    (1): ReLU()\n",
       "    (2): Dropout(p=0.2, inplace=False)\n",
       "    (3): Linear(in_features=72, out_features=2, bias=True)\n",
       "  )\n",
       ")"
      ]
     },
     "execution_count": 153,
     "metadata": {},
     "output_type": "execute_result"
    }
   ],
   "source": [
    "\n",
    "device = 'cpu'\n",
    "model.to(device)"
   ]
  },
  {
   "cell_type": "code",
   "execution_count": 174,
   "metadata": {},
   "outputs": [
    {
     "name": "stderr",
     "output_type": "stream",
     "text": [
      "79it [01:33,  1.19s/it]\n"
     ]
    }
   ],
   "source": [
    "pred_val = []\n",
    "pred_label = []\n",
    "true_label = []\n",
    "\n",
    "for i, (label, p4s, nodes, atom_mask, edge_mask, edges) in tqdm(enumerate(dataloaders['test'])):\n",
    "\n",
    "    batch_size, n_nodes, _ = p4s.size()\n",
    "    atom_positions = p4s.view(batch_size * n_nodes, -1).to(device, dtype)\n",
    "    atom_mask = atom_mask.view(batch_size * n_nodes, -1).to(device)\n",
    "    edge_mask = edge_mask.reshape(batch_size * n_nodes * n_nodes, -1).to(device)\n",
    "    nodes = nodes.view(batch_size * n_nodes, -1).to(device,dtype)\n",
    "    edges = [a.to(device) for a in edges]\n",
    "    label = label.to(device, dtype).long()\n",
    "\n",
    "    pred = model(scalars=nodes, x=atom_positions, edges=edges, node_mask=atom_mask,\n",
    "                     edge_mask=edge_mask, n_nodes=n_nodes)\n",
    "\n",
    "    # print(F.softmax(pred, dim=1).detach())\n",
    "    pred_val.append(F.softmax(pred, dim=1).cpu().detach().numpy())\n",
    "    predict = pred.max(1).indices\n",
    "    pred_label.append(predict)\n",
    "    true_label.extend([label])#*len(predict))\n",
    "\n",
    "    correct = torch.sum(predict == label).item()\n",
    "\n",
    "\n",
    "pred_val = np.concatenate(pred_val, axis=0)\n",
    "pred_label = np.concatenate(pred_label, axis=0)\n",
    "true_label = np.concatenate(true_label,axis=0)"
   ]
  },
  {
   "cell_type": "code",
   "execution_count": 175,
   "metadata": {},
   "outputs": [
    {
     "data": {
      "image/png": "[encoded data removed]",
      "text/plain": [
       "<Figure size 1200x800 with 1 Axes>"
      ]
     },
     "metadata": {},
     "output_type": "display_data"
    }
   ],
   "source": [
    "from sklearn.metrics import roc_curve, auc, accuracy_score\n",
    "\n",
    "#### get the ROC curves\n",
    "fpr = {}\n",
    "tpr = {}\n",
    "auc_value = {}\n",
    "plt.figure(figsize=(12,8))\n",
    "for i, label in enumerate(label_names):\n",
    "    fpr[label], tpr[label], threshold = roc_curve((true_label== i), pred_val[:,i])\n",
    "    auc_value[label] = auc(fpr[label], tpr[label])\n",
    "    plt.plot(tpr[label],fpr[label],label='%s tagger, AUC = %.1f%%'%(label,auc_value[label]*100.))\n",
    "#computing accuracy now\n",
    "acc_score = accuracy_score(true_label, pred_label)\n",
    "acc_manual = np.sum(pred_label == true_label)\n",
    "plt.title('Accuracy : {:.3f}'.format(acc_score), fontsize=15)\n",
    "plt.semilogy()\n",
    "plt.xlabel(\"sig. efficiency\",fontsize=15)\n",
    "plt.ylabel(\"bkg. mistag rate\",fontsize=15)\n",
    "plt.ylim(0.001,1)\n",
    "plt.grid(True)\n",
    "plt.legend(loc='lower right',fontsize=15, frameon=False)\n",
    "plt.show()"
   ]
  },
  {
   "cell_type": "markdown",
   "metadata": {},
   "source": [
    "### The AUC is ~ 3% higher when we incorporate the corresponding symmetry-preserving bias!\n",
    "\n",
    "Of course, there is a lot of room to change the architecture, dimension of hidden layers, hyperparameter tuning, etc. But, even without all of this, this showcases how symmetry-preserving behavior is powerful when compared to other standard models, like ParticleNet (which is permutation invariant, so does preserve symmetry to some degree, but not as specific as the LorentzNet)."
   ]
  }
 ],
 "metadata": {
  "accelerator": "GPU",
  "colab": {
   "include_colab_link": true,
   "provenance": []
  },
  "kernelspec": {
   "display_name": "ml4sci",
   "language": "python",
   "name": "ml4sci"
  },
  "language_info": {
   "codemirror_mode": {
    "name": "ipython",
    "version": 3
   },
   "file_extension": ".py",
   "mimetype": "text/x-python",
   "name": "python",
   "nbconvert_exporter": "python",
   "pygments_lexer": "ipython3",
   "version": "3.8.19"
  }
 },
 "nbformat": 4,
 "nbformat_minor": 4
}

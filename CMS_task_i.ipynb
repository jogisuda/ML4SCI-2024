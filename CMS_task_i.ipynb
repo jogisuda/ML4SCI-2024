{
 "cells": [
  {
   "cell_type": "code",
   "execution_count": 1,
   "id": "27fc519a-dc17-4942-be44-d569661179eb",
   "metadata": {
    "tags": []
   },
   "outputs": [
    {
     "name": "stderr",
     "output_type": "stream",
     "text": [
      "/home/jogi/anaconda3/envs/flexi_recommender/lib/python3.9/site-packages/tqdm/auto.py:21: TqdmWarning: IProgress not found. Please update jupyter and ipywidgets. See https://ipywidgets.readthedocs.io/en/stable/user_install.html\n",
      "  from .autonotebook import tqdm as notebook_tqdm\n"
     ]
    }
   ],
   "source": [
    "import numpy as np\n",
    "import torch\n",
    "import torch.nn as nn\n",
    "import json\n",
    "\n",
    "from torchvision import datasets\n",
    "from torchvision import transforms\n",
    "from torch.utils.data.sampler import SubsetRandomSampler\n",
    "from torch.utils.data import TensorDataset, Dataset, random_split\n",
    "\n",
    "# Device configuration\n",
    "device = torch.device('cuda' if torch.cuda.is_available() else 'cpu')"
   ]
  },
  {
   "cell_type": "code",
   "execution_count": 2,
   "id": "e4c53817-5061-4f76-b2ca-287882ea089c",
   "metadata": {
    "tags": []
   },
   "outputs": [],
   "source": [
    "data_path = \"Datasets/CMS_task_i/\""
   ]
  },
  {
   "cell_type": "code",
   "execution_count": 3,
   "id": "12d8cee4-151a-4ce6-b066-36ce74316581",
   "metadata": {
    "tags": []
   },
   "outputs": [],
   "source": [
    "import h5py\n",
    "filename = data_path + \"photons.hdf5\"\n",
    "\n",
    "photons = h5py.File(filename, \"r\")\n",
    "\n",
    "X_photon = torch.Tensor(photons[list(photons.keys())[0]][:])\n",
    "y_photon = torch.Tensor(photons[list(photons.keys())[1]][:])"
   ]
  },
  {
   "cell_type": "code",
   "execution_count": 4,
   "id": "4b1376c8-6196-40bd-a9f2-351e670b6531",
   "metadata": {
    "tags": []
   },
   "outputs": [],
   "source": [
    "filename = data_path + \"electrons.hdf5\"\n",
    "\n",
    "electron = h5py.File(filename, \"r\")\n",
    "\n",
    "X_electron = torch.Tensor(electron[list(electron.keys())[0]][:])\n",
    "y_electron = torch.Tensor(electron[list(electron.keys())[1]][:])"
   ]
  },
  {
   "cell_type": "markdown",
   "id": "972b0a5a-a348-439f-81e3-7fc234e77d82",
   "metadata": {},
   "source": [
    "### let's check X and y dimensions"
   ]
  },
  {
   "cell_type": "code",
   "execution_count": 5,
   "id": "f463fc26-57bc-475a-b643-cb1ee0a4ad47",
   "metadata": {
    "tags": []
   },
   "outputs": [
    {
     "name": "stdout",
     "output_type": "stream",
     "text": [
      "X (photon) has shape: torch.Size([249000, 32, 32, 2])\n",
      "y (photon) has shape: torch.Size([249000])\n"
     ]
    }
   ],
   "source": [
    "print(\"X (photon) has shape: {}\\ny (photon) has shape: {}\".format(X_photon.shape, y_photon.shape))"
   ]
  },
  {
   "cell_type": "code",
   "execution_count": 6,
   "id": "aa37dee6-a291-4cc8-92e9-a03ad140df82",
   "metadata": {
    "tags": []
   },
   "outputs": [
    {
     "name": "stdout",
     "output_type": "stream",
     "text": [
      "X (electron) has shape: torch.Size([249000, 32, 32, 2])\n",
      "y (electron) has shape: torch.Size([249000])\n"
     ]
    }
   ],
   "source": [
    "print(\"X (electron) has shape: {}\\ny (electron) has shape: {}\".format(X_electron.shape, y_electron.shape))"
   ]
  },
  {
   "cell_type": "markdown",
   "id": "997db0de-a2ec-4204-813d-7b520195e839",
   "metadata": {},
   "source": [
    "### And now concat everything along the first dimension"
   ]
  },
  {
   "cell_type": "code",
   "execution_count": 7,
   "id": "7d6a6ea5-bb75-47ed-9386-510d03d47749",
   "metadata": {
    "tags": []
   },
   "outputs": [],
   "source": [
    "X = torch.cat((X_electron, X_photon), axis=0)\n",
    "y = torch.cat((y_electron, y_photon), axis=0)"
   ]
  },
  {
   "cell_type": "code",
   "execution_count": 8,
   "id": "d235b97c-6787-440a-bb43-e76737dd89c8",
   "metadata": {
    "tags": []
   },
   "outputs": [],
   "source": [
    "y = y.type(torch.LongTensor)"
   ]
  },
  {
   "cell_type": "code",
   "execution_count": 9,
   "id": "5a6d47d0-0985-4ee1-a8da-3d3f590842ef",
   "metadata": {
    "tags": []
   },
   "outputs": [
    {
     "name": "stdout",
     "output_type": "stream",
     "text": [
      "X has shape: torch.Size([498000, 32, 32, 2])\n",
      "y has shape: torch.Size([498000])\n"
     ]
    }
   ],
   "source": [
    "print(\"X has shape: {}\\ny has shape: {}\".format(X.shape, y.shape))"
   ]
  },
  {
   "cell_type": "code",
   "execution_count": 10,
   "id": "0480e782-9a44-4227-b696-12ab32f8a591",
   "metadata": {
    "tags": []
   },
   "outputs": [],
   "source": [
    "X = torch.permute(X, (0, 3, 1, 2))"
   ]
  },
  {
   "cell_type": "code",
   "execution_count": 11,
   "id": "ec12244c-6ba7-46f8-a4d1-804244281a37",
   "metadata": {
    "tags": []
   },
   "outputs": [
    {
     "name": "stdout",
     "output_type": "stream",
     "text": [
      "X has shape: torch.Size([498000, 2, 32, 32])\n",
      "y has shape: torch.Size([498000])\n"
     ]
    }
   ],
   "source": [
    "# N C H W\n",
    "# channels first\n",
    "print(\"X has shape: {}\\ny has shape: {}\".format(X.shape, y.shape))"
   ]
  },
  {
   "cell_type": "markdown",
   "id": "b2ccca58-4f5e-4022-90ea-a4c00230d62d",
   "metadata": {},
   "source": [
    "### Some parameters"
   ]
  },
  {
   "cell_type": "code",
   "execution_count": 12,
   "id": "2a97caa6-d709-4eac-9d5a-2d79aaf40751",
   "metadata": {
    "tags": []
   },
   "outputs": [],
   "source": [
    "batch_size = 128"
   ]
  },
  {
   "cell_type": "markdown",
   "id": "c8a7b5b9-3aec-4365-9284-09e4948bcf1c",
   "metadata": {},
   "source": [
    "### Transforms"
   ]
  },
  {
   "cell_type": "code",
   "execution_count": 13,
   "id": "fc5d248c-c674-4cd4-9913-e5a64dae61bf",
   "metadata": {
    "tags": []
   },
   "outputs": [],
   "source": [
    "from torchvision.transforms.functional import rotate\n",
    "from torch.utils.data import Dataset\n",
    "\n",
    "class PhotonElectronDataset(Dataset):\n",
    "    \"\"\"\n",
    "        This class will return the raw-rotationed digit pairs in the VAE encoder latent space.\n",
    "    \"\"\"\n",
    "\n",
    "    def __init__(self, dataset, ds_transforms=None):\n",
    "        \"\"\"\n",
    "        Arguments:\n",
    "            dataset: should be a TensorDataset from PyTorch.\n",
    "        \"\"\"\n",
    "        self.dataset = dataset\n",
    "        self.ds_transforms = ds_transforms\n",
    "\n",
    "    def __len__(self):\n",
    "        return len(self.dataset)\n",
    "\n",
    "    def __getitem__(self, idx):\n",
    "        \"\"\"\n",
    "            each sample returned will consist of the original image\n",
    "            and the rotated image latent representations.\n",
    "        \"\"\"\n",
    "        \n",
    "        if self.ds_transforms:\n",
    "            return self.ds_transforms(self.dataset[idx][0]), self.dataset[idx][1]\n",
    "\n",
    "        return self.dataset[idx][0], self.dataset[idx][1]"
   ]
  },
  {
   "cell_type": "code",
   "execution_count": 14,
   "id": "a81c41b5-5d4d-452b-a71c-fabb82404bae",
   "metadata": {
    "tags": []
   },
   "outputs": [],
   "source": [
    "# define transforms\n",
    "transform = transforms.Compose([\n",
    "        transforms.Resize((224,224)),\n",
    "        transforms.Pad((40, 40, 40, 40))\n",
    "])"
   ]
  },
  {
   "cell_type": "code",
   "execution_count": 15,
   "id": "61b6032f-8235-47d9-9395-6043220b17a3",
   "metadata": {
    "tags": []
   },
   "outputs": [],
   "source": [
    "tensor_ds = TensorDataset(X, y)"
   ]
  },
  {
   "cell_type": "code",
   "execution_count": 16,
   "id": "c5415302-656d-4495-80a8-13402a3eddb9",
   "metadata": {
    "tags": []
   },
   "outputs": [],
   "source": [
    "dataset = PhotonElectronDataset(tensor_ds, transform)"
   ]
  },
  {
   "cell_type": "code",
   "execution_count": 17,
   "id": "bbe5b21e-487e-4751-922a-7f63ca41b882",
   "metadata": {
    "tags": []
   },
   "outputs": [],
   "source": [
    "train_size = int(0.8 * len(y))\n",
    "test_size = len(y) - train_size"
   ]
  },
  {
   "cell_type": "code",
   "execution_count": 18,
   "id": "77144292-8c68-4ed5-85f4-6da61ae08c3a",
   "metadata": {
    "tags": []
   },
   "outputs": [],
   "source": [
    "train_dataset, test_dataset = random_split(dataset, [train_size, test_size])"
   ]
  },
  {
   "cell_type": "code",
   "execution_count": 19,
   "id": "c0c3b8e6-2cb9-45ae-8f1e-01dcb1097972",
   "metadata": {
    "tags": []
   },
   "outputs": [],
   "source": [
    "train_loader = torch.utils.data.DataLoader(\n",
    "        train_dataset, batch_size=batch_size, shuffle=True\n",
    "    )"
   ]
  },
  {
   "cell_type": "code",
   "execution_count": 20,
   "id": "65a2dfbb-09c0-48dc-ae9c-184308da4f2c",
   "metadata": {
    "tags": []
   },
   "outputs": [],
   "source": [
    "test_loader = torch.utils.data.DataLoader(\n",
    "        test_dataset, batch_size=batch_size, shuffle=True\n",
    "    )"
   ]
  },
  {
   "cell_type": "markdown",
   "id": "38714923-c2b5-4443-a84a-d68b2c5bd77f",
   "metadata": {},
   "source": [
    "### ResNet from scratch"
   ]
  },
  {
   "cell_type": "code",
   "execution_count": 21,
   "id": "98f1b7fd-4a60-42bc-9bf8-c27c340a7fab",
   "metadata": {
    "tags": []
   },
   "outputs": [],
   "source": [
    "class ResidualBlock(nn.Module):\n",
    "    def __init__(self, in_channel, out_channels, kernel_sizes, stride=2, paddings = [0,0,0,0],downsample=False, verbose=False):\n",
    "        super(ResidualBlock, self).__init__()\n",
    "\n",
    "        self.verbose = verbose\n",
    "        \n",
    "        self.conv1 = nn.Sequential(\n",
    "                        nn.Conv2d(in_channel, out_channels[0], kernel_size = kernel_sizes[0], stride = 2, padding=paddings[0]),\n",
    "                        nn.BatchNorm2d(out_channels[0]),\n",
    "                        nn.ReLU())\n",
    "        \n",
    "        self.conv2 = nn.Sequential(\n",
    "                        nn.Conv2d(out_channels[0], out_channels[1], kernel_size = kernel_sizes[1], padding=paddings[1]),\n",
    "                        nn.BatchNorm2d(out_channels[1]),\n",
    "                        nn.ReLU())\n",
    "        \n",
    "        self.conv3 = nn.Sequential(\n",
    "                        nn.Conv2d(out_channels[1], out_channels[2], kernel_size = kernel_sizes[2], padding=paddings[2]),\n",
    "                        nn.BatchNorm2d(out_channels[2]))\n",
    "\n",
    "        self.conv4 = nn.Sequential(\n",
    "                        nn.Conv2d(in_channel, out_channels[3], kernel_size = 1, stride=stride, padding=paddings[3]),\n",
    "                        nn.BatchNorm2d(out_channels[3]))\n",
    "        \n",
    "        self.downsample = downsample\n",
    "        self.relu = nn.ReLU()\n",
    "        self.out_channels = out_channels\n",
    "        \n",
    "    def forward(self, x):\n",
    "        residual = self.conv4(x)\n",
    "        \n",
    "        out = self.conv1(x)\n",
    "\n",
    "        if self.verbose:\n",
    "            print(\"input shape: \", x.shape)\n",
    "\n",
    "        if self.verbose:\n",
    "            print(\"Conv1 output shape: \", out.shape)\n",
    "        out = self.conv2(out)\n",
    "        if self.verbose:\n",
    "            print(\"Conv2 output shape: \", out.shape)\n",
    "        out = self.conv3(out)\n",
    "    \n",
    "        if self.verbose:\n",
    "            print(\"Conv3 output shape: \", out.shape)\n",
    "        \n",
    "        # if self.downsample:\n",
    "        #     residual = self.downsample(x)\n",
    "        \n",
    "        if self.verbose:\n",
    "            print(\"output conv-1-2-3 shape: \",out.shape)\n",
    "        if self.verbose:\n",
    "            print(\"skip connection shape: \",residual.shape)\n",
    "\n",
    "        # if self.downsample:\n",
    "        #     residual = F.adaptive_avg_pool2d(residual, (out.size(2), out.size(3)))\n",
    "        \n",
    "        out += residual\n",
    "        out = self.relu(out)\n",
    "        return out"
   ]
  },
  {
   "cell_type": "markdown",
   "id": "a403dbd9-4ac7-4703-8aab-9ec2dd0cb556",
   "metadata": {},
   "source": [
    "### My idea was to add one trainable convolutional layer before the whole architecture to have a third channel."
   ]
  },
  {
   "cell_type": "code",
   "execution_count": 22,
   "id": "5c3dabfd-81c1-4457-a515-b28e45611d21",
   "metadata": {
    "tags": []
   },
   "outputs": [],
   "source": [
    "class ResNet(nn.Module):\n",
    "    def __init__(self, block, num_classes = 2): # Only 2 classes, not 10 like in the original.\n",
    "        super(ResNet, self).__init__()\n",
    "\n",
    "        self.conv0 = nn.Conv2d(2, 3, kernel_size=3, stride=1, padding=1, dilation=1, groups=1, bias=True)\n",
    "        \n",
    "        self.conv1 = nn.Sequential(\n",
    "                        nn.Conv2d(3, 64, kernel_size = 7, stride = 2, padding = 3), # original ResNet uses 3 channels for Imagenet. We have 2 for HEP.\n",
    "                        nn.BatchNorm2d(64),\n",
    "                        nn.ReLU())\n",
    "        \n",
    "        self.maxpool = nn.MaxPool2d(kernel_size = 3, stride = 2, padding=1)\n",
    "        \n",
    "        self.layer0 = ResidualBlock(64, [32,32,64,64], [1,3,1,1], paddings=[0,1,0,0])\n",
    "        self.layer1 = ResidualBlock(64, [64,64,128,128], [1,3,1,1], paddings=[0,1,0,0]) \n",
    "        self.layer2 = ResidualBlock(128, [128,128,256,256], [1,3,1,1], paddings=[0,1,0,0]) \n",
    "        self.layer3 = ResidualBlock(256, [256,256,512,512], [1,3,1,1], paddings=[0,1,0,0]) \n",
    "\n",
    "        self.fc = nn.Linear(12800, num_classes)\n",
    "        \n",
    "    def forward(self, x):\n",
    "\n",
    "        x = self.conv0(x)\n",
    "        # print(\"SHAPE antes: \", x.shape)\n",
    "        x = self.conv1(x)\n",
    "        # print(\"SHAPE : \", x.shape)\n",
    "        x = self.maxpool(x)\n",
    "        # print(\"SHAPE maxpool: \", x.shape)\n",
    "        # print(\"\\nlayer 0 : \\n\")\n",
    "        x = self.layer0(x)\n",
    "        # print(\"\\nlayer 1 : \\n\")\n",
    "        x = self.layer1(x)\n",
    "        # print(\"\\nlayer 2 : \\n\")\n",
    "        x = self.layer2(x)\n",
    "        # print(\"\\nlayer 3 : \\n\")\n",
    "        x = self.layer3(x)\n",
    "\n",
    "        # x = self.avgpool(x)\n",
    "        x = x.view(x.size(0), -1)\n",
    "        x = self.fc(x)\n",
    "\n",
    "        # print(\"\\nx : \\n\", x.shape, x)\n",
    "        # raise\n",
    "\n",
    "        return x"
   ]
  },
  {
   "cell_type": "code",
   "execution_count": 116,
   "id": "545ddaa3-3e1c-45bd-8a3c-d026dce22b42",
   "metadata": {
    "tags": []
   },
   "outputs": [],
   "source": [
    "del model"
   ]
  },
  {
   "cell_type": "code",
   "execution_count": 23,
   "id": "70b5626b-2c8b-4167-943e-e6d4726dafaa",
   "metadata": {
    "scrolled": true,
    "tags": []
   },
   "outputs": [],
   "source": [
    "num_classes = 2\n",
    "num_epochs = 50\n",
    "learning_rate = 1e-3\n",
    "\n",
    "model = ResNet(ResidualBlock).to(device)\n",
    "\n",
    "# Loss and optimizer\n",
    "criterion = nn.CrossEntropyLoss()\n",
    "optimizer = torch.optim.AdamW(model.parameters(), lr=learning_rate, weight_decay = 1e-2)  \n",
    "\n",
    "# Train the model\n",
    "total_step = len(train_loader)"
   ]
  },
  {
   "cell_type": "code",
   "execution_count": 24,
   "id": "9291bab9-8bfc-41fc-b021-43a1fd432047",
   "metadata": {
    "scrolled": true,
    "tags": []
   },
   "outputs": [
    {
     "name": "stdout",
     "output_type": "stream",
     "text": [
      "ResNet(\n",
      "  (conv0): Conv2d(2, 3, kernel_size=(3, 3), stride=(1, 1), padding=(1, 1))\n",
      "  (conv1): Sequential(\n",
      "    (0): Conv2d(3, 64, kernel_size=(7, 7), stride=(2, 2), padding=(3, 3))\n",
      "    (1): BatchNorm2d(64, eps=1e-05, momentum=0.1, affine=True, track_running_stats=True)\n",
      "    (2): ReLU()\n",
      "  )\n",
      "  (maxpool): MaxPool2d(kernel_size=3, stride=2, padding=1, dilation=1, ceil_mode=False)\n",
      "  (layer0): ResidualBlock(\n",
      "    (conv1): Sequential(\n",
      "      (0): Conv2d(64, 32, kernel_size=(1, 1), stride=(2, 2))\n",
      "      (1): BatchNorm2d(32, eps=1e-05, momentum=0.1, affine=True, track_running_stats=True)\n",
      "      (2): ReLU()\n",
      "    )\n",
      "    (conv2): Sequential(\n",
      "      (0): Conv2d(32, 32, kernel_size=(3, 3), stride=(1, 1), padding=(1, 1))\n",
      "      (1): BatchNorm2d(32, eps=1e-05, momentum=0.1, affine=True, track_running_stats=True)\n",
      "      (2): ReLU()\n",
      "    )\n",
      "    (conv3): Sequential(\n",
      "      (0): Conv2d(32, 64, kernel_size=(1, 1), stride=(1, 1))\n",
      "      (1): BatchNorm2d(64, eps=1e-05, momentum=0.1, affine=True, track_running_stats=True)\n",
      "    )\n",
      "    (conv4): Sequential(\n",
      "      (0): Conv2d(64, 64, kernel_size=(1, 1), stride=(2, 2))\n",
      "      (1): BatchNorm2d(64, eps=1e-05, momentum=0.1, affine=True, track_running_stats=True)\n",
      "    )\n",
      "    (relu): ReLU()\n",
      "  )\n",
      "  (layer1): ResidualBlock(\n",
      "    (conv1): Sequential(\n",
      "      (0): Conv2d(64, 64, kernel_size=(1, 1), stride=(2, 2))\n",
      "      (1): BatchNorm2d(64, eps=1e-05, momentum=0.1, affine=True, track_running_stats=True)\n",
      "      (2): ReLU()\n",
      "    )\n",
      "    (conv2): Sequential(\n",
      "      (0): Conv2d(64, 64, kernel_size=(3, 3), stride=(1, 1), padding=(1, 1))\n",
      "      (1): BatchNorm2d(64, eps=1e-05, momentum=0.1, affine=True, track_running_stats=True)\n",
      "      (2): ReLU()\n",
      "    )\n",
      "    (conv3): Sequential(\n",
      "      (0): Conv2d(64, 128, kernel_size=(1, 1), stride=(1, 1))\n",
      "      (1): BatchNorm2d(128, eps=1e-05, momentum=0.1, affine=True, track_running_stats=True)\n",
      "    )\n",
      "    (conv4): Sequential(\n",
      "      (0): Conv2d(64, 128, kernel_size=(1, 1), stride=(2, 2))\n",
      "      (1): BatchNorm2d(128, eps=1e-05, momentum=0.1, affine=True, track_running_stats=True)\n",
      "    )\n",
      "    (relu): ReLU()\n",
      "  )\n",
      "  (layer2): ResidualBlock(\n",
      "    (conv1): Sequential(\n",
      "      (0): Conv2d(128, 128, kernel_size=(1, 1), stride=(2, 2))\n",
      "      (1): BatchNorm2d(128, eps=1e-05, momentum=0.1, affine=True, track_running_stats=True)\n",
      "      (2): ReLU()\n",
      "    )\n",
      "    (conv2): Sequential(\n",
      "      (0): Conv2d(128, 128, kernel_size=(3, 3), stride=(1, 1), padding=(1, 1))\n",
      "      (1): BatchNorm2d(128, eps=1e-05, momentum=0.1, affine=True, track_running_stats=True)\n",
      "      (2): ReLU()\n",
      "    )\n",
      "    (conv3): Sequential(\n",
      "      (0): Conv2d(128, 256, kernel_size=(1, 1), stride=(1, 1))\n",
      "      (1): BatchNorm2d(256, eps=1e-05, momentum=0.1, affine=True, track_running_stats=True)\n",
      "    )\n",
      "    (conv4): Sequential(\n",
      "      (0): Conv2d(128, 256, kernel_size=(1, 1), stride=(2, 2))\n",
      "      (1): BatchNorm2d(256, eps=1e-05, momentum=0.1, affine=True, track_running_stats=True)\n",
      "    )\n",
      "    (relu): ReLU()\n",
      "  )\n",
      "  (layer3): ResidualBlock(\n",
      "    (conv1): Sequential(\n",
      "      (0): Conv2d(256, 256, kernel_size=(1, 1), stride=(2, 2))\n",
      "      (1): BatchNorm2d(256, eps=1e-05, momentum=0.1, affine=True, track_running_stats=True)\n",
      "      (2): ReLU()\n",
      "    )\n",
      "    (conv2): Sequential(\n",
      "      (0): Conv2d(256, 256, kernel_size=(3, 3), stride=(1, 1), padding=(1, 1))\n",
      "      (1): BatchNorm2d(256, eps=1e-05, momentum=0.1, affine=True, track_running_stats=True)\n",
      "      (2): ReLU()\n",
      "    )\n",
      "    (conv3): Sequential(\n",
      "      (0): Conv2d(256, 512, kernel_size=(1, 1), stride=(1, 1))\n",
      "      (1): BatchNorm2d(512, eps=1e-05, momentum=0.1, affine=True, track_running_stats=True)\n",
      "    )\n",
      "    (conv4): Sequential(\n",
      "      (0): Conv2d(256, 512, kernel_size=(1, 1), stride=(2, 2))\n",
      "      (1): BatchNorm2d(512, eps=1e-05, momentum=0.1, affine=True, track_running_stats=True)\n",
      "    )\n",
      "    (relu): ReLU()\n",
      "  )\n",
      "  (fc): Linear(in_features=12800, out_features=2, bias=True)\n",
      ")\n"
     ]
    }
   ],
   "source": [
    "print(model)"
   ]
  },
  {
   "cell_type": "markdown",
   "id": "4f9681f6-e0ad-4ff5-ab7d-8aaff70d9004",
   "metadata": {},
   "source": [
    "## Train"
   ]
  },
  {
   "cell_type": "code",
   "execution_count": 25,
   "id": "06a23a62-53b9-4fb8-9624-3cde5c95e6fb",
   "metadata": {
    "tags": []
   },
   "outputs": [
    {
     "name": "stderr",
     "output_type": "stream",
     "text": [
      "100%|██████████| 3113/3113 [11:39<00:00,  4.45it/s]\n"
     ]
    },
    {
     "name": "stdout",
     "output_type": "stream",
     "text": [
      "Epoch [1/50], Train accuracy: 66.3479 / Loss: 0.6032\n"
     ]
    },
    {
     "name": "stderr",
     "output_type": "stream",
     "text": [
      "100%|██████████| 779/779 [00:56<00:00, 13.71it/s]\n"
     ]
    },
    {
     "name": "stdout",
     "output_type": "stream",
     "text": [
      "Validation accuracy: 69.83835341365462 / validation loss: 455.13471484184265\n"
     ]
    },
    {
     "name": "stderr",
     "output_type": "stream",
     "text": [
      "100%|██████████| 3113/3113 [11:39<00:00,  4.45it/s]\n"
     ]
    },
    {
     "name": "stdout",
     "output_type": "stream",
     "text": [
      "Epoch [2/50], Train accuracy: 71.3022 / Loss: 0.5575\n"
     ]
    },
    {
     "name": "stderr",
     "output_type": "stream",
     "text": [
      "100%|██████████| 779/779 [00:58<00:00, 13.32it/s]\n"
     ]
    },
    {
     "name": "stdout",
     "output_type": "stream",
     "text": [
      "Validation accuracy: 71.41967871485944 / validation loss: 442.12287613749504\n"
     ]
    },
    {
     "name": "stderr",
     "output_type": "stream",
     "text": [
      "100%|██████████| 3113/3113 [11:39<00:00,  4.45it/s]\n"
     ]
    },
    {
     "name": "stdout",
     "output_type": "stream",
     "text": [
      "Epoch [3/50], Train accuracy: 72.0843 / Loss: 0.5533\n"
     ]
    },
    {
     "name": "stderr",
     "output_type": "stream",
     "text": [
      "100%|██████████| 779/779 [00:56<00:00, 13.74it/s]\n"
     ]
    },
    {
     "name": "stdout",
     "output_type": "stream",
     "text": [
      "Validation accuracy: 71.90261044176707 / validation loss: 437.2502802014351\n"
     ]
    },
    {
     "name": "stderr",
     "output_type": "stream",
     "text": [
      "100%|██████████| 3113/3113 [11:39<00:00,  4.45it/s]\n"
     ]
    },
    {
     "name": "stdout",
     "output_type": "stream",
     "text": [
      "Epoch [4/50], Train accuracy: 72.5126 / Loss: 0.5391\n"
     ]
    },
    {
     "name": "stderr",
     "output_type": "stream",
     "text": [
      "100%|██████████| 779/779 [00:56<00:00, 13.71it/s]\n"
     ]
    },
    {
     "name": "stdout",
     "output_type": "stream",
     "text": [
      "Validation accuracy: 72.15160642570281 / validation loss: 432.6467012465\n"
     ]
    },
    {
     "name": "stderr",
     "output_type": "stream",
     "text": [
      "100%|██████████| 3113/3113 [11:42<00:00,  4.43it/s]\n"
     ]
    },
    {
     "name": "stdout",
     "output_type": "stream",
     "text": [
      "Epoch [5/50], Train accuracy: 72.7455 / Loss: 0.6251\n"
     ]
    },
    {
     "name": "stderr",
     "output_type": "stream",
     "text": [
      "100%|██████████| 779/779 [00:56<00:00, 13.79it/s]\n"
     ]
    },
    {
     "name": "stdout",
     "output_type": "stream",
     "text": [
      "Validation accuracy: 72.95682730923694 / validation loss: 425.0837941169739\n"
     ]
    },
    {
     "name": "stderr",
     "output_type": "stream",
     "text": [
      "100%|██████████| 3113/3113 [11:40<00:00,  4.44it/s]\n"
     ]
    },
    {
     "name": "stdout",
     "output_type": "stream",
     "text": [
      "Epoch [6/50], Train accuracy: 72.9636 / Loss: 0.5867\n"
     ]
    },
    {
     "name": "stderr",
     "output_type": "stream",
     "text": [
      "100%|██████████| 779/779 [00:58<00:00, 13.38it/s]\n"
     ]
    },
    {
     "name": "stdout",
     "output_type": "stream",
     "text": [
      "Validation accuracy: 72.58132530120481 / validation loss: 428.717197984457\n"
     ]
    },
    {
     "name": "stderr",
     "output_type": "stream",
     "text": [
      "100%|██████████| 3113/3113 [11:42<00:00,  4.43it/s]\n"
     ]
    },
    {
     "name": "stdout",
     "output_type": "stream",
     "text": [
      "Epoch [7/50], Train accuracy: 73.1606 / Loss: 0.4824\n"
     ]
    },
    {
     "name": "stderr",
     "output_type": "stream",
     "text": [
      "100%|██████████| 779/779 [00:57<00:00, 13.45it/s]\n"
     ]
    },
    {
     "name": "stdout",
     "output_type": "stream",
     "text": [
      "Validation accuracy: 73.12048192771084 / validation loss: 423.877406924963\n"
     ]
    },
    {
     "name": "stderr",
     "output_type": "stream",
     "text": [
      "100%|██████████| 3113/3113 [11:43<00:00,  4.42it/s]\n"
     ]
    },
    {
     "name": "stdout",
     "output_type": "stream",
     "text": [
      "Epoch [8/50], Train accuracy: 73.2809 / Loss: 0.4710\n"
     ]
    },
    {
     "name": "stderr",
     "output_type": "stream",
     "text": [
      "100%|██████████| 779/779 [00:57<00:00, 13.54it/s]\n"
     ]
    },
    {
     "name": "stdout",
     "output_type": "stream",
     "text": [
      "Validation accuracy: 72.64056224899599 / validation loss: 426.29316836595535\n"
     ]
    },
    {
     "name": "stderr",
     "output_type": "stream",
     "text": [
      "100%|██████████| 3113/3113 [11:41<00:00,  4.44it/s]\n"
     ]
    },
    {
     "name": "stdout",
     "output_type": "stream",
     "text": [
      "Epoch [9/50], Train accuracy: 73.4064 / Loss: 0.5217\n"
     ]
    },
    {
     "name": "stderr",
     "output_type": "stream",
     "text": [
      "100%|██████████| 779/779 [00:57<00:00, 13.51it/s]\n"
     ]
    },
    {
     "name": "stdout",
     "output_type": "stream",
     "text": [
      "Validation accuracy: 73.1987951807229 / validation loss: 422.795225083828\n"
     ]
    },
    {
     "name": "stderr",
     "output_type": "stream",
     "text": [
      "100%|██████████| 3113/3113 [11:39<00:00,  4.45it/s]\n"
     ]
    },
    {
     "name": "stdout",
     "output_type": "stream",
     "text": [
      "Epoch [10/50], Train accuracy: 73.5018 / Loss: 0.6221\n"
     ]
    },
    {
     "name": "stderr",
     "output_type": "stream",
     "text": [
      "100%|██████████| 779/779 [00:58<00:00, 13.37it/s]\n"
     ]
    },
    {
     "name": "stdout",
     "output_type": "stream",
     "text": [
      "Validation accuracy: 72.95080321285141 / validation loss: 423.42400577664375\n"
     ]
    },
    {
     "name": "stderr",
     "output_type": "stream",
     "text": [
      "100%|██████████| 3113/3113 [11:40<00:00,  4.45it/s]\n"
     ]
    },
    {
     "name": "stdout",
     "output_type": "stream",
     "text": [
      "Epoch [11/50], Train accuracy: 73.5633 / Loss: 0.5433\n"
     ]
    },
    {
     "name": "stderr",
     "output_type": "stream",
     "text": [
      "100%|██████████| 779/779 [00:57<00:00, 13.54it/s]\n"
     ]
    },
    {
     "name": "stdout",
     "output_type": "stream",
     "text": [
      "Validation accuracy: 73.18373493975903 / validation loss: 421.7777629196644\n"
     ]
    },
    {
     "name": "stderr",
     "output_type": "stream",
     "text": [
      "100%|██████████| 3113/3113 [11:40<00:00,  4.45it/s]\n"
     ]
    },
    {
     "name": "stdout",
     "output_type": "stream",
     "text": [
      "Epoch [12/50], Train accuracy: 73.6288 / Loss: 0.4792\n"
     ]
    },
    {
     "name": "stderr",
     "output_type": "stream",
     "text": [
      "100%|██████████| 779/779 [00:57<00:00, 13.49it/s]\n"
     ]
    },
    {
     "name": "stdout",
     "output_type": "stream",
     "text": [
      "Validation accuracy: 73.21285140562249 / validation loss: 421.5066642463207\n"
     ]
    },
    {
     "name": "stderr",
     "output_type": "stream",
     "text": [
      "100%|██████████| 3113/3113 [11:41<00:00,  4.44it/s]\n"
     ]
    },
    {
     "name": "stdout",
     "output_type": "stream",
     "text": [
      "Epoch [13/50], Train accuracy: 73.7751 / Loss: 0.6262\n"
     ]
    },
    {
     "name": "stderr",
     "output_type": "stream",
     "text": [
      "100%|██████████| 779/779 [00:57<00:00, 13.48it/s]\n"
     ]
    },
    {
     "name": "stdout",
     "output_type": "stream",
     "text": [
      "Validation accuracy: 73.5933734939759 / validation loss: 418.74328660964966\n"
     ]
    },
    {
     "name": "stderr",
     "output_type": "stream",
     "text": [
      "100%|██████████| 3113/3113 [11:41<00:00,  4.44it/s]\n"
     ]
    },
    {
     "name": "stdout",
     "output_type": "stream",
     "text": [
      "Epoch [14/50], Train accuracy: 73.7967 / Loss: 0.5151\n"
     ]
    },
    {
     "name": "stderr",
     "output_type": "stream",
     "text": [
      "100%|██████████| 779/779 [00:57<00:00, 13.47it/s]\n"
     ]
    },
    {
     "name": "stdout",
     "output_type": "stream",
     "text": [
      "Validation accuracy: 73.53614457831326 / validation loss: 419.5775503218174\n"
     ]
    },
    {
     "name": "stderr",
     "output_type": "stream",
     "text": [
      "100%|██████████| 3113/3113 [11:42<00:00,  4.43it/s]\n"
     ]
    },
    {
     "name": "stdout",
     "output_type": "stream",
     "text": [
      "Epoch [15/50], Train accuracy: 73.9051 / Loss: 0.4879\n"
     ]
    },
    {
     "name": "stderr",
     "output_type": "stream",
     "text": [
      "100%|██████████| 779/779 [00:57<00:00, 13.54it/s]\n"
     ]
    },
    {
     "name": "stdout",
     "output_type": "stream",
     "text": [
      "Validation accuracy: 73.58333333333333 / validation loss: 417.9462950527668\n"
     ]
    },
    {
     "name": "stderr",
     "output_type": "stream",
     "text": [
      "100%|██████████| 3113/3113 [11:41<00:00,  4.44it/s]\n"
     ]
    },
    {
     "name": "stdout",
     "output_type": "stream",
     "text": [
      "Epoch [16/50], Train accuracy: 73.9661 / Loss: 0.4577\n"
     ]
    },
    {
     "name": "stderr",
     "output_type": "stream",
     "text": [
      "100%|██████████| 779/779 [00:58<00:00, 13.22it/s]\n"
     ]
    },
    {
     "name": "stdout",
     "output_type": "stream",
     "text": [
      "Validation accuracy: 73.65863453815261 / validation loss: 417.0901833176613\n"
     ]
    },
    {
     "name": "stderr",
     "output_type": "stream",
     "text": [
      "100%|██████████| 3113/3113 [11:41<00:00,  4.44it/s]\n"
     ]
    },
    {
     "name": "stdout",
     "output_type": "stream",
     "text": [
      "Epoch [17/50], Train accuracy: 74.0562 / Loss: 0.5307\n"
     ]
    },
    {
     "name": "stderr",
     "output_type": "stream",
     "text": [
      "100%|██████████| 779/779 [00:57<00:00, 13.48it/s]\n"
     ]
    },
    {
     "name": "stdout",
     "output_type": "stream",
     "text": [
      "Validation accuracy: 73.59136546184739 / validation loss: 418.13355028629303\n"
     ]
    },
    {
     "name": "stderr",
     "output_type": "stream",
     "text": [
      "100%|██████████| 3113/3113 [11:41<00:00,  4.44it/s]\n"
     ]
    },
    {
     "name": "stdout",
     "output_type": "stream",
     "text": [
      "Epoch [18/50], Train accuracy: 74.0580 / Loss: 0.5523\n"
     ]
    },
    {
     "name": "stderr",
     "output_type": "stream",
     "text": [
      "100%|██████████| 779/779 [00:57<00:00, 13.55it/s]\n"
     ]
    },
    {
     "name": "stdout",
     "output_type": "stream",
     "text": [
      "Validation accuracy: 73.59236947791165 / validation loss: 417.9561694562435\n"
     ]
    },
    {
     "name": "stderr",
     "output_type": "stream",
     "text": [
      "100%|██████████| 3113/3113 [11:42<00:00,  4.43it/s]\n"
     ]
    },
    {
     "name": "stdout",
     "output_type": "stream",
     "text": [
      "Epoch [19/50], Train accuracy: 74.2038 / Loss: 0.5346\n"
     ]
    },
    {
     "name": "stderr",
     "output_type": "stream",
     "text": [
      "100%|██████████| 779/779 [00:57<00:00, 13.59it/s]\n"
     ]
    },
    {
     "name": "stdout",
     "output_type": "stream",
     "text": [
      "Validation accuracy: 73.55923694779116 / validation loss: 419.28973269462585\n"
     ]
    },
    {
     "name": "stderr",
     "output_type": "stream",
     "text": [
      "100%|██████████| 3113/3113 [11:41<00:00,  4.44it/s]\n"
     ]
    },
    {
     "name": "stdout",
     "output_type": "stream",
     "text": [
      "Epoch [20/50], Train accuracy: 74.1943 / Loss: 0.5663\n"
     ]
    },
    {
     "name": "stderr",
     "output_type": "stream",
     "text": [
      "100%|██████████| 779/779 [00:57<00:00, 13.52it/s]\n"
     ]
    },
    {
     "name": "stdout",
     "output_type": "stream",
     "text": [
      "Validation accuracy: 73.44076305220884 / validation loss: 419.54751190543175\n"
     ]
    },
    {
     "name": "stderr",
     "output_type": "stream",
     "text": [
      "100%|██████████| 3113/3113 [11:45<00:00,  4.41it/s]\n"
     ]
    },
    {
     "name": "stdout",
     "output_type": "stream",
     "text": [
      "Epoch [21/50], Train accuracy: 74.3037 / Loss: 0.5179\n"
     ]
    },
    {
     "name": "stderr",
     "output_type": "stream",
     "text": [
      "100%|██████████| 779/779 [00:57<00:00, 13.45it/s]\n"
     ]
    },
    {
     "name": "stdout",
     "output_type": "stream",
     "text": [
      "Validation accuracy: 73.83232931726907 / validation loss: 416.3046959936619\n"
     ]
    },
    {
     "name": "stderr",
     "output_type": "stream",
     "text": [
      "100%|██████████| 3113/3113 [11:42<00:00,  4.43it/s]\n"
     ]
    },
    {
     "name": "stdout",
     "output_type": "stream",
     "text": [
      "Epoch [22/50], Train accuracy: 74.3773 / Loss: 0.5121\n"
     ]
    },
    {
     "name": "stderr",
     "output_type": "stream",
     "text": [
      "100%|██████████| 779/779 [00:57<00:00, 13.55it/s]\n"
     ]
    },
    {
     "name": "stdout",
     "output_type": "stream",
     "text": [
      "Validation accuracy: 73.71586345381526 / validation loss: 417.3388133943081\n"
     ]
    },
    {
     "name": "stderr",
     "output_type": "stream",
     "text": [
      "100%|██████████| 3113/3113 [11:42<00:00,  4.43it/s]\n"
     ]
    },
    {
     "name": "stdout",
     "output_type": "stream",
     "text": [
      "Epoch [23/50], Train accuracy: 74.4669 / Loss: 0.5662\n"
     ]
    },
    {
     "name": "stderr",
     "output_type": "stream",
     "text": [
      "100%|██████████| 779/779 [00:58<00:00, 13.41it/s]\n"
     ]
    },
    {
     "name": "stdout",
     "output_type": "stream",
     "text": [
      "Validation accuracy: 72.89859437751004 / validation loss: 424.6370293200016\n"
     ]
    },
    {
     "name": "stderr",
     "output_type": "stream",
     "text": [
      "100%|██████████| 3113/3113 [11:43<00:00,  4.43it/s]\n"
     ]
    },
    {
     "name": "stdout",
     "output_type": "stream",
     "text": [
      "Epoch [24/50], Train accuracy: 74.5233 / Loss: 0.4358\n"
     ]
    },
    {
     "name": "stderr",
     "output_type": "stream",
     "text": [
      "100%|██████████| 779/779 [00:57<00:00, 13.54it/s]\n"
     ]
    },
    {
     "name": "stdout",
     "output_type": "stream",
     "text": [
      "Validation accuracy: 73.51506024096386 / validation loss: 419.8921719789505\n"
     ]
    },
    {
     "name": "stderr",
     "output_type": "stream",
     "text": [
      "100%|██████████| 3113/3113 [11:41<00:00,  4.43it/s]\n"
     ]
    },
    {
     "name": "stdout",
     "output_type": "stream",
     "text": [
      "Epoch [25/50], Train accuracy: 74.5989 / Loss: 0.4267\n"
     ]
    },
    {
     "name": "stderr",
     "output_type": "stream",
     "text": [
      "100%|██████████| 779/779 [00:57<00:00, 13.45it/s]\n"
     ]
    },
    {
     "name": "stdout",
     "output_type": "stream",
     "text": [
      "Validation accuracy: 73.56124497991968 / validation loss: 420.2965717613697\n"
     ]
    },
    {
     "name": "stderr",
     "output_type": "stream",
     "text": [
      "100%|██████████| 3113/3113 [11:43<00:00,  4.43it/s]\n"
     ]
    },
    {
     "name": "stdout",
     "output_type": "stream",
     "text": [
      "Epoch [26/50], Train accuracy: 74.6283 / Loss: 0.5392\n"
     ]
    },
    {
     "name": "stderr",
     "output_type": "stream",
     "text": [
      "100%|██████████| 779/779 [00:57<00:00, 13.54it/s]\n"
     ]
    },
    {
     "name": "stdout",
     "output_type": "stream",
     "text": [
      "Validation accuracy: 73.67369477911646 / validation loss: 418.3039543926716\n"
     ]
    },
    {
     "name": "stderr",
     "output_type": "stream",
     "text": [
      "100%|██████████| 3113/3113 [11:42<00:00,  4.43it/s]\n"
     ]
    },
    {
     "name": "stdout",
     "output_type": "stream",
     "text": [
      "Epoch [27/50], Train accuracy: 74.7558 / Loss: 0.6173\n"
     ]
    },
    {
     "name": "stderr",
     "output_type": "stream",
     "text": [
      "100%|██████████| 3113/3113 [11:40<00:00,  4.44it/s]\n"
     ]
    },
    {
     "name": "stdout",
     "output_type": "stream",
     "text": [
      "Epoch [36/50], Train accuracy: 75.7631 / Loss: 0.4138\n"
     ]
    },
    {
     "name": "stderr",
     "output_type": "stream",
     "text": [
      "100%|██████████| 779/779 [01:00<00:00, 12.88it/s]\n"
     ]
    },
    {
     "name": "stdout",
     "output_type": "stream",
     "text": [
      "Validation accuracy: 73.28714859437751 / validation loss: 427.96770933270454\n"
     ]
    },
    {
     "name": "stderr",
     "output_type": "stream",
     "text": [
      "100%|██████████| 3113/3113 [11:52<00:00,  4.37it/s]\n"
     ]
    },
    {
     "name": "stdout",
     "output_type": "stream",
     "text": [
      "Epoch [37/50], Train accuracy: 75.8918 / Loss: 0.5133\n"
     ]
    },
    {
     "name": "stderr",
     "output_type": "stream",
     "text": [
      "100%|██████████| 779/779 [01:00<00:00, 12.96it/s]\n"
     ]
    },
    {
     "name": "stdout",
     "output_type": "stream",
     "text": [
      "Validation accuracy: 73.11546184738955 / validation loss: 426.32376578450203\n"
     ]
    },
    {
     "name": "stderr",
     "output_type": "stream",
     "text": [
      "100%|██████████| 3113/3113 [11:51<00:00,  4.37it/s]\n"
     ]
    },
    {
     "name": "stdout",
     "output_type": "stream",
     "text": [
      "Epoch [38/50], Train accuracy: 76.0133 / Loss: 0.5871\n"
     ]
    },
    {
     "name": "stderr",
     "output_type": "stream",
     "text": [
      "100%|██████████| 779/779 [01:00<00:00, 12.92it/s]\n"
     ]
    },
    {
     "name": "stdout",
     "output_type": "stream",
     "text": [
      "Validation accuracy: 73.29317269076306 / validation loss: 425.2430007457733\n"
     ]
    },
    {
     "name": "stderr",
     "output_type": "stream",
     "text": [
      "100%|██████████| 3113/3113 [11:50<00:00,  4.38it/s]\n"
     ]
    },
    {
     "name": "stdout",
     "output_type": "stream",
     "text": [
      "Epoch [39/50], Train accuracy: 76.1433 / Loss: 0.4416\n"
     ]
    },
    {
     "name": "stderr",
     "output_type": "stream",
     "text": [
      "100%|██████████| 779/779 [00:59<00:00, 12.99it/s]\n"
     ]
    },
    {
     "name": "stdout",
     "output_type": "stream",
     "text": [
      "Validation accuracy: 73.16666666666667 / validation loss: 428.31611317396164\n"
     ]
    },
    {
     "name": "stderr",
     "output_type": "stream",
     "text": [
      "100%|██████████| 3113/3113 [11:50<00:00,  4.38it/s]\n"
     ]
    },
    {
     "name": "stdout",
     "output_type": "stream",
     "text": [
      "Epoch [40/50], Train accuracy: 76.3517 / Loss: 0.4569\n"
     ]
    },
    {
     "name": "stderr",
     "output_type": "stream",
     "text": [
      "100%|██████████| 779/779 [00:59<00:00, 13.04it/s]\n"
     ]
    },
    {
     "name": "stdout",
     "output_type": "stream",
     "text": [
      "Validation accuracy: 72.94377510040161 / validation loss: 436.14124631881714\n"
     ]
    },
    {
     "name": "stderr",
     "output_type": "stream",
     "text": [
      "100%|██████████| 3113/3113 [11:50<00:00,  4.38it/s]\n"
     ]
    },
    {
     "name": "stdout",
     "output_type": "stream",
     "text": [
      "Epoch [41/50], Train accuracy: 76.4661 / Loss: 0.5352\n"
     ]
    },
    {
     "name": "stderr",
     "output_type": "stream",
     "text": [
      "100%|██████████| 779/779 [01:00<00:00, 12.97it/s]\n"
     ]
    },
    {
     "name": "stdout",
     "output_type": "stream",
     "text": [
      "Validation accuracy: 73.00602409638554 / validation loss: 432.88165950775146\n"
     ]
    },
    {
     "name": "stderr",
     "output_type": "stream",
     "text": [
      "100%|██████████| 3113/3113 [11:50<00:00,  4.38it/s]\n"
     ]
    },
    {
     "name": "stdout",
     "output_type": "stream",
     "text": [
      "Epoch [42/50], Train accuracy: 76.6719 / Loss: 0.4453\n"
     ]
    },
    {
     "name": "stderr",
     "output_type": "stream",
     "text": [
      "100%|██████████| 779/779 [00:59<00:00, 13.16it/s]\n"
     ]
    },
    {
     "name": "stdout",
     "output_type": "stream",
     "text": [
      "Validation accuracy: 72.84236947791165 / validation loss: 436.3695269227028\n"
     ]
    },
    {
     "name": "stderr",
     "output_type": "stream",
     "text": [
      "100%|██████████| 3113/3113 [11:49<00:00,  4.39it/s]\n"
     ]
    },
    {
     "name": "stdout",
     "output_type": "stream",
     "text": [
      "Epoch [43/50], Train accuracy: 76.8727 / Loss: 0.4239\n"
     ]
    },
    {
     "name": "stderr",
     "output_type": "stream",
     "text": [
      "100%|██████████| 779/779 [00:59<00:00, 13.18it/s]\n"
     ]
    },
    {
     "name": "stdout",
     "output_type": "stream",
     "text": [
      "Validation accuracy: 72.72690763052209 / validation loss: 443.80795815587044\n"
     ]
    },
    {
     "name": "stderr",
     "output_type": "stream",
     "text": [
      "100%|██████████| 3113/3113 [11:48<00:00,  4.39it/s]\n"
     ]
    },
    {
     "name": "stdout",
     "output_type": "stream",
     "text": [
      "Epoch [44/50], Train accuracy: 76.9955 / Loss: 0.4780\n"
     ]
    },
    {
     "name": "stderr",
     "output_type": "stream",
     "text": [
      "100%|██████████| 779/779 [00:58<00:00, 13.23it/s]\n"
     ]
    },
    {
     "name": "stdout",
     "output_type": "stream",
     "text": [
      "Validation accuracy: 72.73895582329317 / validation loss: 441.62601512670517\n"
     ]
    },
    {
     "name": "stderr",
     "output_type": "stream",
     "text": [
      "100%|██████████| 3113/3113 [11:48<00:00,  4.39it/s]\n"
     ]
    },
    {
     "name": "stdout",
     "output_type": "stream",
     "text": [
      "Epoch [45/50], Train accuracy: 77.2096 / Loss: 0.4546\n"
     ]
    },
    {
     "name": "stderr",
     "output_type": "stream",
     "text": [
      "100%|██████████| 779/779 [00:58<00:00, 13.42it/s]\n"
     ]
    },
    {
     "name": "stdout",
     "output_type": "stream",
     "text": [
      "Validation accuracy: 72.57831325301204 / validation loss: 444.1111565232277\n"
     ]
    },
    {
     "name": "stderr",
     "output_type": "stream",
     "text": [
      "100%|██████████| 3113/3113 [11:44<00:00,  4.42it/s]\n"
     ]
    },
    {
     "name": "stdout",
     "output_type": "stream",
     "text": [
      "Epoch [46/50], Train accuracy: 77.3838 / Loss: 0.3915\n"
     ]
    },
    {
     "name": "stderr",
     "output_type": "stream",
     "text": [
      "100%|██████████| 779/779 [00:58<00:00, 13.31it/s]\n"
     ]
    },
    {
     "name": "stdout",
     "output_type": "stream",
     "text": [
      "Validation accuracy: 72.46184738955823 / validation loss: 452.8960107266903\n"
     ]
    },
    {
     "name": "stderr",
     "output_type": "stream",
     "text": [
      "100%|██████████| 3113/3113 [11:49<00:00,  4.39it/s]\n"
     ]
    },
    {
     "name": "stdout",
     "output_type": "stream",
     "text": [
      "Epoch [47/50], Train accuracy: 77.6062 / Loss: 0.4541\n"
     ]
    },
    {
     "name": "stderr",
     "output_type": "stream",
     "text": [
      "100%|██████████| 779/779 [01:00<00:00, 12.85it/s]\n"
     ]
    },
    {
     "name": "stdout",
     "output_type": "stream",
     "text": [
      "Validation accuracy: 72.394578313253 / validation loss: 452.5816104412079\n"
     ]
    },
    {
     "name": "stderr",
     "output_type": "stream",
     "text": [
      "100%|██████████| 3113/3113 [11:52<00:00,  4.37it/s]\n"
     ]
    },
    {
     "name": "stdout",
     "output_type": "stream",
     "text": [
      "Epoch [48/50], Train accuracy: 77.7799 / Loss: 0.5113\n"
     ]
    },
    {
     "name": "stderr",
     "output_type": "stream",
     "text": [
      "100%|██████████| 779/779 [01:00<00:00, 12.85it/s]\n"
     ]
    },
    {
     "name": "stdout",
     "output_type": "stream",
     "text": [
      "Validation accuracy: 72.33433734939759 / validation loss: 453.6984914839268\n"
     ]
    },
    {
     "name": "stderr",
     "output_type": "stream",
     "text": [
      "100%|██████████| 3113/3113 [11:52<00:00,  4.37it/s]\n"
     ]
    },
    {
     "name": "stdout",
     "output_type": "stream",
     "text": [
      "Epoch [49/50], Train accuracy: 77.9024 / Loss: 0.5447\n"
     ]
    },
    {
     "name": "stderr",
     "output_type": "stream",
     "text": [
      "100%|██████████| 779/779 [01:01<00:00, 12.75it/s]\n"
     ]
    },
    {
     "name": "stdout",
     "output_type": "stream",
     "text": [
      "Validation accuracy: 72.3012048192771 / validation loss: 457.51171255111694\n"
     ]
    },
    {
     "name": "stderr",
     "output_type": "stream",
     "text": [
      "100%|██████████| 3113/3113 [11:52<00:00,  4.37it/s]\n"
     ]
    },
    {
     "name": "stdout",
     "output_type": "stream",
     "text": [
      "Epoch [50/50], Train accuracy: 78.1785 / Loss: 0.4832\n"
     ]
    },
    {
     "name": "stderr",
     "output_type": "stream",
     "text": [
      "100%|██████████| 779/779 [01:00<00:00, 12.88it/s]"
     ]
    },
    {
     "name": "stdout",
     "output_type": "stream",
     "text": [
      "Validation accuracy: 72.23795180722891 / validation loss: 455.81895673274994\n"
     ]
    },
    {
     "name": "stderr",
     "output_type": "stream",
     "text": [
      "\n"
     ]
    }
   ],
   "source": [
    "import gc\n",
    "from tqdm import tqdm\n",
    "\n",
    "total_step = len(train_loader)\n",
    "\n",
    "### initialize logs\n",
    "res = {'epochs': [], 'train_loss': [], 'val_loss': [],\\\n",
    "       'train_acc': [], 'val_acc': [], 'best_val': 0, 'best_epoch': 0}\n",
    "\n",
    "for epoch in range(num_epochs):\n",
    "    correct = 0\n",
    "    total = 0\n",
    "    total_loss = 0\n",
    "    for i, (images, labels) in tqdm(enumerate(train_loader), total=len(train_loader)):\n",
    "        \n",
    "        optimizer.zero_grad()\n",
    "        \n",
    "        # Move tensors to the configured device\n",
    "        images = images.to(device)\n",
    "        labels = labels.to(device)\n",
    "        \n",
    "        outputs = model(images)\n",
    "        \n",
    "        preds = torch.max(outputs, 1).indices\n",
    "        loss = criterion(outputs, labels)\n",
    "        \n",
    "        correct += (preds == labels).sum().item()\n",
    "        total_loss += loss.item()\n",
    "        total += labels.size(0)\n",
    "        \n",
    "        # Backward and optimize\n",
    "        loss.backward()\n",
    "        optimizer.step()\n",
    "        del images, labels, outputs\n",
    "        torch.cuda.empty_cache()\n",
    "        gc.collect()\n",
    "        \n",
    "    acc = 100 * correct / total\n",
    "    \n",
    "    res['train_acc'].append(acc)\n",
    "    res['train_loss'].append(total_loss)\n",
    "    \n",
    "    print ('Epoch [{}/{}], Train accuracy: {:.4f} / Loss: {:.4f}' \n",
    "                   .format(epoch+1, num_epochs, acc, loss.item()))\n",
    "            \n",
    "    # Validation\n",
    "    with torch.no_grad():\n",
    "        correct = 0\n",
    "        total = 0\n",
    "        total_loss = 0\n",
    "        for images, labels in tqdm(test_loader, total = len(test_loader)):\n",
    "            images = images.to(device)\n",
    "            labels = labels.to(device)\n",
    "            outputs = model(images)\n",
    "            preds = torch.max(outputs, 1).indices\n",
    "            loss = criterion(outputs, labels)\n",
    "            \n",
    "            total_loss += loss.item()\n",
    "            total += labels.size(0)\n",
    "            correct += (preds == labels).sum().item()\n",
    "            del images, labels, outputs\n",
    "            \n",
    "        acc = 100 * correct / total\n",
    "        \n",
    "        if acc > res['best_val']:\n",
    "            res['best_val'] = acc\n",
    "            res['best_epoch'] = epoch\n",
    "            # torch.save(model.state_dict(), \"models/CMS_task_i/best-model.pt\")\n",
    "        \n",
    "        res['val_acc'].append(acc)\n",
    "        res['val_loss'].append(total_loss)\n",
    "        \n",
    "        json_object = json.dumps(res, indent=4)\n",
    "        with open(\"logs/CMS_task_i/train-result-epoch{}.json\".format(epoch), \"w\") as outfile:\n",
    "            outfile.write(json_object)\n",
    "            \n",
    "        print('Validation accuracy: {} / validation loss: {}'.format(acc, total_loss)) "
   ]
  },
  {
   "cell_type": "markdown",
   "id": "48ab36c2-4ce9-4d0e-83c6-eba6f62a573f",
   "metadata": {},
   "source": [
    "The validation loss is some orders of magnitude higher than training because it's not divided per sample."
   ]
  }
 ],
 "metadata": {
  "kernelspec": {
   "display_name": "flexi_recommender",
   "language": "python",
   "name": "flexi_recommender"
  },
  "language_info": {
   "codemirror_mode": {
    "name": "ipython",
    "version": 3
   },
   "file_extension": ".py",
   "mimetype": "text/x-python",
   "name": "python",
   "nbconvert_exporter": "python",
   "pygments_lexer": "ipython3",
   "version": "3.9.18"
  }
 },
 "nbformat": 4,
 "nbformat_minor": 5
}
